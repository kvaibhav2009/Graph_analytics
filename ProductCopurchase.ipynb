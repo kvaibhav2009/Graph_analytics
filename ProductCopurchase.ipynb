{
  "nbformat": 4,
  "nbformat_minor": 0,
  "metadata": {
    "colab": {
      "name": "ProductCopurchase.ipynb",
      "provenance": [],
      "collapsed_sections": [],
      "toc_visible": true
    },
    "kernelspec": {
      "display_name": "Python 3",
      "language": "python",
      "name": "python3"
    },
    "language_info": {
      "codemirror_mode": {
        "name": "ipython",
        "version": 3
      },
      "file_extension": ".py",
      "mimetype": "text/x-python",
      "name": "python",
      "nbconvert_exporter": "python",
      "pygments_lexer": "ipython3",
      "version": "3.7.1"
    },
    "widgets": {
      "application/vnd.jupyter.widget-state+json": {
        "c8edb6701af748f6b2a61dc053aa8334": {
          "model_module": "@jupyter-widgets/controls",
          "model_name": "HBoxModel",
          "state": {
            "_view_name": "HBoxView",
            "_dom_classes": [],
            "_model_name": "HBoxModel",
            "_view_module": "@jupyter-widgets/controls",
            "_model_module_version": "1.5.0",
            "_view_count": null,
            "_view_module_version": "1.5.0",
            "box_style": "",
            "layout": "IPY_MODEL_7099b51792174be586e64955fffbf7d1",
            "_model_module": "@jupyter-widgets/controls",
            "children": [
              "IPY_MODEL_149da3e248414d29938aeb851c9ae815",
              "IPY_MODEL_768cb50046754fbf8fb3e0aa6a271450"
            ]
          }
        },
        "7099b51792174be586e64955fffbf7d1": {
          "model_module": "@jupyter-widgets/base",
          "model_name": "LayoutModel",
          "state": {
            "_view_name": "LayoutView",
            "grid_template_rows": null,
            "right": null,
            "justify_content": null,
            "_view_module": "@jupyter-widgets/base",
            "overflow": null,
            "_model_module_version": "1.2.0",
            "_view_count": null,
            "flex_flow": null,
            "width": null,
            "min_width": null,
            "border": null,
            "align_items": null,
            "bottom": null,
            "_model_module": "@jupyter-widgets/base",
            "top": null,
            "grid_column": null,
            "overflow_y": null,
            "overflow_x": null,
            "grid_auto_flow": null,
            "grid_area": null,
            "grid_template_columns": null,
            "flex": null,
            "_model_name": "LayoutModel",
            "justify_items": null,
            "grid_row": null,
            "max_height": null,
            "align_content": null,
            "visibility": null,
            "align_self": null,
            "height": null,
            "min_height": null,
            "padding": null,
            "grid_auto_rows": null,
            "grid_gap": null,
            "max_width": null,
            "order": null,
            "_view_module_version": "1.2.0",
            "grid_template_areas": null,
            "object_position": null,
            "object_fit": null,
            "grid_auto_columns": null,
            "margin": null,
            "display": null,
            "left": null
          }
        },
        "149da3e248414d29938aeb851c9ae815": {
          "model_module": "@jupyter-widgets/controls",
          "model_name": "FloatProgressModel",
          "state": {
            "_view_name": "ProgressView",
            "style": "IPY_MODEL_a8f0bf4f674543498b4fc350980cb3de",
            "_dom_classes": [],
            "description": "Computing transition probabilities: 100%",
            "_model_name": "FloatProgressModel",
            "bar_style": "success",
            "max": 262111,
            "_view_module": "@jupyter-widgets/controls",
            "_model_module_version": "1.5.0",
            "value": 262111,
            "_view_count": null,
            "_view_module_version": "1.5.0",
            "orientation": "horizontal",
            "min": 0,
            "description_tooltip": null,
            "_model_module": "@jupyter-widgets/controls",
            "layout": "IPY_MODEL_4f7a18a880c745e39f38d98fae3da070"
          }
        },
        "768cb50046754fbf8fb3e0aa6a271450": {
          "model_module": "@jupyter-widgets/controls",
          "model_name": "HTMLModel",
          "state": {
            "_view_name": "HTMLView",
            "style": "IPY_MODEL_1fb7f197b773456b98de5356dd9a40a9",
            "_dom_classes": [],
            "description": "",
            "_model_name": "HTMLModel",
            "placeholder": "​",
            "_view_module": "@jupyter-widgets/controls",
            "_model_module_version": "1.5.0",
            "value": " 262111/262111 [03:02&lt;00:00, 1437.60it/s]",
            "_view_count": null,
            "_view_module_version": "1.5.0",
            "description_tooltip": null,
            "_model_module": "@jupyter-widgets/controls",
            "layout": "IPY_MODEL_abc5f73348f64716a10b831d65015c4f"
          }
        },
        "a8f0bf4f674543498b4fc350980cb3de": {
          "model_module": "@jupyter-widgets/controls",
          "model_name": "ProgressStyleModel",
          "state": {
            "_view_name": "StyleView",
            "_model_name": "ProgressStyleModel",
            "description_width": "initial",
            "_view_module": "@jupyter-widgets/base",
            "_model_module_version": "1.5.0",
            "_view_count": null,
            "_view_module_version": "1.2.0",
            "bar_color": null,
            "_model_module": "@jupyter-widgets/controls"
          }
        },
        "4f7a18a880c745e39f38d98fae3da070": {
          "model_module": "@jupyter-widgets/base",
          "model_name": "LayoutModel",
          "state": {
            "_view_name": "LayoutView",
            "grid_template_rows": null,
            "right": null,
            "justify_content": null,
            "_view_module": "@jupyter-widgets/base",
            "overflow": null,
            "_model_module_version": "1.2.0",
            "_view_count": null,
            "flex_flow": null,
            "width": null,
            "min_width": null,
            "border": null,
            "align_items": null,
            "bottom": null,
            "_model_module": "@jupyter-widgets/base",
            "top": null,
            "grid_column": null,
            "overflow_y": null,
            "overflow_x": null,
            "grid_auto_flow": null,
            "grid_area": null,
            "grid_template_columns": null,
            "flex": null,
            "_model_name": "LayoutModel",
            "justify_items": null,
            "grid_row": null,
            "max_height": null,
            "align_content": null,
            "visibility": null,
            "align_self": null,
            "height": null,
            "min_height": null,
            "padding": null,
            "grid_auto_rows": null,
            "grid_gap": null,
            "max_width": null,
            "order": null,
            "_view_module_version": "1.2.0",
            "grid_template_areas": null,
            "object_position": null,
            "object_fit": null,
            "grid_auto_columns": null,
            "margin": null,
            "display": null,
            "left": null
          }
        },
        "1fb7f197b773456b98de5356dd9a40a9": {
          "model_module": "@jupyter-widgets/controls",
          "model_name": "DescriptionStyleModel",
          "state": {
            "_view_name": "StyleView",
            "_model_name": "DescriptionStyleModel",
            "description_width": "",
            "_view_module": "@jupyter-widgets/base",
            "_model_module_version": "1.5.0",
            "_view_count": null,
            "_view_module_version": "1.2.0",
            "_model_module": "@jupyter-widgets/controls"
          }
        },
        "abc5f73348f64716a10b831d65015c4f": {
          "model_module": "@jupyter-widgets/base",
          "model_name": "LayoutModel",
          "state": {
            "_view_name": "LayoutView",
            "grid_template_rows": null,
            "right": null,
            "justify_content": null,
            "_view_module": "@jupyter-widgets/base",
            "overflow": null,
            "_model_module_version": "1.2.0",
            "_view_count": null,
            "flex_flow": null,
            "width": null,
            "min_width": null,
            "border": null,
            "align_items": null,
            "bottom": null,
            "_model_module": "@jupyter-widgets/base",
            "top": null,
            "grid_column": null,
            "overflow_y": null,
            "overflow_x": null,
            "grid_auto_flow": null,
            "grid_area": null,
            "grid_template_columns": null,
            "flex": null,
            "_model_name": "LayoutModel",
            "justify_items": null,
            "grid_row": null,
            "max_height": null,
            "align_content": null,
            "visibility": null,
            "align_self": null,
            "height": null,
            "min_height": null,
            "padding": null,
            "grid_auto_rows": null,
            "grid_gap": null,
            "max_width": null,
            "order": null,
            "_view_module_version": "1.2.0",
            "grid_template_areas": null,
            "object_position": null,
            "object_fit": null,
            "grid_auto_columns": null,
            "margin": null,
            "display": null,
            "left": null
          }
        }
      }
    }
  },
  "cells": [
    {
      "cell_type": "markdown",
      "metadata": {
        "id": "pWTOAxXQJW4P"
      },
      "source": [
        "# **Problem Statement:**\n",
        "Explore the data set shared SNAP (Stanford Large Network Dataset Collection) product co-purchasing networks) [link](https://snap.stanford.edu/data/#amazon). The key task is the creation of an undirected graph and basis the standard functions deriving some key insights. The assessment expectation has been shared in the early context of this document. The clearly mentioned tools and defined tools and data sets need to be used. Observe the independent and original approach on building this capability.\n"
      ]
    },
    {
      "cell_type": "markdown",
      "metadata": {
        "id": "8TOZpTreL25b"
      },
      "source": [
        ""
      ]
    },
    {
      "cell_type": "markdown",
      "metadata": {
        "id": "Aoez0mWlJm3q"
      },
      "source": [
        "## **Tools & Data Set Details(IMPORTANT)**\n",
        "**Notebook Google collab:**https://colab.research.google.com/\n",
        "####**Languages & framework:**Pyspark | Spark 2.4+\n",
        "---\n",
        "#### **Data Set Details:**(SNAP)https://snap.stanford.edu/data/#amazon\n",
        "#### **Meta Data:**https://snap.stanford.edu/data/amazon-meta.html \n",
        "#### **Data Set:**https://snap.stanford.edu/data/amazon0601.html\n",
        "#### **SNAP Libraries:**https://pypi.org/project/snap-stanford/\n",
        "---\n",
        "\n",
        "\n",
        "\n"
      ]
    },
    {
      "cell_type": "markdown",
      "metadata": {
        "id": "uTmP2W_hlSyw"
      },
      "source": [
        "# **Approach towards deriving insights**\n",
        "We have read,extracted,processed and analyzed information with the required pipeline.Following which we present our insight to increase the sale by :\n",
        " \n",
        "1.   Targeting popular products\n",
        "2.   Target the products which create demand and lead to co purchase\n",
        "3.   Increasing co purchase pair\n",
        "\n"
      ]
    },
    {
      "cell_type": "markdown",
      "metadata": {
        "id": "AqBDnDv9YnMV"
      },
      "source": [
        "# **Index**\n",
        "\n",
        "<a href='#1'>Step 1: Load the data set (only using Spark based) </a> <br>\n",
        "<a href='#2'>Step 2: Data extraction (both transaction and meta data)</a><br>\n",
        "<a href='#3'>Step 3: Understanding of the provided data set (both transaction and meta data)</a></br>\n",
        "<a href='#4'>Step 4: Linking transactional data and meta data</a></br>\n",
        "<a href='#5'>Step 5: Analytics based on metadata linked transaction information </a></br>\n",
        "\n",
        "\n",
        "1.   <a href='#5.1'>How is copurchasing a product dependent on  Average rating when we first buy</a></br>\n",
        "2.   <a href='#5.2'>How is copurchasing a product dependent on  Average rating</a></br>\n",
        "3.   <a href='#5.3'>Analzying co purchase within same group</a></br>\n",
        "4.   <a href='#5.4'>Analzying co purchase across the diverse group</a></br>\n",
        "\n",
        "<a href='#6'>Step 6: Graph Representation</a></br>\n",
        "1. <a href='#6.1'>Creation of graph using transaction data </a></br>\n",
        "2. <a href='#6.2'>Connected component </a></br>\n",
        "3. <a href='#6.3'>Get indegree and outdegree for every node</a></br>\n",
        "4. <a href='#6.4'>Importance/Popularity Score for every node</a></br>\n",
        "\n",
        "<a href='#7'>Step 7: Using Graph based analysis to improve the sale and drive the focus area </a></br>\n",
        "1. <a href='#7.1'>Popular products are the ones with high page_rank/centrality score </a></br>\n",
        "2. <a href='#7.2'>Products which might rose to popularity </a></br>\n",
        "3. <a href='#7.3'>Products which should be targeted inorder to trigger the sale of others</a></br>\n",
        "4. <a href='#7.4'>Product sale within the same and diverse product group </a></br>\n",
        "\n",
        "<a href='#8'>Step 8: Improving product recommendation </a></br>\n",
        "1.  <a href='#8.1'>Using Open traid </a></br>\n",
        "2. <a href='#8.2'>Using Node2vec </a></br>\n",
        "\n",
        "<a href='#9'>Step 9: Proposed extension </a></br>\n",
        "1.  <a href='#9.1'>Title based similarty score </a></br>\n",
        "2. <a href='#9.2'>Using category navigation  </a></br>\n",
        "\n",
        "\n",
        "\n",
        "<a href='#9'> Proposed extensions</a>\n",
        "\n"
      ]
    },
    {
      "cell_type": "markdown",
      "metadata": {
        "id": "JnLL-XLxNRX6"
      },
      "source": [
        "##**Step 1:** Load the data set (only using Spark based) <a name='1'>"
      ]
    },
    {
      "cell_type": "code",
      "metadata": {
        "id": "60M1Pjo2NaG0",
        "colab": {
          "base_uri": "https://localhost:8080/"
        },
        "outputId": "7ef10f2a-87ec-4d7c-e74a-85ade889c4a8"
      },
      "source": [
        "'''Preparing the environment'''\n",
        "import os\n",
        "import sys\n",
        "if 'COLAB_GPU' in os.environ:\n",
        "    !pip install pyspark\n",
        "    !pip install snap-stanford\n",
        "    !pip install node2vec\n",
        "    !git clone https://github.com/snap-stanford/snap-python.git\n",
        "    !git clone https://github.com/snap-stanford/snap.git\n",
        "    amazon0302_link='https://snap.stanford.edu/data/amazon0302.txt.gz'\n",
        "    amazon0312_link='https://snap.stanford.edu/data/amazon0312.txt.gz'\n",
        "    amazonmeta_link='https://snap.stanford.edu/data/bigdata/amazon/amazon-meta.txt.gz'\n",
        "    amazon0601_link='https://snap.stanford.edu/data/amazon0601.txt.gz'\n",
        "    downloads=[amazon0302_link,amazon0312_link,amazonmeta_link,amazon0601_link]\n",
        "    for link in downloads:\n",
        "        !wget {link}\n",
        "        !gunzip {link.split('/')[-1]}\n"
      ],
      "execution_count": null,
      "outputs": [
        {
          "output_type": "stream",
          "text": [
            "Requirement already satisfied: pyspark in /usr/local/lib/python3.7/dist-packages (3.1.1)\n",
            "Requirement already satisfied: py4j==0.10.9 in /usr/local/lib/python3.7/dist-packages (from pyspark) (0.10.9)\n",
            "Requirement already satisfied: snap-stanford in /usr/local/lib/python3.7/dist-packages (6.0.0)\n",
            "Requirement already satisfied: node2vec in /usr/local/lib/python3.7/dist-packages (0.4.3)\n",
            "Requirement already satisfied: tqdm in /usr/local/lib/python3.7/dist-packages (from node2vec) (4.41.1)\n",
            "Requirement already satisfied: gensim in /usr/local/lib/python3.7/dist-packages (from node2vec) (3.6.0)\n",
            "Requirement already satisfied: numpy in /usr/local/lib/python3.7/dist-packages (from node2vec) (1.19.5)\n",
            "Requirement already satisfied: joblib>=0.13.2 in /usr/local/lib/python3.7/dist-packages (from node2vec) (1.0.1)\n",
            "Requirement already satisfied: networkx in /usr/local/lib/python3.7/dist-packages (from node2vec) (2.5.1)\n",
            "Requirement already satisfied: scipy>=0.18.1 in /usr/local/lib/python3.7/dist-packages (from gensim->node2vec) (1.4.1)\n",
            "Requirement already satisfied: smart-open>=1.2.1 in /usr/local/lib/python3.7/dist-packages (from gensim->node2vec) (5.0.0)\n",
            "Requirement already satisfied: six>=1.5.0 in /usr/local/lib/python3.7/dist-packages (from gensim->node2vec) (1.15.0)\n",
            "Requirement already satisfied: decorator<5,>=4.3 in /usr/local/lib/python3.7/dist-packages (from networkx->node2vec) (4.4.2)\n",
            "fatal: destination path 'snap-python' already exists and is not an empty directory.\n",
            "fatal: destination path 'snap' already exists and is not an empty directory.\n",
            "--2021-05-27 02:24:46--  https://snap.stanford.edu/data/amazon0302.txt.gz\n",
            "Resolving snap.stanford.edu (snap.stanford.edu)... 171.64.75.80\n",
            "Connecting to snap.stanford.edu (snap.stanford.edu)|171.64.75.80|:443... connected.\n",
            "HTTP request sent, awaiting response... 200 OK\n",
            "Length: 4664334 (4.4M) [application/x-gzip]\n",
            "Saving to: ‘amazon0302.txt.gz’\n",
            "\n",
            "amazon0302.txt.gz   100%[===================>]   4.45M  5.46MB/s    in 0.8s    \n",
            "\n",
            "2021-05-27 02:24:47 (5.46 MB/s) - ‘amazon0302.txt.gz’ saved [4664334/4664334]\n",
            "\n",
            "gzip: amazon0302.txt already exists; do you wish to overwrite (y or n)? ^C\n",
            "--2021-05-27 02:25:08--  https://snap.stanford.edu/data/amazon0312.txt.gz\n",
            "Resolving snap.stanford.edu (snap.stanford.edu)... 171.64.75.80\n",
            "Connecting to snap.stanford.edu (snap.stanford.edu)|171.64.75.80|:443... connected.\n",
            "HTTP request sent, awaiting response... 200 OK\n",
            "Length: 11304294 (11M) [application/x-gzip]\n",
            "Saving to: ‘amazon0312.txt.gz’\n",
            "\n",
            "amazon0312.txt.gz   100%[===================>]  10.78M  10.3MB/s    in 1.0s    \n",
            "\n",
            "2021-05-27 02:25:09 (10.3 MB/s) - ‘amazon0312.txt.gz’ saved [11304294/11304294]\n",
            "\n",
            "gzip: amazon0312.txt already exists; do you wish to overwrite (y or n)? ^C\n",
            "--2021-05-27 02:25:13--  https://snap.stanford.edu/data/bigdata/amazon/amazon-meta.txt.gz\n",
            "Resolving snap.stanford.edu (snap.stanford.edu)... 171.64.75.80\n",
            "Connecting to snap.stanford.edu (snap.stanford.edu)|171.64.75.80|:443... connected.\n",
            "HTTP request sent, awaiting response... 200 OK\n",
            "Length: 210807517 (201M) [application/x-gzip]\n",
            "Saving to: ‘amazon-meta.txt.gz’\n",
            "\n",
            "amazon-meta.txt.gz  100%[===================>] 201.04M  4.84MB/s    in 14s     \n",
            "\n",
            "2021-05-27 02:25:28 (14.0 MB/s) - ‘amazon-meta.txt.gz’ saved [210807517/210807517]\n",
            "\n",
            "gzip: amazon-meta.txt already exists; do you wish to overwrite (y or n)? ^C\n",
            "--2021-05-27 02:25:35--  https://snap.stanford.edu/data/amazon0601.txt.gz\n",
            "Resolving snap.stanford.edu (snap.stanford.edu)... 171.64.75.80\n",
            "Connecting to snap.stanford.edu (snap.stanford.edu)|171.64.75.80|:443... connected.\n",
            "HTTP request sent, awaiting response... 200 OK\n",
            "Length: 11807430 (11M) [application/x-gzip]\n",
            "Saving to: ‘amazon0601.txt.gz’\n",
            "\n",
            "amazon0601.txt.gz   100%[===================>]  11.26M  3.12MB/s    in 3.6s    \n",
            "\n",
            "2021-05-27 02:25:39 (3.12 MB/s) - ‘amazon0601.txt.gz’ saved [11807430/11807430]\n",
            "\n",
            "gzip: amazon0601.txt already exists; do you wish to overwrite (y or n)? ^C\n"
          ],
          "name": "stdout"
        }
      ]
    },
    {
      "cell_type": "code",
      "metadata": {
        "id": "PxNnvECezdvV"
      },
      "source": [
        "import pandas as pd\n",
        "import numpy as np\n",
        "from pyspark.sql import SparkSession\n",
        "from pyspark import SparkContext\n",
        "from pyspark.sql import SQLContext\n",
        "from pyspark.sql.types import *\n",
        "import pyspark.sql.functions as F\n",
        "from pyspark.sql.functions import *\n",
        "import re"
      ],
      "execution_count": null,
      "outputs": []
    },
    {
      "cell_type": "code",
      "metadata": {
        "id": "Y8B8pSepzdr_"
      },
      "source": [
        "spark = SparkSession.builder.getOrCreate()\n",
        "sc= SparkContext.getOrCreate();"
      ],
      "execution_count": null,
      "outputs": []
    },
    {
      "cell_type": "code",
      "metadata": {
        "id": "Pvcq91cE0DB1"
      },
      "source": [
        "trans_file='amazon0302.txt'\n",
        "meta_file='amazon-meta.txt'"
      ],
      "execution_count": null,
      "outputs": []
    },
    {
      "cell_type": "code",
      "metadata": {
        "colab": {
          "base_uri": "https://localhost:8080/"
        },
        "id": "gx7je-hB0C-e",
        "outputId": "91c8548e-6af7-474b-f2d0-1dc90a3f6655"
      },
      "source": [
        "contentRDD=sc.textFile(trans_file)\n",
        "filterDD = contentRDD.filter(lambda l: not l.startswith('#'))\n",
        "filterDD.take(10)"
      ],
      "execution_count": null,
      "outputs": [
        {
          "output_type": "execute_result",
          "data": {
            "text/plain": [
              "['0\\t1',\n",
              " '0\\t2',\n",
              " '0\\t3',\n",
              " '0\\t4',\n",
              " '0\\t5',\n",
              " '1\\t0',\n",
              " '1\\t2',\n",
              " '1\\t4',\n",
              " '1\\t5',\n",
              " '1\\t15']"
            ]
          },
          "metadata": {
            "tags": []
          },
          "execution_count": 13
        }
      ]
    },
    {
      "cell_type": "code",
      "metadata": {
        "colab": {
          "base_uri": "https://localhost:8080/"
        },
        "id": "jsOMoBHO0C6u",
        "outputId": "6517ce54-9dc6-4e02-ac84-b48444193753"
      },
      "source": [
        "'''Extracting edge record set'''\n",
        "def get_edge_record(x):\n",
        "    return [*x.split('\\t')]\n",
        "trans_data=filterDD.map(lambda x:get_edge_record(x))\n",
        "trans_data.take(2)"
      ],
      "execution_count": null,
      "outputs": [
        {
          "output_type": "execute_result",
          "data": {
            "text/plain": [
              "[['0', '1'], ['0', '2']]"
            ]
          },
          "metadata": {
            "tags": []
          },
          "execution_count": 14
        }
      ]
    },
    {
      "cell_type": "code",
      "metadata": {
        "colab": {
          "base_uri": "https://localhost:8080/"
        },
        "id": "7xL5RTY40C32",
        "outputId": "f727e645-7c08-47d5-86d2-39dce97d160a"
      },
      "source": [
        "text_rdd=spark.read.text(meta_file,lineSep='\\r\\n\\r\\n')\n",
        "records=text_rdd.rdd.filter(lambda l: (not (l.value.startswith('#')) and (not l.value.__contains__('  discontinued product'))))\n",
        "records=records.map(lambda x : x.value.split('\\r\\n'))\n",
        "records.take(3)"
      ],
      "execution_count": null,
      "outputs": [
        {
          "output_type": "execute_result",
          "data": {
            "text/plain": [
              "[['Id:   1',\n",
              "  'ASIN: 0827229534',\n",
              "  '  title: Patterns of Preaching: A Sermon Sampler',\n",
              "  '  group: Book',\n",
              "  '  salesrank: 396585',\n",
              "  '  similar: 5  0804215715  156101074X  0687023955  0687074231  082721619X',\n",
              "  '  categories: 2',\n",
              "  '   |Books[283155]|Subjects[1000]|Religion & Spirituality[22]|Christianity[12290]|Clergy[12360]|Preaching[12368]',\n",
              "  '   |Books[283155]|Subjects[1000]|Religion & Spirituality[22]|Christianity[12290]|Clergy[12360]|Sermons[12370]',\n",
              "  '  reviews: total: 2  downloaded: 2  avg rating: 5',\n",
              "  '    2000-7-28  cutomer: A2JW67OY8U6HHK  rating: 5  votes:  10  helpful:   9',\n",
              "  '    2003-12-14  cutomer: A2VE83MZF98ITY  rating: 5  votes:   6  helpful:   5'],\n",
              " ['Id:   2',\n",
              "  'ASIN: 0738700797',\n",
              "  '  title: Candlemas: Feast of Flames',\n",
              "  '  group: Book',\n",
              "  '  salesrank: 168596',\n",
              "  '  similar: 5  0738700827  1567184960  1567182836  0738700525  0738700940',\n",
              "  '  categories: 2',\n",
              "  '   |Books[283155]|Subjects[1000]|Religion & Spirituality[22]|Earth-Based Religions[12472]|Wicca[12484]',\n",
              "  '   |Books[283155]|Subjects[1000]|Religion & Spirituality[22]|Earth-Based Religions[12472]|Witchcraft[12486]',\n",
              "  '  reviews: total: 12  downloaded: 12  avg rating: 4.5',\n",
              "  '    2001-12-16  cutomer: A11NCO6YTE4BTJ  rating: 5  votes:   5  helpful:   4',\n",
              "  '    2002-1-7  cutomer:  A9CQ3PLRNIR83  rating: 4  votes:   5  helpful:   5',\n",
              "  '    2002-1-24  cutomer: A13SG9ACZ9O5IM  rating: 5  votes:   8  helpful:   8',\n",
              "  '    2002-1-28  cutomer: A1BDAI6VEYMAZA  rating: 5  votes:   4  helpful:   4',\n",
              "  '    2002-2-6  cutomer: A2P6KAWXJ16234  rating: 4  votes:  16  helpful:  16',\n",
              "  '    2002-2-14  cutomer:  AMACWC3M7PQFR  rating: 4  votes:   5  helpful:   5',\n",
              "  '    2002-3-23  cutomer: A3GO7UV9XX14D8  rating: 4  votes:   6  helpful:   6',\n",
              "  '    2002-5-23  cutomer: A1GIL64QK68WKL  rating: 5  votes:   8  helpful:   8',\n",
              "  '    2003-2-25  cutomer:  AEOBOF2ONQJWV  rating: 5  votes:   8  helpful:   5',\n",
              "  '    2003-11-25  cutomer: A3IGHTES8ME05L  rating: 5  votes:   5  helpful:   5',\n",
              "  '    2004-2-11  cutomer: A1CP26N8RHYVVO  rating: 1  votes:  13  helpful:   9',\n",
              "  '    2005-2-7  cutomer:  ANEIANH0WAT9D  rating: 5  votes:   1  helpful:   1'],\n",
              " ['Id:   3',\n",
              "  'ASIN: 0486287785',\n",
              "  '  title: World War II Allied Fighter Planes Trading Cards',\n",
              "  '  group: Book',\n",
              "  '  salesrank: 1270652',\n",
              "  '  similar: 0',\n",
              "  '  categories: 1',\n",
              "  '   |Books[283155]|Subjects[1000]|Home & Garden[48]|Crafts & Hobbies[5126]|General[5144]',\n",
              "  '  reviews: total: 1  downloaded: 1  avg rating: 5',\n",
              "  '    2003-7-10  cutomer: A3IDGASRQAW8B2  rating: 5  votes:   2  helpful:   2']]"
            ]
          },
          "metadata": {
            "tags": []
          },
          "execution_count": 15
        }
      ]
    },
    {
      "cell_type": "code",
      "metadata": {
        "id": "KA8-oOIfzdod"
      },
      "source": [
        ""
      ],
      "execution_count": null,
      "outputs": []
    },
    {
      "cell_type": "code",
      "metadata": {
        "id": "yAO_dd-szdkj"
      },
      "source": [
        ""
      ],
      "execution_count": null,
      "outputs": []
    },
    {
      "cell_type": "markdown",
      "metadata": {
        "id": "QPb1iMygNiX3"
      },
      "source": [
        "# **Step 2:** Data extraction (both transaction and meta data) <a name='2'></a>"
      ]
    },
    {
      "cell_type": "code",
      "metadata": {
        "id": "BJzQ4JlSNyIQ",
        "colab": {
          "base_uri": "https://localhost:8080/"
        },
        "outputId": "13554099-fe22-498d-f5ca-36290933a834"
      },
      "source": [
        "# Extracting product meta information \n",
        "def extract_meta_info(x):\n",
        "\n",
        "    x_dict=dict()\n",
        "    for ele in x:\n",
        "        split=ele.split(':')\n",
        "        x_dict[split[0].strip()]=split[1:]\n",
        "    ID=int(x_dict['Id'][0])\n",
        "    asin=x_dict['ASIN'][0].strip()\n",
        "    title=x_dict.get('title',[\"None\"])[0].strip()\n",
        "    group=x_dict.get('group',[\"None\"])[0].strip()\n",
        "    sales_rank=int(x_dict.get('salesrank',[\"-1\"])[0].strip())\n",
        "    nproduct_similar=int(x_dict.get('similar',['0'])[0].split('  ')[0])\n",
        "    \n",
        "    total_rating=0\n",
        "    avg_rating=0\n",
        "    if \"reviews\" in x_dict.keys():\n",
        "        review=''.join(x_dict['reviews'])\n",
        "        total_rating = int(re.findall(\"total (\\d+)\",review)[0])\n",
        "        avg_rating=int(re.findall(\"avg\\ rating\\ (\\d+)\",review)[0])\n",
        "\n",
        "    \n",
        "    return [ID,asin,group,title,sales_rank,nproduct_similar,total_rating,avg_rating]\n",
        "\n",
        "\n",
        "meta_table=spark.createDataFrame(records.map(lambda x: extract_meta_info(x)),schema=['ID','ASIN','group','title','sales_rank','np_similar','total_rating','avg_rating'])\n",
        "\n",
        "meta_table.show()\n"
      ],
      "execution_count": null,
      "outputs": [
        {
          "output_type": "stream",
          "text": [
            "+---+----------+-----+--------------------+----------+----------+------------+----------+\n",
            "| ID|      ASIN|group|               title|sales_rank|np_similar|total_rating|avg_rating|\n",
            "+---+----------+-----+--------------------+----------+----------+------------+----------+\n",
            "|  1|0827229534| Book|Patterns of Preac...|    396585|         5|           2|         5|\n",
            "|  2|0738700797| Book|           Candlemas|    168596|         5|          12|         4|\n",
            "|  3|0486287785| Book|World War II Alli...|   1270652|         0|           1|         5|\n",
            "|  4|0842328327| Book|Life Application ...|    631289|         5|           1|         4|\n",
            "|  5|1577943082| Book|Prayers That Avai...|    455160|         5|           0|         0|\n",
            "|  6|0486220125| Book|How the Other Hal...|    188784|         5|          17|         4|\n",
            "|  7|B00000AU3R|Music|               Batik|      5392|         5|           3|         4|\n",
            "|  8|0231118597| Book| Losing Matt Shepard|    277409|         5|          15|         4|\n",
            "|  9|1859677800| Book|        Making Bread|    949166|         0|           0|         0|\n",
            "| 10|0375709363| Book|The Edward Said R...|    220379|         5|           6|         4|\n",
            "| 11|0871318237| Book| Resetting the Clock|    412962|         5|           1|         5|\n",
            "| 12|1590770218| Book|Fantastic Food wi...|     24741|         5|          12|         4|\n",
            "| 13|0313230269| Book|    Clockwork Worlds|   2895088|         0|           0|         0|\n",
            "| 14|B00004W1W1|Music|            Later...|    390624|         0|           0|         0|\n",
            "| 15|1559362022| Book|Wake Up and Smell...|    518927|         5|           8|         4|\n",
            "| 16|0195110382| Book|          War at Sea|    631564|         5|          10|         4|\n",
            "| 17|0849311012| Book|Telecommunication...|    570183|         4|           3|         3|\n",
            "| 18|B000007R0T|Music|         Sol to Soul|    109301|         5|          15|         5|\n",
            "| 19|078510870X| Book|Ultimate Marvel T...|    612475|         5|           8|         3|\n",
            "| 20|3895780812| Book| Computed Tomography|    179448|         5|           1|         5|\n",
            "+---+----------+-----+--------------------+----------+----------+------------+----------+\n",
            "only showing top 20 rows\n",
            "\n"
          ],
          "name": "stdout"
        }
      ]
    },
    {
      "cell_type": "code",
      "metadata": {
        "id": "jx9rD2AW5TSF"
      },
      "source": [
        "# Reading transaction data to spark dataframe\n",
        "trans_sdf=spark.createDataFrame(trans_data,schema=['src','dest'])"
      ],
      "execution_count": null,
      "outputs": []
    },
    {
      "cell_type": "code",
      "metadata": {
        "id": "u0A0AnMfA4ia"
      },
      "source": [
        ""
      ],
      "execution_count": null,
      "outputs": []
    },
    {
      "cell_type": "markdown",
      "metadata": {
        "id": "c35H4IvcATDN"
      },
      "source": [
        "## **Step 3:** : Understanding of the provided data set (both transaction and meta data) <a name='3'> </a>"
      ]
    },
    {
      "cell_type": "code",
      "metadata": {
        "colab": {
          "base_uri": "https://localhost:8080/"
        },
        "id": "W-0ICXgPAlvI",
        "outputId": "481449ae-be72-4cc5-fdca-2420d6f5cd40"
      },
      "source": [
        "print(\"Product group count present in meta data\")\n",
        "group_items=meta_table.groupby('group').count()\n",
        "group_items.show()"
      ],
      "execution_count": null,
      "outputs": [
        {
          "output_type": "stream",
          "text": [
            "Product group count present in meta data\n",
            "+------------+------+\n",
            "|       group| count|\n",
            "+------------+------+\n",
            "|       Video| 26131|\n",
            "|         Toy|     8|\n",
            "|         DVD| 19828|\n",
            "|      Sports|     1|\n",
            "|Baby Product|     1|\n",
            "| Video Games|     1|\n",
            "|        Book|393561|\n",
            "|       Music|103144|\n",
            "|    Software|     5|\n",
            "|          CE|     4|\n",
            "+------------+------+\n",
            "\n"
          ],
          "name": "stdout"
        }
      ]
    },
    {
      "cell_type": "code",
      "metadata": {
        "colab": {
          "base_uri": "https://localhost:8080/"
        },
        "id": "ViAJVxfpAlr0",
        "outputId": "0a787157-5c69-405e-a71c-03456935ab0e"
      },
      "source": [
        "#Get the birectional data\n",
        "birec=trans_sdf.alias('a').join(trans_sdf.alias('b'),(col('a.src')==col('b.dest')) & (col('a.dest')==col('b.src'))).select(trans_sdf['*'])\n",
        "birec.show(3)"
      ],
      "execution_count": null,
      "outputs": [
        {
          "output_type": "stream",
          "text": [
            "+------+------+\n",
            "|   src|  dest|\n",
            "+------+------+\n",
            "|100071| 76343|\n",
            "|100084| 78003|\n",
            "|100187|156222|\n",
            "+------+------+\n",
            "only showing top 3 rows\n",
            "\n"
          ],
          "name": "stdout"
        }
      ]
    },
    {
      "cell_type": "code",
      "metadata": {
        "colab": {
          "base_uri": "https://localhost:8080/"
        },
        "id": "DAJLelXK5TAV",
        "outputId": "a99a64b8-2102-413c-a4b4-5d3c9b5ce3b9"
      },
      "source": [
        "bidir_pairs=birec.count()/2\n",
        "bidir_pairs"
      ],
      "execution_count": null,
      "outputs": [
        {
          "output_type": "execute_result",
          "data": {
            "text/plain": [
              "335085.0"
            ]
          },
          "metadata": {
            "tags": []
          },
          "execution_count": 20
        }
      ]
    },
    {
      "cell_type": "code",
      "metadata": {
        "colab": {
          "base_uri": "https://localhost:8080/"
        },
        "id": "UbzwFfCQC-jD",
        "outputId": "26c55f40-e05e-451c-f33b-27e2a1c0b8d7"
      },
      "source": [
        "total_pairs=trans_sdf.groupby('src','dest').count().count()\n",
        "total_pairs"
      ],
      "execution_count": null,
      "outputs": [
        {
          "output_type": "execute_result",
          "data": {
            "text/plain": [
              "1234877"
            ]
          },
          "metadata": {
            "tags": []
          },
          "execution_count": 21
        }
      ]
    },
    {
      "cell_type": "code",
      "metadata": {
        "colab": {
          "base_uri": "https://localhost:8080/"
        },
        "id": "rO3XH3j9C-fp",
        "outputId": "b98fff84-8c39-4e2d-fb6c-28860eee0c94"
      },
      "source": [
        "print(\"{0:0.2f} % of the purchase pair are two way\".format(100*bidir_pairs/total_pairs))"
      ],
      "execution_count": null,
      "outputs": [
        {
          "output_type": "stream",
          "text": [
            "27.14 % of the purchase pair are two way\n"
          ],
          "name": "stdout"
        }
      ]
    },
    {
      "cell_type": "code",
      "metadata": {
        "id": "xAgXbBk2G5Ve"
      },
      "source": [
        ""
      ],
      "execution_count": null,
      "outputs": []
    },
    {
      "cell_type": "code",
      "metadata": {
        "colab": {
          "base_uri": "https://localhost:8080/"
        },
        "id": "HRSMsTwSGxPS",
        "outputId": "a8f468bf-f321-4646-db79-547905c2e9ef"
      },
      "source": [
        "trans_sdf.columns"
      ],
      "execution_count": null,
      "outputs": [
        {
          "output_type": "execute_result",
          "data": {
            "text/plain": [
              "['src', 'dest']"
            ]
          },
          "metadata": {
            "tags": []
          },
          "execution_count": 23
        }
      ]
    },
    {
      "cell_type": "markdown",
      "metadata": {
        "id": "axHktBkWNysP"
      },
      "source": [
        "## **Step 4:** Linking transactional data and meta data  <a name='4'></a>\n"
      ]
    },
    {
      "cell_type": "code",
      "metadata": {
        "id": "wJqm6WfhZ9fM"
      },
      "source": [
        "node_meta=meta_table.join(trans_sdf,meta_table.ID==trans_sdf.src)"
      ],
      "execution_count": null,
      "outputs": []
    },
    {
      "cell_type": "code",
      "metadata": {
        "colab": {
          "base_uri": "https://localhost:8080/"
        },
        "id": "pKJQRfQtdLtQ",
        "outputId": "ccde2f9a-399d-4372-8266-f80b6ee98ae0"
      },
      "source": [
        "node_meta.columns"
      ],
      "execution_count": null,
      "outputs": [
        {
          "output_type": "execute_result",
          "data": {
            "text/plain": [
              "['ID',\n",
              " 'ASIN',\n",
              " 'group',\n",
              " 'title',\n",
              " 'sales_rank',\n",
              " 'np_similar',\n",
              " 'total_rating',\n",
              " 'avg_rating',\n",
              " 'src',\n",
              " 'dest']"
            ]
          },
          "metadata": {
            "tags": []
          },
          "execution_count": 25
        }
      ]
    },
    {
      "cell_type": "code",
      "metadata": {
        "colab": {
          "base_uri": "https://localhost:8080/"
        },
        "id": "blDP3x3ZZWVd",
        "outputId": "340d2326-8416-487b-a8d7-cde993d89298"
      },
      "source": [
        "meta_table=meta_table.select('ID', 'ASIN', 'group','sales_rank','avg_rating')\n",
        "meta_table.columns"
      ],
      "execution_count": null,
      "outputs": [
        {
          "output_type": "execute_result",
          "data": {
            "text/plain": [
              "['ID', 'ASIN', 'group', 'sales_rank', 'avg_rating']"
            ]
          },
          "metadata": {
            "tags": []
          },
          "execution_count": 26
        }
      ]
    },
    {
      "cell_type": "code",
      "metadata": {
        "id": "kz2dBsFEN_yY"
      },
      "source": [
        "meta_table=meta_table.withColumnRenamed('ID','ID2').withColumnRenamed('ASIN','ASIN2').withColumnRenamed('group','group2').withColumnRenamed('category','category2').withColumnRenamed('avg_rating','avg_rating2').withColumnRenamed('sales_rank','sales_rank2')"
      ],
      "execution_count": null,
      "outputs": []
    },
    {
      "cell_type": "code",
      "metadata": {
        "colab": {
          "base_uri": "https://localhost:8080/"
        },
        "id": "jUZr7PfHGaxX",
        "outputId": "d29d07c6-8cc8-4590-a0d8-fc7b1313e657"
      },
      "source": [
        "meta_table.columns"
      ],
      "execution_count": null,
      "outputs": [
        {
          "output_type": "execute_result",
          "data": {
            "text/plain": [
              "['ID2', 'ASIN2', 'group2', 'sales_rank2', 'avg_rating2']"
            ]
          },
          "metadata": {
            "tags": []
          },
          "execution_count": 28
        }
      ]
    },
    {
      "cell_type": "code",
      "metadata": {
        "id": "mmq3R80vIGIA"
      },
      "source": [
        "node_meta_src_des=node_meta.join(meta_table,node_meta.dest==meta_table.ID2)"
      ],
      "execution_count": null,
      "outputs": []
    },
    {
      "cell_type": "code",
      "metadata": {
        "colab": {
          "base_uri": "https://localhost:8080/"
        },
        "id": "o86gH59VYpME",
        "outputId": "44752072-745c-46dc-8b15-b753daf92bad"
      },
      "source": [
        "node_meta_src_des.printSchema()"
      ],
      "execution_count": null,
      "outputs": [
        {
          "output_type": "stream",
          "text": [
            "root\n",
            " |-- ID: long (nullable = true)\n",
            " |-- ASIN: string (nullable = true)\n",
            " |-- group: string (nullable = true)\n",
            " |-- title: string (nullable = true)\n",
            " |-- sales_rank: long (nullable = true)\n",
            " |-- np_similar: long (nullable = true)\n",
            " |-- total_rating: long (nullable = true)\n",
            " |-- avg_rating: long (nullable = true)\n",
            " |-- src: string (nullable = true)\n",
            " |-- dest: string (nullable = true)\n",
            " |-- ID2: long (nullable = true)\n",
            " |-- ASIN2: string (nullable = true)\n",
            " |-- group2: string (nullable = true)\n",
            " |-- sales_rank2: long (nullable = true)\n",
            " |-- avg_rating2: long (nullable = true)\n",
            "\n"
          ],
          "name": "stdout"
        }
      ]
    },
    {
      "cell_type": "code",
      "metadata": {
        "colab": {
          "base_uri": "https://localhost:8080/"
        },
        "id": "ba_c3uz9IGEn",
        "outputId": "6e2992eb-f9f6-4f1e-9652-aee567c5f8b6"
      },
      "source": [
        "node_meta_src_des.columns"
      ],
      "execution_count": null,
      "outputs": [
        {
          "output_type": "execute_result",
          "data": {
            "text/plain": [
              "['ID',\n",
              " 'ASIN',\n",
              " 'group',\n",
              " 'title',\n",
              " 'sales_rank',\n",
              " 'np_similar',\n",
              " 'total_rating',\n",
              " 'avg_rating',\n",
              " 'src',\n",
              " 'dest',\n",
              " 'ID2',\n",
              " 'ASIN2',\n",
              " 'group2',\n",
              " 'sales_rank2',\n",
              " 'avg_rating2']"
            ]
          },
          "metadata": {
            "tags": []
          },
          "execution_count": 31
        }
      ]
    },
    {
      "cell_type": "code",
      "metadata": {
        "id": "VMCq_1_JaaRC"
      },
      "source": [
        ""
      ],
      "execution_count": null,
      "outputs": []
    },
    {
      "cell_type": "code",
      "metadata": {
        "id": "FJZwHrvCIGAW"
      },
      "source": [
        ""
      ],
      "execution_count": null,
      "outputs": []
    },
    {
      "cell_type": "code",
      "metadata": {
        "id": "6okyPpBwGbNw"
      },
      "source": [
        ""
      ],
      "execution_count": null,
      "outputs": []
    },
    {
      "cell_type": "markdown",
      "metadata": {
        "id": "MvgeW1cDOAa5"
      },
      "source": [
        "## **Step 5:** Analytics based on metadata linked transaction information <a name='5'></a>"
      ]
    },
    {
      "cell_type": "code",
      "metadata": {
        "id": "7GF2f8uKLbkV"
      },
      "source": [
        ""
      ],
      "execution_count": null,
      "outputs": []
    },
    {
      "cell_type": "markdown",
      "metadata": {
        "id": "EPkCzHFWLj4z"
      },
      "source": [
        "#### 5.1 . How the purchasing a product dependent on  Average rating <a name='5.1'></a>\n",
        "\n",
        "### For analyzing co purchase we need to focus on count of src attribute"
      ]
    },
    {
      "cell_type": "code",
      "metadata": {
        "colab": {
          "base_uri": "https://localhost:8080/"
        },
        "id": "xOJFrdMPMoYx",
        "outputId": "29c3f762-9071-44db-c42c-76416ea653dc"
      },
      "source": [
        "print('Grouping by product which first buy')\n",
        "src_grouped=node_meta_src_des.groupby('src').count()\n",
        "src_grouped.columns"
      ],
      "execution_count": null,
      "outputs": [
        {
          "output_type": "stream",
          "text": [
            "Grouping by product which first buy\n"
          ],
          "name": "stdout"
        },
        {
          "output_type": "execute_result",
          "data": {
            "text/plain": [
              "['src', 'count']"
            ]
          },
          "metadata": {
            "tags": []
          },
          "execution_count": 32
        }
      ]
    },
    {
      "cell_type": "code",
      "metadata": {
        "id": "4BU5ndAlLj44"
      },
      "source": [
        "src_grouped_avg=src_grouped.join(node_meta_src_des,src_grouped['src']==node_meta_src_des['src'])"
      ],
      "execution_count": null,
      "outputs": []
    },
    {
      "cell_type": "code",
      "metadata": {
        "colab": {
          "base_uri": "https://localhost:8080/"
        },
        "id": "XnuhCfcELj45",
        "outputId": "535e5897-0023-405f-cb31-2bbf98a82e26"
      },
      "source": [
        "src_grouped_avg=src_grouped_avg.select(src_grouped['src'],src_grouped['count'],node_meta_src_des['sales_rank'],node_meta_src_des['group'],node_meta_src_des['avg_rating'])\n",
        "src_grouped_avg.show()"
      ],
      "execution_count": null,
      "outputs": [
        {
          "output_type": "stream",
          "text": [
            "+------+-----+----------+-----+----------+\n",
            "|   src|count|sales_rank|group|avg_rating|\n",
            "+------+-----+----------+-----+----------+\n",
            "|100010|    5|   1105443| Book|         3|\n",
            "|100010|    5|   1105443| Book|         3|\n",
            "|100010|    5|   1105443| Book|         3|\n",
            "|100010|    5|   1105443| Book|         3|\n",
            "|100010|    5|   1105443| Book|         3|\n",
            "|100140|    3|   1556441| Book|         5|\n",
            "|100140|    3|   1556441| Book|         5|\n",
            "|100140|    3|   1556441| Book|         5|\n",
            "|100227|    5|    753595| Book|         3|\n",
            "|100227|    5|    753595| Book|         3|\n",
            "|100227|    5|    753595| Book|         3|\n",
            "|100227|    5|    753595| Book|         3|\n",
            "|100227|    5|    753595| Book|         3|\n",
            "|100263|    4|    269450|Music|         0|\n",
            "|100263|    4|    269450|Music|         0|\n",
            "|100263|    4|    269450|Music|         0|\n",
            "|100263|    4|    269450|Music|         0|\n",
            "|100320|    5|     45323| Book|         4|\n",
            "|100320|    5|     45323| Book|         4|\n",
            "|100320|    5|     45323| Book|         4|\n",
            "+------+-----+----------+-----+----------+\n",
            "only showing top 20 rows\n",
            "\n"
          ],
          "name": "stdout"
        }
      ]
    },
    {
      "cell_type": "code",
      "metadata": {
        "colab": {
          "base_uri": "https://localhost:8080/"
        },
        "id": "EvsK76uOLj46",
        "outputId": "a97663ba-0de3-4b28-802d-2e2daa0ebd06"
      },
      "source": [
        "src_grouped_avg.corr('count','avg_rating')"
      ],
      "execution_count": null,
      "outputs": [
        {
          "output_type": "execute_result",
          "data": {
            "text/plain": [
              "0.0012499627347239994"
            ]
          },
          "metadata": {
            "tags": []
          },
          "execution_count": 35
        }
      ]
    },
    {
      "cell_type": "code",
      "metadata": {
        "id": "8XUuOXlnLj46"
      },
      "source": [
        "src_groupbased_corr=src_grouped_avg.groupby('group').agg(corr('count','avg_rating'))"
      ],
      "execution_count": null,
      "outputs": []
    },
    {
      "cell_type": "code",
      "metadata": {
        "colab": {
          "base_uri": "https://localhost:8080/"
        },
        "id": "-CHNK49dLj47",
        "outputId": "7e2ed103-bd48-4f24-f68b-a492840ca383"
      },
      "source": [
        "src_groupbased_corr.show()"
      ],
      "execution_count": null,
      "outputs": [
        {
          "output_type": "stream",
          "text": [
            "+------------+-----------------------+\n",
            "|       group|corr(count, avg_rating)|\n",
            "+------------+-----------------------+\n",
            "|       Video|   0.022525243463348173|\n",
            "|         Toy|   -0.28867513459481303|\n",
            "|         DVD|   0.003657015314166712|\n",
            "|Baby Product|                   null|\n",
            "| Video Games|                   null|\n",
            "|        Book|    -8.8567924985705E-5|\n",
            "|       Music|   1.698285532912330...|\n",
            "|    Software|                   null|\n",
            "|          CE|     0.3779644730092271|\n",
            "+------------+-----------------------+\n",
            "\n"
          ],
          "name": "stdout"
        }
      ]
    },
    {
      "cell_type": "code",
      "metadata": {
        "id": "VBNwTGZULbbF"
      },
      "source": [
        ""
      ],
      "execution_count": null,
      "outputs": []
    },
    {
      "cell_type": "markdown",
      "metadata": {
        "id": "XeEYRRQgb2Qj"
      },
      "source": [
        "#### 5.2 . How is copurchasing a product dependent on  Average rating <a name='5.2'></a>\n",
        "\n",
        "### For analyzing co purchase we need to focus on destination attribute as it identifies the co purchased product"
      ]
    },
    {
      "cell_type": "code",
      "metadata": {
        "colab": {
          "base_uri": "https://localhost:8080/"
        },
        "id": "LIp9Ah33Lp9j",
        "outputId": "9574c887-db15-4e0f-9438-82a388dfee8b"
      },
      "source": [
        "print('Grouping by co purchased product')\n",
        "dest_grouped=node_meta_src_des.groupby('dest').count()\n",
        "dest_grouped.columns"
      ],
      "execution_count": null,
      "outputs": [
        {
          "output_type": "stream",
          "text": [
            "Grouping by co purchased product\n"
          ],
          "name": "stdout"
        },
        {
          "output_type": "execute_result",
          "data": {
            "text/plain": [
              "['dest', 'count']"
            ]
          },
          "metadata": {
            "tags": []
          },
          "execution_count": 38
        }
      ]
    },
    {
      "cell_type": "code",
      "metadata": {
        "id": "YXkodZCJa2Uw"
      },
      "source": [
        "dest_grouped_avg=dest_grouped.join(node_meta_src_des,dest_grouped['dest']==node_meta_src_des['dest'])"
      ],
      "execution_count": null,
      "outputs": []
    },
    {
      "cell_type": "code",
      "metadata": {
        "colab": {
          "base_uri": "https://localhost:8080/"
        },
        "id": "CXJVQ40Ma2Qa",
        "outputId": "39750a34-8203-4d1e-ac43-6d34748be7dd"
      },
      "source": [
        "dest_grouped_avg=dest_grouped_avg.select(dest_grouped['dest'],dest_grouped['count'],node_meta_src_des['sales_rank'],node_meta_src_des['group2'],node_meta_src_des['avg_rating2'])\n",
        "dest_grouped_avg.show()"
      ],
      "execution_count": null,
      "outputs": [
        {
          "output_type": "stream",
          "text": [
            "+------+-----+----------+------+-----------+\n",
            "|  dest|count|sales_rank|group2|avg_rating2|\n",
            "+------+-----+----------+------+-----------+\n",
            "|100010|    1|      8076|  Book|          3|\n",
            "|100140|    1|    386221|  Book|          5|\n",
            "|100227|    5|   1115219|  Book|          3|\n",
            "|100227|    5|    750026|  Book|          3|\n",
            "|100227|    5|   1549622|  Book|          3|\n",
            "|100227|    5|     39872|  Book|          3|\n",
            "|100227|    5|     18399|  Book|          3|\n",
            "|100263|    3|       464| Music|          0|\n",
            "|100263|    3|    312566| Music|          0|\n",
            "|100263|    3|    419694| Music|          0|\n",
            "|100320|    5|    304322|  Book|          4|\n",
            "|100320|    5|    277731|  Book|          4|\n",
            "|100320|    5|   1804743|  Book|          4|\n",
            "|100320|    5|    561260|  Book|          4|\n",
            "|100320|    5|     29543|  Book|          4|\n",
            "|100553|    3|    880630|  Book|          0|\n",
            "|100553|    3|     54489|  Book|          0|\n",
            "|100553|    3|    265462|  Book|          0|\n",
            "|100704|    5|     61804|  Book|          3|\n",
            "|100704|    5|    162288|  Book|          3|\n",
            "+------+-----+----------+------+-----------+\n",
            "only showing top 20 rows\n",
            "\n"
          ],
          "name": "stdout"
        }
      ]
    },
    {
      "cell_type": "code",
      "metadata": {
        "colab": {
          "base_uri": "https://localhost:8080/"
        },
        "id": "VGIBjJbMa2NS",
        "outputId": "14409ec1-14d5-47de-a859-383772659dec"
      },
      "source": [
        "dest_grouped_avg.corr('count','avg_rating2')"
      ],
      "execution_count": null,
      "outputs": [
        {
          "output_type": "execute_result",
          "data": {
            "text/plain": [
              "0.021753365799190683"
            ]
          },
          "metadata": {
            "tags": []
          },
          "execution_count": 41
        }
      ]
    },
    {
      "cell_type": "code",
      "metadata": {
        "id": "bgjtFB3ym-nV"
      },
      "source": [
        "groupbaed_corr=dest_grouped_avg.groupby('group2').agg(corr('count','avg_rating2'))"
      ],
      "execution_count": null,
      "outputs": []
    },
    {
      "cell_type": "code",
      "metadata": {
        "colab": {
          "base_uri": "https://localhost:8080/"
        },
        "id": "3yaBuhbSnUUK",
        "outputId": "505112a0-b845-423b-cba4-feb1785462c6"
      },
      "source": [
        "groupbaed_corr.show()"
      ],
      "execution_count": null,
      "outputs": [
        {
          "output_type": "stream",
          "text": [
            "+------------+------------------------+\n",
            "|      group2|corr(count, avg_rating2)|\n",
            "+------------+------------------------+\n",
            "|       Video|    0.038297240052678136|\n",
            "|         Toy|     -0.9626342561216908|\n",
            "|         DVD|     -0.0370511073291901|\n",
            "|Baby Product|                    null|\n",
            "| Video Games|                    null|\n",
            "|        Book|    0.018959076357230306|\n",
            "|       Music|     0.04148909959045391|\n",
            "|    Software|      0.9999999999999998|\n",
            "|          CE|                     1.0|\n",
            "+------------+------------------------+\n",
            "\n"
          ],
          "name": "stdout"
        }
      ]
    },
    {
      "cell_type": "code",
      "metadata": {
        "colab": {
          "base_uri": "https://localhost:8080/"
        },
        "id": "nHxgaxqxeipt",
        "outputId": "c246d8aa-575f-4773-f4af-7fc87c8606ee"
      },
      "source": [
        "print(\"From above , we don't get see correlation with rating of both purchase and copurchased product\")"
      ],
      "execution_count": null,
      "outputs": [
        {
          "output_type": "stream",
          "text": [
            "From above , we don't get see correlation with rating of both purchase and copurchased product\n"
          ],
          "name": "stdout"
        }
      ]
    },
    {
      "cell_type": "markdown",
      "metadata": {
        "id": "MbZPXyEJofPx"
      },
      "source": [
        "#### 5.3 . Analzying co purchase within same group <a name='5.3'></a>\n",
        "\n",
        "\n",
        "\n",
        "\n"
      ]
    },
    {
      "cell_type": "code",
      "metadata": {
        "id": "f9KmPI7Mo1P2"
      },
      "source": [
        "co_purchase_group=node_meta_src_des.groupby(['group','group2']).count().sort('count',ascending=False)"
      ],
      "execution_count": null,
      "outputs": []
    },
    {
      "cell_type": "code",
      "metadata": {
        "colab": {
          "base_uri": "https://localhost:8080/"
        },
        "id": "3DUl3NGReigJ",
        "outputId": "2f02f5fd-9fe8-48b2-e2df-5fdcfa785888"
      },
      "source": [
        "same_group=co_purchase_group[co_purchase_group.group==co_purchase_group.group2]\n",
        "same_group=same_group.withColumnRenamed('count','purchase_pairs')\n",
        "same_group.show()"
      ],
      "execution_count": null,
      "outputs": [
        {
          "output_type": "stream",
          "text": [
            "+-----+------+--------------+\n",
            "|group|group2|purchase_pairs|\n",
            "+-----+------+--------------+\n",
            "| Book|  Book|        637896|\n",
            "|Music| Music|         45806|\n",
            "|Video| Video|          3372|\n",
            "|  DVD|   DVD|          3043|\n",
            "+-----+------+--------------+\n",
            "\n"
          ],
          "name": "stdout"
        }
      ]
    },
    {
      "cell_type": "code",
      "metadata": {
        "id": "2CrDGo0dqVA_"
      },
      "source": [
        "group_items_df=group_items.toPandas()"
      ],
      "execution_count": null,
      "outputs": []
    },
    {
      "cell_type": "code",
      "metadata": {
        "colab": {
          "base_uri": "https://localhost:8080/",
          "height": 343
        },
        "id": "VvJ0YOcqsOFY",
        "outputId": "1a2af184-031c-4ffd-f59a-38c41a0a719f"
      },
      "source": [
        "group_items_df"
      ],
      "execution_count": null,
      "outputs": [
        {
          "output_type": "execute_result",
          "data": {
            "text/html": [
              "<div>\n",
              "<style scoped>\n",
              "    .dataframe tbody tr th:only-of-type {\n",
              "        vertical-align: middle;\n",
              "    }\n",
              "\n",
              "    .dataframe tbody tr th {\n",
              "        vertical-align: top;\n",
              "    }\n",
              "\n",
              "    .dataframe thead th {\n",
              "        text-align: right;\n",
              "    }\n",
              "</style>\n",
              "<table border=\"1\" class=\"dataframe\">\n",
              "  <thead>\n",
              "    <tr style=\"text-align: right;\">\n",
              "      <th></th>\n",
              "      <th>group</th>\n",
              "      <th>count</th>\n",
              "    </tr>\n",
              "  </thead>\n",
              "  <tbody>\n",
              "    <tr>\n",
              "      <th>0</th>\n",
              "      <td>Video</td>\n",
              "      <td>26131</td>\n",
              "    </tr>\n",
              "    <tr>\n",
              "      <th>1</th>\n",
              "      <td>Toy</td>\n",
              "      <td>8</td>\n",
              "    </tr>\n",
              "    <tr>\n",
              "      <th>2</th>\n",
              "      <td>DVD</td>\n",
              "      <td>19828</td>\n",
              "    </tr>\n",
              "    <tr>\n",
              "      <th>3</th>\n",
              "      <td>Sports</td>\n",
              "      <td>1</td>\n",
              "    </tr>\n",
              "    <tr>\n",
              "      <th>4</th>\n",
              "      <td>Baby Product</td>\n",
              "      <td>1</td>\n",
              "    </tr>\n",
              "    <tr>\n",
              "      <th>5</th>\n",
              "      <td>Video Games</td>\n",
              "      <td>1</td>\n",
              "    </tr>\n",
              "    <tr>\n",
              "      <th>6</th>\n",
              "      <td>Book</td>\n",
              "      <td>393561</td>\n",
              "    </tr>\n",
              "    <tr>\n",
              "      <th>7</th>\n",
              "      <td>Music</td>\n",
              "      <td>103144</td>\n",
              "    </tr>\n",
              "    <tr>\n",
              "      <th>8</th>\n",
              "      <td>Software</td>\n",
              "      <td>5</td>\n",
              "    </tr>\n",
              "    <tr>\n",
              "      <th>9</th>\n",
              "      <td>CE</td>\n",
              "      <td>4</td>\n",
              "    </tr>\n",
              "  </tbody>\n",
              "</table>\n",
              "</div>"
            ],
            "text/plain": [
              "          group   count\n",
              "0         Video   26131\n",
              "1           Toy       8\n",
              "2           DVD   19828\n",
              "3        Sports       1\n",
              "4  Baby Product       1\n",
              "5   Video Games       1\n",
              "6          Book  393561\n",
              "7         Music  103144\n",
              "8      Software       5\n",
              "9            CE       4"
            ]
          },
          "metadata": {
            "tags": []
          },
          "execution_count": 48
        }
      ]
    },
    {
      "cell_type": "code",
      "metadata": {
        "id": "0nIB8xvrt5D9"
      },
      "source": [
        "same_group=same_group.alias('a').join(group_items.alias('b'),col('a.group')==col('b.group')).select(same_group['*'],group_items['count'])"
      ],
      "execution_count": null,
      "outputs": []
    },
    {
      "cell_type": "code",
      "metadata": {
        "colab": {
          "base_uri": "https://localhost:8080/",
          "height": 166
        },
        "id": "BUzXmYfOt47P",
        "outputId": "69232e14-45ed-4a6e-85ec-dfa8687ea921"
      },
      "source": [
        "same_group=same_group.withColumnRenamed('count','total_products').toPandas()\n",
        "same_group"
      ],
      "execution_count": null,
      "outputs": [
        {
          "output_type": "execute_result",
          "data": {
            "text/html": [
              "<div>\n",
              "<style scoped>\n",
              "    .dataframe tbody tr th:only-of-type {\n",
              "        vertical-align: middle;\n",
              "    }\n",
              "\n",
              "    .dataframe tbody tr th {\n",
              "        vertical-align: top;\n",
              "    }\n",
              "\n",
              "    .dataframe thead th {\n",
              "        text-align: right;\n",
              "    }\n",
              "</style>\n",
              "<table border=\"1\" class=\"dataframe\">\n",
              "  <thead>\n",
              "    <tr style=\"text-align: right;\">\n",
              "      <th></th>\n",
              "      <th>group</th>\n",
              "      <th>group2</th>\n",
              "      <th>purchase_pairs</th>\n",
              "      <th>total_products</th>\n",
              "    </tr>\n",
              "  </thead>\n",
              "  <tbody>\n",
              "    <tr>\n",
              "      <th>0</th>\n",
              "      <td>Video</td>\n",
              "      <td>Video</td>\n",
              "      <td>3372</td>\n",
              "      <td>26131</td>\n",
              "    </tr>\n",
              "    <tr>\n",
              "      <th>1</th>\n",
              "      <td>DVD</td>\n",
              "      <td>DVD</td>\n",
              "      <td>3043</td>\n",
              "      <td>19828</td>\n",
              "    </tr>\n",
              "    <tr>\n",
              "      <th>2</th>\n",
              "      <td>Book</td>\n",
              "      <td>Book</td>\n",
              "      <td>637896</td>\n",
              "      <td>393561</td>\n",
              "    </tr>\n",
              "    <tr>\n",
              "      <th>3</th>\n",
              "      <td>Music</td>\n",
              "      <td>Music</td>\n",
              "      <td>45806</td>\n",
              "      <td>103144</td>\n",
              "    </tr>\n",
              "  </tbody>\n",
              "</table>\n",
              "</div>"
            ],
            "text/plain": [
              "   group group2  purchase_pairs  total_products\n",
              "0  Video  Video            3372           26131\n",
              "1    DVD    DVD            3043           19828\n",
              "2   Book   Book          637896          393561\n",
              "3  Music  Music           45806          103144"
            ]
          },
          "metadata": {
            "tags": []
          },
          "execution_count": 50
        }
      ]
    },
    {
      "cell_type": "code",
      "metadata": {
        "id": "JpRSxBR3vI7P"
      },
      "source": [
        "def co_pur_ratio(x):\n",
        "    possible_pairs=(x.total_products*(x.total_products-1))/2\n",
        "    ratio = 100*x.loc['purchase_pairs']/possible_pairs\n",
        "    return ratio"
      ],
      "execution_count": null,
      "outputs": []
    },
    {
      "cell_type": "code",
      "metadata": {
        "colab": {
          "base_uri": "https://localhost:8080/",
          "height": 166
        },
        "id": "wDTqe6_1hyg-",
        "outputId": "ca66b209-1a21-40ef-fa84-55f7db10ecc1"
      },
      "source": [
        "same_group['co_purchase_ratio']=same_group.apply(lambda x:co_pur_ratio(x),axis=1)\n",
        "same_group"
      ],
      "execution_count": null,
      "outputs": [
        {
          "output_type": "execute_result",
          "data": {
            "text/html": [
              "<div>\n",
              "<style scoped>\n",
              "    .dataframe tbody tr th:only-of-type {\n",
              "        vertical-align: middle;\n",
              "    }\n",
              "\n",
              "    .dataframe tbody tr th {\n",
              "        vertical-align: top;\n",
              "    }\n",
              "\n",
              "    .dataframe thead th {\n",
              "        text-align: right;\n",
              "    }\n",
              "</style>\n",
              "<table border=\"1\" class=\"dataframe\">\n",
              "  <thead>\n",
              "    <tr style=\"text-align: right;\">\n",
              "      <th></th>\n",
              "      <th>group</th>\n",
              "      <th>group2</th>\n",
              "      <th>purchase_pairs</th>\n",
              "      <th>total_products</th>\n",
              "      <th>co_purchase_ratio</th>\n",
              "    </tr>\n",
              "  </thead>\n",
              "  <tbody>\n",
              "    <tr>\n",
              "      <th>0</th>\n",
              "      <td>Video</td>\n",
              "      <td>Video</td>\n",
              "      <td>3372</td>\n",
              "      <td>26131</td>\n",
              "      <td>0.000988</td>\n",
              "    </tr>\n",
              "    <tr>\n",
              "      <th>1</th>\n",
              "      <td>DVD</td>\n",
              "      <td>DVD</td>\n",
              "      <td>3043</td>\n",
              "      <td>19828</td>\n",
              "      <td>0.001548</td>\n",
              "    </tr>\n",
              "    <tr>\n",
              "      <th>2</th>\n",
              "      <td>Book</td>\n",
              "      <td>Book</td>\n",
              "      <td>637896</td>\n",
              "      <td>393561</td>\n",
              "      <td>0.000824</td>\n",
              "    </tr>\n",
              "    <tr>\n",
              "      <th>3</th>\n",
              "      <td>Music</td>\n",
              "      <td>Music</td>\n",
              "      <td>45806</td>\n",
              "      <td>103144</td>\n",
              "      <td>0.000861</td>\n",
              "    </tr>\n",
              "  </tbody>\n",
              "</table>\n",
              "</div>"
            ],
            "text/plain": [
              "   group group2  purchase_pairs  total_products  co_purchase_ratio\n",
              "0  Video  Video            3372           26131           0.000988\n",
              "1    DVD    DVD            3043           19828           0.001548\n",
              "2   Book   Book          637896          393561           0.000824\n",
              "3  Music  Music           45806          103144           0.000861"
            ]
          },
          "metadata": {
            "tags": []
          },
          "execution_count": 52
        }
      ]
    },
    {
      "cell_type": "code",
      "metadata": {
        "colab": {
          "base_uri": "https://localhost:8080/"
        },
        "id": "D-n_wX10hyW_",
        "outputId": "e38e0c18-6353-45f9-827e-db0c7c43e311"
      },
      "source": [
        "highest_copurchase_group=same_group[same_group.co_purchase_ratio==same_group.co_purchase_ratio.max()].group.values[0]\n",
        "print(\"Highest co purchase ratio is '{}'\".format(highest_copurchase_group))"
      ],
      "execution_count": null,
      "outputs": [
        {
          "output_type": "stream",
          "text": [
            "Highest co purchase ratio is 'DVD'\n"
          ],
          "name": "stdout"
        }
      ]
    },
    {
      "cell_type": "code",
      "metadata": {
        "id": "ahUXLo5Ja2J4"
      },
      "source": [
        ""
      ],
      "execution_count": null,
      "outputs": []
    },
    {
      "cell_type": "markdown",
      "metadata": {
        "id": "4v-t6mLUwNuA"
      },
      "source": [
        "#### 5.4 . Analzying co purchase across the diverse group <a name='5.4'></a>\n"
      ]
    },
    {
      "cell_type": "code",
      "metadata": {
        "id": "tjly82xJa2G7"
      },
      "source": [
        "diverse_group=co_purchase_group[co_purchase_group.group!=co_purchase_group.group2].toPandas()\n"
      ],
      "execution_count": null,
      "outputs": []
    },
    {
      "cell_type": "code",
      "metadata": {
        "colab": {
          "base_uri": "https://localhost:8080/",
          "height": 1000
        },
        "id": "pNx76sfywb8X",
        "outputId": "d78629e2-fe8d-40af-e092-824ff803cafe"
      },
      "source": [
        "diverse_group"
      ],
      "execution_count": null,
      "outputs": [
        {
          "output_type": "execute_result",
          "data": {
            "text/html": [
              "<div>\n",
              "<style scoped>\n",
              "    .dataframe tbody tr th:only-of-type {\n",
              "        vertical-align: middle;\n",
              "    }\n",
              "\n",
              "    .dataframe tbody tr th {\n",
              "        vertical-align: top;\n",
              "    }\n",
              "\n",
              "    .dataframe thead th {\n",
              "        text-align: right;\n",
              "    }\n",
              "</style>\n",
              "<table border=\"1\" class=\"dataframe\">\n",
              "  <thead>\n",
              "    <tr style=\"text-align: right;\">\n",
              "      <th></th>\n",
              "      <th>group</th>\n",
              "      <th>group2</th>\n",
              "      <th>count</th>\n",
              "    </tr>\n",
              "  </thead>\n",
              "  <tbody>\n",
              "    <tr>\n",
              "      <th>0</th>\n",
              "      <td>Book</td>\n",
              "      <td>Music</td>\n",
              "      <td>164434</td>\n",
              "    </tr>\n",
              "    <tr>\n",
              "      <th>1</th>\n",
              "      <td>Music</td>\n",
              "      <td>Book</td>\n",
              "      <td>163471</td>\n",
              "    </tr>\n",
              "    <tr>\n",
              "      <th>2</th>\n",
              "      <td>Video</td>\n",
              "      <td>Book</td>\n",
              "      <td>42329</td>\n",
              "    </tr>\n",
              "    <tr>\n",
              "      <th>3</th>\n",
              "      <td>Book</td>\n",
              "      <td>Video</td>\n",
              "      <td>42241</td>\n",
              "    </tr>\n",
              "    <tr>\n",
              "      <th>4</th>\n",
              "      <td>DVD</td>\n",
              "      <td>Book</td>\n",
              "      <td>31270</td>\n",
              "    </tr>\n",
              "    <tr>\n",
              "      <th>5</th>\n",
              "      <td>Book</td>\n",
              "      <td>DVD</td>\n",
              "      <td>31008</td>\n",
              "    </tr>\n",
              "    <tr>\n",
              "      <th>6</th>\n",
              "      <td>Video</td>\n",
              "      <td>Music</td>\n",
              "      <td>11007</td>\n",
              "    </tr>\n",
              "    <tr>\n",
              "      <th>7</th>\n",
              "      <td>Music</td>\n",
              "      <td>Video</td>\n",
              "      <td>10905</td>\n",
              "    </tr>\n",
              "    <tr>\n",
              "      <th>8</th>\n",
              "      <td>DVD</td>\n",
              "      <td>Music</td>\n",
              "      <td>8078</td>\n",
              "    </tr>\n",
              "    <tr>\n",
              "      <th>9</th>\n",
              "      <td>Music</td>\n",
              "      <td>DVD</td>\n",
              "      <td>8063</td>\n",
              "    </tr>\n",
              "    <tr>\n",
              "      <th>10</th>\n",
              "      <td>DVD</td>\n",
              "      <td>Video</td>\n",
              "      <td>2193</td>\n",
              "    </tr>\n",
              "    <tr>\n",
              "      <th>11</th>\n",
              "      <td>Video</td>\n",
              "      <td>DVD</td>\n",
              "      <td>2146</td>\n",
              "    </tr>\n",
              "    <tr>\n",
              "      <th>12</th>\n",
              "      <td>Book</td>\n",
              "      <td>Toy</td>\n",
              "      <td>13</td>\n",
              "    </tr>\n",
              "    <tr>\n",
              "      <th>13</th>\n",
              "      <td>Toy</td>\n",
              "      <td>Book</td>\n",
              "      <td>9</td>\n",
              "    </tr>\n",
              "    <tr>\n",
              "      <th>14</th>\n",
              "      <td>Software</td>\n",
              "      <td>Book</td>\n",
              "      <td>7</td>\n",
              "    </tr>\n",
              "    <tr>\n",
              "      <th>15</th>\n",
              "      <td>CE</td>\n",
              "      <td>Book</td>\n",
              "      <td>7</td>\n",
              "    </tr>\n",
              "    <tr>\n",
              "      <th>16</th>\n",
              "      <td>Book</td>\n",
              "      <td>Software</td>\n",
              "      <td>5</td>\n",
              "    </tr>\n",
              "    <tr>\n",
              "      <th>17</th>\n",
              "      <td>Video Games</td>\n",
              "      <td>Book</td>\n",
              "      <td>5</td>\n",
              "    </tr>\n",
              "    <tr>\n",
              "      <th>18</th>\n",
              "      <td>Baby Product</td>\n",
              "      <td>Book</td>\n",
              "      <td>4</td>\n",
              "    </tr>\n",
              "    <tr>\n",
              "      <th>19</th>\n",
              "      <td>Music</td>\n",
              "      <td>Toy</td>\n",
              "      <td>4</td>\n",
              "    </tr>\n",
              "    <tr>\n",
              "      <th>20</th>\n",
              "      <td>CE</td>\n",
              "      <td>Music</td>\n",
              "      <td>4</td>\n",
              "    </tr>\n",
              "    <tr>\n",
              "      <th>21</th>\n",
              "      <td>Book</td>\n",
              "      <td>CE</td>\n",
              "      <td>3</td>\n",
              "    </tr>\n",
              "    <tr>\n",
              "      <th>22</th>\n",
              "      <td>Book</td>\n",
              "      <td>Video Games</td>\n",
              "      <td>3</td>\n",
              "    </tr>\n",
              "    <tr>\n",
              "      <th>23</th>\n",
              "      <td>Book</td>\n",
              "      <td>Baby Product</td>\n",
              "      <td>2</td>\n",
              "    </tr>\n",
              "    <tr>\n",
              "      <th>24</th>\n",
              "      <td>Video</td>\n",
              "      <td>Software</td>\n",
              "      <td>2</td>\n",
              "    </tr>\n",
              "    <tr>\n",
              "      <th>25</th>\n",
              "      <td>Music</td>\n",
              "      <td>CE</td>\n",
              "      <td>2</td>\n",
              "    </tr>\n",
              "    <tr>\n",
              "      <th>26</th>\n",
              "      <td>Video</td>\n",
              "      <td>Toy</td>\n",
              "      <td>2</td>\n",
              "    </tr>\n",
              "    <tr>\n",
              "      <th>27</th>\n",
              "      <td>Software</td>\n",
              "      <td>Music</td>\n",
              "      <td>2</td>\n",
              "    </tr>\n",
              "    <tr>\n",
              "      <th>28</th>\n",
              "      <td>Software</td>\n",
              "      <td>Video</td>\n",
              "      <td>1</td>\n",
              "    </tr>\n",
              "    <tr>\n",
              "      <th>29</th>\n",
              "      <td>Baby Product</td>\n",
              "      <td>DVD</td>\n",
              "      <td>1</td>\n",
              "    </tr>\n",
              "    <tr>\n",
              "      <th>30</th>\n",
              "      <td>DVD</td>\n",
              "      <td>Toy</td>\n",
              "      <td>1</td>\n",
              "    </tr>\n",
              "    <tr>\n",
              "      <th>31</th>\n",
              "      <td>Toy</td>\n",
              "      <td>Music</td>\n",
              "      <td>1</td>\n",
              "    </tr>\n",
              "    <tr>\n",
              "      <th>32</th>\n",
              "      <td>DVD</td>\n",
              "      <td>Baby Product</td>\n",
              "      <td>1</td>\n",
              "    </tr>\n",
              "    <tr>\n",
              "      <th>33</th>\n",
              "      <td>Toy</td>\n",
              "      <td>Video</td>\n",
              "      <td>1</td>\n",
              "    </tr>\n",
              "    <tr>\n",
              "      <th>34</th>\n",
              "      <td>CE</td>\n",
              "      <td>DVD</td>\n",
              "      <td>1</td>\n",
              "    </tr>\n",
              "  </tbody>\n",
              "</table>\n",
              "</div>"
            ],
            "text/plain": [
              "           group        group2   count\n",
              "0           Book         Music  164434\n",
              "1          Music          Book  163471\n",
              "2          Video          Book   42329\n",
              "3           Book         Video   42241\n",
              "4            DVD          Book   31270\n",
              "5           Book           DVD   31008\n",
              "6          Video         Music   11007\n",
              "7          Music         Video   10905\n",
              "8            DVD         Music    8078\n",
              "9          Music           DVD    8063\n",
              "10           DVD         Video    2193\n",
              "11         Video           DVD    2146\n",
              "12          Book           Toy      13\n",
              "13           Toy          Book       9\n",
              "14      Software          Book       7\n",
              "15            CE          Book       7\n",
              "16          Book      Software       5\n",
              "17   Video Games          Book       5\n",
              "18  Baby Product          Book       4\n",
              "19         Music           Toy       4\n",
              "20            CE         Music       4\n",
              "21          Book            CE       3\n",
              "22          Book   Video Games       3\n",
              "23          Book  Baby Product       2\n",
              "24         Video      Software       2\n",
              "25         Music            CE       2\n",
              "26         Video           Toy       2\n",
              "27      Software         Music       2\n",
              "28      Software         Video       1\n",
              "29  Baby Product           DVD       1\n",
              "30           DVD           Toy       1\n",
              "31           Toy         Music       1\n",
              "32           DVD  Baby Product       1\n",
              "33           Toy         Video       1\n",
              "34            CE           DVD       1"
            ]
          },
          "metadata": {
            "tags": []
          },
          "execution_count": 55
        }
      ]
    },
    {
      "cell_type": "code",
      "metadata": {
        "id": "W0C-TJ-uwb45"
      },
      "source": [
        ""
      ],
      "execution_count": null,
      "outputs": []
    },
    {
      "cell_type": "markdown",
      "metadata": {
        "id": "2z2wQcITw-hk"
      },
      "source": [
        "## **Step 6:** Graph Representation<a name='6'><a>\n"
      ]
    },
    {
      "cell_type": "code",
      "metadata": {
        "id": "FaA1tuspxTk3"
      },
      "source": [
        "import snap"
      ],
      "execution_count": null,
      "outputs": []
    },
    {
      "cell_type": "code",
      "metadata": {
        "id": "WcsY0bixxPFh"
      },
      "source": [
        "edge_dataframe=trans_sdf.toPandas()"
      ],
      "execution_count": null,
      "outputs": []
    },
    {
      "cell_type": "code",
      "metadata": {
        "colab": {
          "base_uri": "https://localhost:8080/"
        },
        "id": "QrLWEwrhxPCH",
        "outputId": "63e71d10-92b0-4c36-fee3-6d01121480e4"
      },
      "source": [
        "edge_dataframe.shape"
      ],
      "execution_count": null,
      "outputs": [
        {
          "output_type": "execute_result",
          "data": {
            "text/plain": [
              "(1234877, 2)"
            ]
          },
          "metadata": {
            "tags": []
          },
          "execution_count": 58
        }
      ]
    },
    {
      "cell_type": "code",
      "metadata": {
        "colab": {
          "base_uri": "https://localhost:8080/"
        },
        "id": "0YLmLqrTxO-H",
        "outputId": "63d7db53-0149-49da-e724-55a79de4f418"
      },
      "source": [
        "edge_dataframe['src']=edge_dataframe['src'].astype('int64')\n",
        "edge_dataframe['dest']=edge_dataframe['dest'].astype('int64')\n",
        "edge_dataframe.dtypes"
      ],
      "execution_count": null,
      "outputs": [
        {
          "output_type": "execute_result",
          "data": {
            "text/plain": [
              "src     int64\n",
              "dest    int64\n",
              "dtype: object"
            ]
          },
          "metadata": {
            "tags": []
          },
          "execution_count": 59
        }
      ]
    },
    {
      "cell_type": "code",
      "metadata": {
        "colab": {
          "base_uri": "https://localhost:8080/"
        },
        "id": "aBrphWfqxxUW",
        "outputId": "2d4b25d0-3265-4fba-e540-fd24eee42f63"
      },
      "source": [
        "print(edge_dataframe.src.nunique())\n",
        "print(edge_dataframe.dest.nunique())"
      ],
      "execution_count": null,
      "outputs": [
        {
          "output_type": "stream",
          "text": [
            "257570\n",
            "262111\n"
          ],
          "name": "stdout"
        }
      ]
    },
    {
      "cell_type": "code",
      "metadata": {
        "colab": {
          "base_uri": "https://localhost:8080/"
        },
        "id": "1TMCQYpOx3AM",
        "outputId": "a9c52549-7ce1-4599-a4a6-29f99f9297d4"
      },
      "source": [
        "len(set.intersection(set(edge_dataframe.src),set(edge_dataframe.dest)))"
      ],
      "execution_count": null,
      "outputs": [
        {
          "output_type": "execute_result",
          "data": {
            "text/plain": [
              "257570"
            ]
          },
          "metadata": {
            "tags": []
          },
          "execution_count": 61
        }
      ]
    },
    {
      "cell_type": "code",
      "metadata": {
        "colab": {
          "base_uri": "https://localhost:8080/"
        },
        "id": "okHWIwOVxxQI",
        "outputId": "2d706cca-c48f-49b4-b299-84bc0598fd6c"
      },
      "source": [
        "nodes=list(set.union(set(edge_dataframe.src),set(edge_dataframe.dest)))\n",
        "len(nodes)"
      ],
      "execution_count": null,
      "outputs": [
        {
          "output_type": "execute_result",
          "data": {
            "text/plain": [
              "262111"
            ]
          },
          "metadata": {
            "tags": []
          },
          "execution_count": 62
        }
      ]
    },
    {
      "cell_type": "code",
      "metadata": {
        "colab": {
          "base_uri": "https://localhost:8080/"
        },
        "id": "qB9t3qXQKN-P",
        "outputId": "128db8b6-d3bd-4b90-ada6-e421f411fa39"
      },
      "source": [
        "np.max(nodes)"
      ],
      "execution_count": null,
      "outputs": [
        {
          "output_type": "execute_result",
          "data": {
            "text/plain": [
              "262110"
            ]
          },
          "metadata": {
            "tags": []
          },
          "execution_count": 63
        }
      ]
    },
    {
      "cell_type": "markdown",
      "metadata": {
        "id": "6KztxjlrfG3g"
      },
      "source": [
        "#### 1 . Creation of graph using transaction data <a name='6.1'></a>\n"
      ]
    },
    {
      "cell_type": "code",
      "metadata": {
        "id": "kjcc_Qf4xxMx"
      },
      "source": [
        "'''Creating a directed graph '''\n",
        "graph=snap.TNGraph.New()"
      ],
      "execution_count": null,
      "outputs": []
    },
    {
      "cell_type": "code",
      "metadata": {
        "id": "0xor2bgnxO6t"
      },
      "source": [
        "node_dict={}\n",
        "for i,node in enumerate(nodes):\n",
        "    node_id=i\n",
        "    node_dict[node]=node_id\n",
        "    graph.AddNode(node_id)"
      ],
      "execution_count": null,
      "outputs": []
    },
    {
      "cell_type": "code",
      "metadata": {
        "colab": {
          "base_uri": "https://localhost:8080/"
        },
        "id": "wBzF3fQGMWVJ",
        "outputId": "24ab57c1-c047-4023-f11d-ccfa906dcae2"
      },
      "source": [
        "len(node_dict)"
      ],
      "execution_count": null,
      "outputs": [
        {
          "output_type": "execute_result",
          "data": {
            "text/plain": [
              "262111"
            ]
          },
          "metadata": {
            "tags": []
          },
          "execution_count": 66
        }
      ]
    },
    {
      "cell_type": "code",
      "metadata": {
        "id": "hRDOdf_Nwb11"
      },
      "source": [
        "for i, row in edge_dataframe.iterrows():\n",
        "    graph.AddEdge(node_dict[row['src']], node_dict[row['dest']])"
      ],
      "execution_count": null,
      "outputs": []
    },
    {
      "cell_type": "code",
      "metadata": {
        "id": "KD3e2sUJzUN_"
      },
      "source": [
        "FOut = snap.TFOut(\"co_purchase_directed_all.graph\")\n",
        "graph.Save(FOut)"
      ],
      "execution_count": null,
      "outputs": []
    },
    {
      "cell_type": "code",
      "metadata": {
        "id": "FwdZt84nzUIA"
      },
      "source": [
        "# shared_neighbours=[]\n",
        "# for i,row in edge_dataframe.iterrows():\n",
        "#     shared_neighbours.append(graph.GetCmnNbrs(int(row['src']),int(row['dest'])))"
      ],
      "execution_count": null,
      "outputs": []
    },
    {
      "cell_type": "markdown",
      "metadata": {
        "id": "xcNLd12m2woh"
      },
      "source": [
        "#### 2 . Connected component <a name='6.2'></a>"
      ]
    },
    {
      "cell_type": "code",
      "metadata": {
        "id": "hVOz5YXxzT-3"
      },
      "source": [
        "Components = graph.GetSccs()"
      ],
      "execution_count": null,
      "outputs": []
    },
    {
      "cell_type": "code",
      "metadata": {
        "colab": {
          "base_uri": "https://localhost:8080/"
        },
        "id": "9WBb2wNPzT77",
        "outputId": "f3f9d22d-52dc-4831-ad2b-5a18738c32c4"
      },
      "source": [
        "len(Components)"
      ],
      "execution_count": null,
      "outputs": [
        {
          "output_type": "execute_result",
          "data": {
            "text/plain": [
              "6594"
            ]
          },
          "metadata": {
            "tags": []
          },
          "execution_count": 71
        }
      ]
    },
    {
      "cell_type": "code",
      "metadata": {
        "colab": {
          "base_uri": "https://localhost:8080/"
        },
        "id": "YSPsLnDKzT5a",
        "outputId": "217cb7ef-8389-402d-b4e2-a834090cb1af"
      },
      "source": [
        "print(graph.IsConnected())"
      ],
      "execution_count": null,
      "outputs": [
        {
          "output_type": "stream",
          "text": [
            "True\n"
          ],
          "name": "stdout"
        }
      ]
    },
    {
      "cell_type": "code",
      "metadata": {
        "colab": {
          "base_uri": "https://localhost:8080/"
        },
        "id": "iojN7mQxzT3A",
        "outputId": "12fcfdaf-5fd3-4c47-f2b1-76f4163cdfd5"
      },
      "source": [
        "print(graph.IsWeaklyConn())"
      ],
      "execution_count": null,
      "outputs": [
        {
          "output_type": "stream",
          "text": [
            "True\n"
          ],
          "name": "stdout"
        }
      ]
    },
    {
      "cell_type": "markdown",
      "metadata": {
        "id": "wT3LF6iR8MCk"
      },
      "source": [
        "#### 3 . Get indegree and outdegree for every node <a name='6.3'></a>"
      ]
    },
    {
      "cell_type": "code",
      "metadata": {
        "id": "p2amO9oE8LqH"
      },
      "source": [
        "InDegV = graph.GetNodeInDegV()"
      ],
      "execution_count": null,
      "outputs": []
    },
    {
      "cell_type": "code",
      "metadata": {
        "id": "yNwwk70k77ia"
      },
      "source": [
        "OutDegV = graph.GetNodeOutDegV()"
      ],
      "execution_count": null,
      "outputs": []
    },
    {
      "cell_type": "code",
      "metadata": {
        "id": "WwnqIdb88JAr"
      },
      "source": [
        "degree_attrs=[]\n",
        "for item1,item2 in zip(InDegV,OutDegV):\n",
        "    node_id=item1.GetVal1()\n",
        "    in_degree=item1.GetVal2()\n",
        "    out_degree=item2.GetVal2()\n",
        "    degree_attrs.append([node_id,in_degree,out_degree])"
      ],
      "execution_count": null,
      "outputs": []
    },
    {
      "cell_type": "code",
      "metadata": {
        "id": "sgkIeqXAzT0T"
      },
      "source": [
        "node_attributes=pd.DataFrame(degree_attrs,columns=['Node_id','in_degree','out_degree'])"
      ],
      "execution_count": null,
      "outputs": []
    },
    {
      "cell_type": "code",
      "metadata": {
        "colab": {
          "base_uri": "https://localhost:8080/",
          "height": 195
        },
        "id": "jdgA5KzmKC2g",
        "outputId": "46819668-c40d-4dfb-b647-9cc745723d35"
      },
      "source": [
        "node_attributes.head()"
      ],
      "execution_count": null,
      "outputs": [
        {
          "output_type": "execute_result",
          "data": {
            "text/html": [
              "<div>\n",
              "<style scoped>\n",
              "    .dataframe tbody tr th:only-of-type {\n",
              "        vertical-align: middle;\n",
              "    }\n",
              "\n",
              "    .dataframe tbody tr th {\n",
              "        vertical-align: top;\n",
              "    }\n",
              "\n",
              "    .dataframe thead th {\n",
              "        text-align: right;\n",
              "    }\n",
              "</style>\n",
              "<table border=\"1\" class=\"dataframe\">\n",
              "  <thead>\n",
              "    <tr style=\"text-align: right;\">\n",
              "      <th></th>\n",
              "      <th>Node_id</th>\n",
              "      <th>in_degree</th>\n",
              "      <th>out_degree</th>\n",
              "    </tr>\n",
              "  </thead>\n",
              "  <tbody>\n",
              "    <tr>\n",
              "      <th>0</th>\n",
              "      <td>0</td>\n",
              "      <td>2</td>\n",
              "      <td>5</td>\n",
              "    </tr>\n",
              "    <tr>\n",
              "      <th>1</th>\n",
              "      <td>1</td>\n",
              "      <td>1</td>\n",
              "      <td>5</td>\n",
              "    </tr>\n",
              "    <tr>\n",
              "      <th>2</th>\n",
              "      <td>2</td>\n",
              "      <td>2</td>\n",
              "      <td>5</td>\n",
              "    </tr>\n",
              "    <tr>\n",
              "      <th>3</th>\n",
              "      <td>3</td>\n",
              "      <td>1</td>\n",
              "      <td>5</td>\n",
              "    </tr>\n",
              "    <tr>\n",
              "      <th>4</th>\n",
              "      <td>4</td>\n",
              "      <td>25</td>\n",
              "      <td>5</td>\n",
              "    </tr>\n",
              "  </tbody>\n",
              "</table>\n",
              "</div>"
            ],
            "text/plain": [
              "   Node_id  in_degree  out_degree\n",
              "0        0          2           5\n",
              "1        1          1           5\n",
              "2        2          2           5\n",
              "3        3          1           5\n",
              "4        4         25           5"
            ]
          },
          "metadata": {
            "tags": []
          },
          "execution_count": 78
        }
      ]
    },
    {
      "cell_type": "code",
      "metadata": {
        "colab": {
          "base_uri": "https://localhost:8080/",
          "height": 284
        },
        "id": "hWnkYs-f_hY4",
        "outputId": "ed67e063-b909-43fc-c6f0-72b0a9c21a3c"
      },
      "source": [
        "node_attributes[['in_degree','out_degree']].describe()"
      ],
      "execution_count": null,
      "outputs": [
        {
          "output_type": "execute_result",
          "data": {
            "text/html": [
              "<div>\n",
              "<style scoped>\n",
              "    .dataframe tbody tr th:only-of-type {\n",
              "        vertical-align: middle;\n",
              "    }\n",
              "\n",
              "    .dataframe tbody tr th {\n",
              "        vertical-align: top;\n",
              "    }\n",
              "\n",
              "    .dataframe thead th {\n",
              "        text-align: right;\n",
              "    }\n",
              "</style>\n",
              "<table border=\"1\" class=\"dataframe\">\n",
              "  <thead>\n",
              "    <tr style=\"text-align: right;\">\n",
              "      <th></th>\n",
              "      <th>in_degree</th>\n",
              "      <th>out_degree</th>\n",
              "    </tr>\n",
              "  </thead>\n",
              "  <tbody>\n",
              "    <tr>\n",
              "      <th>count</th>\n",
              "      <td>262111.000000</td>\n",
              "      <td>262111.000000</td>\n",
              "    </tr>\n",
              "    <tr>\n",
              "      <th>mean</th>\n",
              "      <td>4.711275</td>\n",
              "      <td>4.711275</td>\n",
              "    </tr>\n",
              "    <tr>\n",
              "      <th>std</th>\n",
              "      <td>5.707922</td>\n",
              "      <td>0.951540</td>\n",
              "    </tr>\n",
              "    <tr>\n",
              "      <th>min</th>\n",
              "      <td>1.000000</td>\n",
              "      <td>0.000000</td>\n",
              "    </tr>\n",
              "    <tr>\n",
              "      <th>25%</th>\n",
              "      <td>2.000000</td>\n",
              "      <td>5.000000</td>\n",
              "    </tr>\n",
              "    <tr>\n",
              "      <th>50%</th>\n",
              "      <td>3.000000</td>\n",
              "      <td>5.000000</td>\n",
              "    </tr>\n",
              "    <tr>\n",
              "      <th>75%</th>\n",
              "      <td>6.000000</td>\n",
              "      <td>5.000000</td>\n",
              "    </tr>\n",
              "    <tr>\n",
              "      <th>max</th>\n",
              "      <td>420.000000</td>\n",
              "      <td>5.000000</td>\n",
              "    </tr>\n",
              "  </tbody>\n",
              "</table>\n",
              "</div>"
            ],
            "text/plain": [
              "           in_degree     out_degree\n",
              "count  262111.000000  262111.000000\n",
              "mean        4.711275       4.711275\n",
              "std         5.707922       0.951540\n",
              "min         1.000000       0.000000\n",
              "25%         2.000000       5.000000\n",
              "50%         3.000000       5.000000\n",
              "75%         6.000000       5.000000\n",
              "max       420.000000       5.000000"
            ]
          },
          "metadata": {
            "tags": []
          },
          "execution_count": 79
        }
      ]
    },
    {
      "cell_type": "markdown",
      "metadata": {
        "id": "GXa3jKjtFG3h"
      },
      "source": [
        "#### 4 . Importance/Popularity Score for every node <a name='6.4'></a>\n"
      ]
    },
    {
      "cell_type": "code",
      "metadata": {
        "colab": {
          "base_uri": "https://localhost:8080/"
        },
        "id": "FSB55wHXI0NS",
        "outputId": "b43b02ff-65dd-48c3-8680-cc29e515e656"
      },
      "source": [
        "from fastprogress import progress_bar\n",
        "from tqdm import tqdm\n",
        "tqdm.pandas()"
      ],
      "execution_count": null,
      "outputs": [
        {
          "output_type": "stream",
          "text": [
            "/usr/local/lib/python3.7/dist-packages/tqdm/std.py:658: FutureWarning: The Panel class is removed from pandas. Accessing it from the top-level namespace will also be removed in the next version\n",
            "  from pandas import Panel\n"
          ],
          "name": "stderr"
        }
      ]
    },
    {
      "cell_type": "code",
      "metadata": {
        "id": "iIPiaejaFeUH"
      },
      "source": [
        "PRankH = graph.GetPageRank()"
      ],
      "execution_count": null,
      "outputs": []
    },
    {
      "cell_type": "code",
      "metadata": {
        "id": "UTeg22Dot4aN"
      },
      "source": [
        "node_attributes['page_rank']=node_attributes.apply(lambda x :PRankH(int(x.Node_id)),axis=1)"
      ],
      "execution_count": null,
      "outputs": []
    },
    {
      "cell_type": "code",
      "metadata": {
        "id": "D7g6vdejFTwI"
      },
      "source": [
        ""
      ],
      "execution_count": null,
      "outputs": []
    },
    {
      "cell_type": "code",
      "metadata": {
        "id": "5fZqR14bFTs8"
      },
      "source": [
        "NIdHubH, NIdAuthH = graph.GetHits()"
      ],
      "execution_count": null,
      "outputs": []
    },
    {
      "cell_type": "code",
      "metadata": {
        "id": "czRhN67WFTqJ"
      },
      "source": [
        "node_attributes['hub_score']=node_attributes.apply(lambda x :NIdHubH(x.Node_id),axis=1)"
      ],
      "execution_count": null,
      "outputs": []
    },
    {
      "cell_type": "code",
      "metadata": {
        "id": "wcFRBy9OzTvB"
      },
      "source": [
        "node_attributes['auth_score']=node_attributes.apply(lambda x :NIdAuthH(x.Node_id),axis=1)"
      ],
      "execution_count": null,
      "outputs": []
    },
    {
      "cell_type": "code",
      "metadata": {
        "colab": {
          "base_uri": "https://localhost:8080/",
          "height": 402
        },
        "id": "MwuFIsrgzTsm",
        "outputId": "a0007d10-7763-4ff8-f2ae-b3eaad5cd183"
      },
      "source": [
        "node_attributes"
      ],
      "execution_count": null,
      "outputs": [
        {
          "output_type": "execute_result",
          "data": {
            "text/html": [
              "<div>\n",
              "<style scoped>\n",
              "    .dataframe tbody tr th:only-of-type {\n",
              "        vertical-align: middle;\n",
              "    }\n",
              "\n",
              "    .dataframe tbody tr th {\n",
              "        vertical-align: top;\n",
              "    }\n",
              "\n",
              "    .dataframe thead th {\n",
              "        text-align: right;\n",
              "    }\n",
              "</style>\n",
              "<table border=\"1\" class=\"dataframe\">\n",
              "  <thead>\n",
              "    <tr style=\"text-align: right;\">\n",
              "      <th></th>\n",
              "      <th>Node_id</th>\n",
              "      <th>in_degree</th>\n",
              "      <th>out_degree</th>\n",
              "      <th>page_rank</th>\n",
              "      <th>hub_score</th>\n",
              "      <th>auth_score</th>\n",
              "    </tr>\n",
              "  </thead>\n",
              "  <tbody>\n",
              "    <tr>\n",
              "      <th>0</th>\n",
              "      <td>0</td>\n",
              "      <td>2</td>\n",
              "      <td>5</td>\n",
              "      <td>8.886472e-07</td>\n",
              "      <td>4.763850e-05</td>\n",
              "      <td>5.674574e-06</td>\n",
              "    </tr>\n",
              "    <tr>\n",
              "      <th>1</th>\n",
              "      <td>1</td>\n",
              "      <td>1</td>\n",
              "      <td>5</td>\n",
              "      <td>7.595271e-07</td>\n",
              "      <td>6.395747e-05</td>\n",
              "      <td>2.337667e-06</td>\n",
              "    </tr>\n",
              "    <tr>\n",
              "      <th>2</th>\n",
              "      <td>2</td>\n",
              "      <td>2</td>\n",
              "      <td>5</td>\n",
              "      <td>8.886472e-07</td>\n",
              "      <td>5.127175e-05</td>\n",
              "      <td>5.496262e-06</td>\n",
              "    </tr>\n",
              "    <tr>\n",
              "      <th>3</th>\n",
              "      <td>3</td>\n",
              "      <td>1</td>\n",
              "      <td>5</td>\n",
              "      <td>7.595271e-07</td>\n",
              "      <td>5.395929e-05</td>\n",
              "      <td>2.337667e-06</td>\n",
              "    </tr>\n",
              "    <tr>\n",
              "      <th>4</th>\n",
              "      <td>4</td>\n",
              "      <td>25</td>\n",
              "      <td>5</td>\n",
              "      <td>1.076645e-05</td>\n",
              "      <td>4.904757e-04</td>\n",
              "      <td>2.237277e-05</td>\n",
              "    </tr>\n",
              "    <tr>\n",
              "      <th>...</th>\n",
              "      <td>...</td>\n",
              "      <td>...</td>\n",
              "      <td>...</td>\n",
              "      <td>...</td>\n",
              "      <td>...</td>\n",
              "      <td>...</td>\n",
              "    </tr>\n",
              "    <tr>\n",
              "      <th>262106</th>\n",
              "      <td>262106</td>\n",
              "      <td>2</td>\n",
              "      <td>5</td>\n",
              "      <td>1.895723e-06</td>\n",
              "      <td>4.449405e-12</td>\n",
              "      <td>5.125588e-12</td>\n",
              "    </tr>\n",
              "    <tr>\n",
              "      <th>262107</th>\n",
              "      <td>262107</td>\n",
              "      <td>3</td>\n",
              "      <td>5</td>\n",
              "      <td>2.441936e-06</td>\n",
              "      <td>3.485290e-12</td>\n",
              "      <td>4.254202e-13</td>\n",
              "    </tr>\n",
              "    <tr>\n",
              "      <th>262108</th>\n",
              "      <td>262108</td>\n",
              "      <td>1</td>\n",
              "      <td>5</td>\n",
              "      <td>1.800167e-06</td>\n",
              "      <td>2.991218e-12</td>\n",
              "      <td>4.995048e-12</td>\n",
              "    </tr>\n",
              "    <tr>\n",
              "      <th>262109</th>\n",
              "      <td>262109</td>\n",
              "      <td>1</td>\n",
              "      <td>5</td>\n",
              "      <td>9.144734e-07</td>\n",
              "      <td>1.060986e-10</td>\n",
              "      <td>1.415069e-13</td>\n",
              "    </tr>\n",
              "    <tr>\n",
              "      <th>262110</th>\n",
              "      <td>262110</td>\n",
              "      <td>1</td>\n",
              "      <td>5</td>\n",
              "      <td>1.023569e-06</td>\n",
              "      <td>2.753226e-12</td>\n",
              "      <td>1.648803e-13</td>\n",
              "    </tr>\n",
              "  </tbody>\n",
              "</table>\n",
              "<p>262111 rows × 6 columns</p>\n",
              "</div>"
            ],
            "text/plain": [
              "        Node_id  in_degree  ...     hub_score    auth_score\n",
              "0             0          2  ...  4.763850e-05  5.674574e-06\n",
              "1             1          1  ...  6.395747e-05  2.337667e-06\n",
              "2             2          2  ...  5.127175e-05  5.496262e-06\n",
              "3             3          1  ...  5.395929e-05  2.337667e-06\n",
              "4             4         25  ...  4.904757e-04  2.237277e-05\n",
              "...         ...        ...  ...           ...           ...\n",
              "262106   262106          2  ...  4.449405e-12  5.125588e-12\n",
              "262107   262107          3  ...  3.485290e-12  4.254202e-13\n",
              "262108   262108          1  ...  2.991218e-12  4.995048e-12\n",
              "262109   262109          1  ...  1.060986e-10  1.415069e-13\n",
              "262110   262110          1  ...  2.753226e-12  1.648803e-13\n",
              "\n",
              "[262111 rows x 6 columns]"
            ]
          },
          "metadata": {
            "tags": []
          },
          "execution_count": 86
        }
      ]
    },
    {
      "cell_type": "code",
      "metadata": {
        "id": "04O67AU8V2jJ"
      },
      "source": [
        "node_attributes['n_triads']=node_attributes.apply(lambda x :graph.GetNodeTriads(int(x.Node_id)),axis=1)"
      ],
      "execution_count": null,
      "outputs": []
    },
    {
      "cell_type": "code",
      "metadata": {
        "colab": {
          "base_uri": "https://localhost:8080/",
          "height": 195
        },
        "id": "7NbHF4iYdrtZ",
        "outputId": "37da71ef-fc9c-4271-af90-28564b3c6b5f"
      },
      "source": [
        "node_attributes.head()"
      ],
      "execution_count": null,
      "outputs": [
        {
          "output_type": "execute_result",
          "data": {
            "text/html": [
              "<div>\n",
              "<style scoped>\n",
              "    .dataframe tbody tr th:only-of-type {\n",
              "        vertical-align: middle;\n",
              "    }\n",
              "\n",
              "    .dataframe tbody tr th {\n",
              "        vertical-align: top;\n",
              "    }\n",
              "\n",
              "    .dataframe thead th {\n",
              "        text-align: right;\n",
              "    }\n",
              "</style>\n",
              "<table border=\"1\" class=\"dataframe\">\n",
              "  <thead>\n",
              "    <tr style=\"text-align: right;\">\n",
              "      <th></th>\n",
              "      <th>Node_id</th>\n",
              "      <th>in_degree</th>\n",
              "      <th>out_degree</th>\n",
              "      <th>page_rank</th>\n",
              "      <th>hub_score</th>\n",
              "      <th>auth_score</th>\n",
              "      <th>n_triads</th>\n",
              "    </tr>\n",
              "  </thead>\n",
              "  <tbody>\n",
              "    <tr>\n",
              "      <th>0</th>\n",
              "      <td>0</td>\n",
              "      <td>2</td>\n",
              "      <td>5</td>\n",
              "      <td>8.886472e-07</td>\n",
              "      <td>0.000048</td>\n",
              "      <td>0.000006</td>\n",
              "      <td>3</td>\n",
              "    </tr>\n",
              "    <tr>\n",
              "      <th>1</th>\n",
              "      <td>1</td>\n",
              "      <td>1</td>\n",
              "      <td>5</td>\n",
              "      <td>7.595271e-07</td>\n",
              "      <td>0.000064</td>\n",
              "      <td>0.000002</td>\n",
              "      <td>3</td>\n",
              "    </tr>\n",
              "    <tr>\n",
              "      <th>2</th>\n",
              "      <td>2</td>\n",
              "      <td>2</td>\n",
              "      <td>5</td>\n",
              "      <td>8.886472e-07</td>\n",
              "      <td>0.000051</td>\n",
              "      <td>0.000005</td>\n",
              "      <td>2</td>\n",
              "    </tr>\n",
              "    <tr>\n",
              "      <th>3</th>\n",
              "      <td>3</td>\n",
              "      <td>1</td>\n",
              "      <td>5</td>\n",
              "      <td>7.595271e-07</td>\n",
              "      <td>0.000054</td>\n",
              "      <td>0.000002</td>\n",
              "      <td>6</td>\n",
              "    </tr>\n",
              "    <tr>\n",
              "      <th>4</th>\n",
              "      <td>4</td>\n",
              "      <td>25</td>\n",
              "      <td>5</td>\n",
              "      <td>1.076645e-05</td>\n",
              "      <td>0.000490</td>\n",
              "      <td>0.000022</td>\n",
              "      <td>41</td>\n",
              "    </tr>\n",
              "  </tbody>\n",
              "</table>\n",
              "</div>"
            ],
            "text/plain": [
              "   Node_id  in_degree  out_degree  ...  hub_score  auth_score  n_triads\n",
              "0        0          2           5  ...   0.000048    0.000006         3\n",
              "1        1          1           5  ...   0.000064    0.000002         3\n",
              "2        2          2           5  ...   0.000051    0.000005         2\n",
              "3        3          1           5  ...   0.000054    0.000002         6\n",
              "4        4         25           5  ...   0.000490    0.000022        41\n",
              "\n",
              "[5 rows x 7 columns]"
            ]
          },
          "metadata": {
            "tags": []
          },
          "execution_count": 88
        }
      ]
    },
    {
      "cell_type": "code",
      "metadata": {
        "id": "tWFQPMyRdr64"
      },
      "source": [
        "node_attributes['Clustr_cf']=node_attributes.apply(lambda x :graph.GetNodeClustCf(int(x.Node_id)),axis=1)"
      ],
      "execution_count": null,
      "outputs": []
    },
    {
      "cell_type": "code",
      "metadata": {
        "colab": {
          "base_uri": "https://localhost:8080/",
          "height": 402
        },
        "id": "7pWpUJA9esE9",
        "outputId": "c3aab689-5c86-4ee7-91dd-99ff25cefd7e"
      },
      "source": [
        "node_attributes"
      ],
      "execution_count": null,
      "outputs": [
        {
          "output_type": "execute_result",
          "data": {
            "text/html": [
              "<div>\n",
              "<style scoped>\n",
              "    .dataframe tbody tr th:only-of-type {\n",
              "        vertical-align: middle;\n",
              "    }\n",
              "\n",
              "    .dataframe tbody tr th {\n",
              "        vertical-align: top;\n",
              "    }\n",
              "\n",
              "    .dataframe thead th {\n",
              "        text-align: right;\n",
              "    }\n",
              "</style>\n",
              "<table border=\"1\" class=\"dataframe\">\n",
              "  <thead>\n",
              "    <tr style=\"text-align: right;\">\n",
              "      <th></th>\n",
              "      <th>Node_id</th>\n",
              "      <th>in_degree</th>\n",
              "      <th>out_degree</th>\n",
              "      <th>page_rank</th>\n",
              "      <th>hub_score</th>\n",
              "      <th>auth_score</th>\n",
              "      <th>n_triads</th>\n",
              "      <th>Clustr_cf</th>\n",
              "    </tr>\n",
              "  </thead>\n",
              "  <tbody>\n",
              "    <tr>\n",
              "      <th>0</th>\n",
              "      <td>0</td>\n",
              "      <td>2</td>\n",
              "      <td>5</td>\n",
              "      <td>8.886472e-07</td>\n",
              "      <td>4.763850e-05</td>\n",
              "      <td>5.674574e-06</td>\n",
              "      <td>3</td>\n",
              "      <td>0.300000</td>\n",
              "    </tr>\n",
              "    <tr>\n",
              "      <th>1</th>\n",
              "      <td>1</td>\n",
              "      <td>1</td>\n",
              "      <td>5</td>\n",
              "      <td>7.595271e-07</td>\n",
              "      <td>6.395747e-05</td>\n",
              "      <td>2.337667e-06</td>\n",
              "      <td>3</td>\n",
              "      <td>0.300000</td>\n",
              "    </tr>\n",
              "    <tr>\n",
              "      <th>2</th>\n",
              "      <td>2</td>\n",
              "      <td>2</td>\n",
              "      <td>5</td>\n",
              "      <td>8.886472e-07</td>\n",
              "      <td>5.127175e-05</td>\n",
              "      <td>5.496262e-06</td>\n",
              "      <td>2</td>\n",
              "      <td>0.133333</td>\n",
              "    </tr>\n",
              "    <tr>\n",
              "      <th>3</th>\n",
              "      <td>3</td>\n",
              "      <td>1</td>\n",
              "      <td>5</td>\n",
              "      <td>7.595271e-07</td>\n",
              "      <td>5.395929e-05</td>\n",
              "      <td>2.337667e-06</td>\n",
              "      <td>6</td>\n",
              "      <td>0.400000</td>\n",
              "    </tr>\n",
              "    <tr>\n",
              "      <th>4</th>\n",
              "      <td>4</td>\n",
              "      <td>25</td>\n",
              "      <td>5</td>\n",
              "      <td>1.076645e-05</td>\n",
              "      <td>4.904757e-04</td>\n",
              "      <td>2.237277e-05</td>\n",
              "      <td>41</td>\n",
              "      <td>0.108466</td>\n",
              "    </tr>\n",
              "    <tr>\n",
              "      <th>...</th>\n",
              "      <td>...</td>\n",
              "      <td>...</td>\n",
              "      <td>...</td>\n",
              "      <td>...</td>\n",
              "      <td>...</td>\n",
              "      <td>...</td>\n",
              "      <td>...</td>\n",
              "      <td>...</td>\n",
              "    </tr>\n",
              "    <tr>\n",
              "      <th>262106</th>\n",
              "      <td>262106</td>\n",
              "      <td>2</td>\n",
              "      <td>5</td>\n",
              "      <td>1.895723e-06</td>\n",
              "      <td>4.449405e-12</td>\n",
              "      <td>5.125588e-12</td>\n",
              "      <td>12</td>\n",
              "      <td>0.800000</td>\n",
              "    </tr>\n",
              "    <tr>\n",
              "      <th>262107</th>\n",
              "      <td>262107</td>\n",
              "      <td>3</td>\n",
              "      <td>5</td>\n",
              "      <td>2.441936e-06</td>\n",
              "      <td>3.485290e-12</td>\n",
              "      <td>4.254202e-13</td>\n",
              "      <td>11</td>\n",
              "      <td>0.733333</td>\n",
              "    </tr>\n",
              "    <tr>\n",
              "      <th>262108</th>\n",
              "      <td>262108</td>\n",
              "      <td>1</td>\n",
              "      <td>5</td>\n",
              "      <td>1.800167e-06</td>\n",
              "      <td>2.991218e-12</td>\n",
              "      <td>4.995048e-12</td>\n",
              "      <td>9</td>\n",
              "      <td>0.900000</td>\n",
              "    </tr>\n",
              "    <tr>\n",
              "      <th>262109</th>\n",
              "      <td>262109</td>\n",
              "      <td>1</td>\n",
              "      <td>5</td>\n",
              "      <td>9.144734e-07</td>\n",
              "      <td>1.060986e-10</td>\n",
              "      <td>1.415069e-13</td>\n",
              "      <td>13</td>\n",
              "      <td>0.866667</td>\n",
              "    </tr>\n",
              "    <tr>\n",
              "      <th>262110</th>\n",
              "      <td>262110</td>\n",
              "      <td>1</td>\n",
              "      <td>5</td>\n",
              "      <td>1.023569e-06</td>\n",
              "      <td>2.753226e-12</td>\n",
              "      <td>1.648803e-13</td>\n",
              "      <td>8</td>\n",
              "      <td>0.800000</td>\n",
              "    </tr>\n",
              "  </tbody>\n",
              "</table>\n",
              "<p>262111 rows × 8 columns</p>\n",
              "</div>"
            ],
            "text/plain": [
              "        Node_id  in_degree  out_degree  ...    auth_score  n_triads  Clustr_cf\n",
              "0             0          2           5  ...  5.674574e-06         3   0.300000\n",
              "1             1          1           5  ...  2.337667e-06         3   0.300000\n",
              "2             2          2           5  ...  5.496262e-06         2   0.133333\n",
              "3             3          1           5  ...  2.337667e-06         6   0.400000\n",
              "4             4         25           5  ...  2.237277e-05        41   0.108466\n",
              "...         ...        ...         ...  ...           ...       ...        ...\n",
              "262106   262106          2           5  ...  5.125588e-12        12   0.800000\n",
              "262107   262107          3           5  ...  4.254202e-13        11   0.733333\n",
              "262108   262108          1           5  ...  4.995048e-12         9   0.900000\n",
              "262109   262109          1           5  ...  1.415069e-13        13   0.866667\n",
              "262110   262110          1           5  ...  1.648803e-13         8   0.800000\n",
              "\n",
              "[262111 rows x 8 columns]"
            ]
          },
          "metadata": {
            "tags": []
          },
          "execution_count": 90
        }
      ]
    },
    {
      "cell_type": "code",
      "metadata": {
        "id": "kTSr5fkY5hX9"
      },
      "source": [
        ""
      ],
      "execution_count": null,
      "outputs": []
    },
    {
      "cell_type": "markdown",
      "metadata": {
        "id": "sk3MRWUl5pB2"
      },
      "source": [
        "## **Step 7:** Using Graph based analysis to improve the sale and drive the focus area <a name=\"7\"></a>\n"
      ]
    },
    {
      "cell_type": "markdown",
      "metadata": {
        "id": "cK7yQglK6Nzf"
      },
      "source": [
        "#### 1 . Popular products are the ones with high page_rank/centrality score <a name='7.1'></a>"
      ]
    },
    {
      "cell_type": "code",
      "metadata": {
        "colab": {
          "base_uri": "https://localhost:8080/"
        },
        "id": "U2HVUoGEvueT",
        "outputId": "71887286-e57c-4440-ca38-583f4e53eadf"
      },
      "source": [
        "ex_high_pgrnk=node_attributes.page_rank.mean()+node_attributes.page_rank.std()\n",
        "ex_high_pgrnk"
      ],
      "execution_count": null,
      "outputs": [
        {
          "output_type": "execute_result",
          "data": {
            "text/plain": [
              "1.3096018928027278e-05"
            ]
          },
          "metadata": {
            "tags": []
          },
          "execution_count": 91
        }
      ]
    },
    {
      "cell_type": "code",
      "metadata": {
        "colab": {
          "base_uri": "https://localhost:8080/",
          "height": 402
        },
        "id": "0n4IEzRIvh26",
        "outputId": "743d507b-af22-4261-9525-96a295ee2d5a"
      },
      "source": [
        " node_attributes[node_attributes.page_rank>ex_high_pgrnk]"
      ],
      "execution_count": null,
      "outputs": [
        {
          "output_type": "execute_result",
          "data": {
            "text/html": [
              "<div>\n",
              "<style scoped>\n",
              "    .dataframe tbody tr th:only-of-type {\n",
              "        vertical-align: middle;\n",
              "    }\n",
              "\n",
              "    .dataframe tbody tr th {\n",
              "        vertical-align: top;\n",
              "    }\n",
              "\n",
              "    .dataframe thead th {\n",
              "        text-align: right;\n",
              "    }\n",
              "</style>\n",
              "<table border=\"1\" class=\"dataframe\">\n",
              "  <thead>\n",
              "    <tr style=\"text-align: right;\">\n",
              "      <th></th>\n",
              "      <th>Node_id</th>\n",
              "      <th>in_degree</th>\n",
              "      <th>out_degree</th>\n",
              "      <th>page_rank</th>\n",
              "      <th>hub_score</th>\n",
              "      <th>auth_score</th>\n",
              "      <th>n_triads</th>\n",
              "      <th>Clustr_cf</th>\n",
              "    </tr>\n",
              "  </thead>\n",
              "  <tbody>\n",
              "    <tr>\n",
              "      <th>5</th>\n",
              "      <td>5</td>\n",
              "      <td>54</td>\n",
              "      <td>5</td>\n",
              "      <td>0.000131</td>\n",
              "      <td>3.311300e-03</td>\n",
              "      <td>9.762999e-04</td>\n",
              "      <td>79</td>\n",
              "      <td>0.051299</td>\n",
              "    </tr>\n",
              "    <tr>\n",
              "      <th>6</th>\n",
              "      <td>6</td>\n",
              "      <td>98</td>\n",
              "      <td>5</td>\n",
              "      <td>0.000185</td>\n",
              "      <td>2.937866e-03</td>\n",
              "      <td>1.020202e-02</td>\n",
              "      <td>66</td>\n",
              "      <td>0.013069</td>\n",
              "    </tr>\n",
              "    <tr>\n",
              "      <th>7</th>\n",
              "      <td>7</td>\n",
              "      <td>34</td>\n",
              "      <td>5</td>\n",
              "      <td>0.000201</td>\n",
              "      <td>2.864395e-03</td>\n",
              "      <td>1.878698e-03</td>\n",
              "      <td>38</td>\n",
              "      <td>0.057057</td>\n",
              "    </tr>\n",
              "    <tr>\n",
              "      <th>8</th>\n",
              "      <td>8</td>\n",
              "      <td>293</td>\n",
              "      <td>5</td>\n",
              "      <td>0.000906</td>\n",
              "      <td>2.508434e-04</td>\n",
              "      <td>5.663351e-02</td>\n",
              "      <td>166</td>\n",
              "      <td>0.003802</td>\n",
              "    </tr>\n",
              "    <tr>\n",
              "      <th>9</th>\n",
              "      <td>9</td>\n",
              "      <td>20</td>\n",
              "      <td>0</td>\n",
              "      <td>0.000168</td>\n",
              "      <td>0.000000e+00</td>\n",
              "      <td>9.653628e-04</td>\n",
              "      <td>14</td>\n",
              "      <td>0.073684</td>\n",
              "    </tr>\n",
              "    <tr>\n",
              "      <th>...</th>\n",
              "      <td>...</td>\n",
              "      <td>...</td>\n",
              "      <td>...</td>\n",
              "      <td>...</td>\n",
              "      <td>...</td>\n",
              "      <td>...</td>\n",
              "      <td>...</td>\n",
              "      <td>...</td>\n",
              "    </tr>\n",
              "    <tr>\n",
              "      <th>261213</th>\n",
              "      <td>261213</td>\n",
              "      <td>17</td>\n",
              "      <td>5</td>\n",
              "      <td>0.000016</td>\n",
              "      <td>2.822956e-06</td>\n",
              "      <td>2.092580e-08</td>\n",
              "      <td>28</td>\n",
              "      <td>0.183007</td>\n",
              "    </tr>\n",
              "    <tr>\n",
              "      <th>261572</th>\n",
              "      <td>261572</td>\n",
              "      <td>23</td>\n",
              "      <td>5</td>\n",
              "      <td>0.000023</td>\n",
              "      <td>3.264110e-12</td>\n",
              "      <td>1.332903e-12</td>\n",
              "      <td>50</td>\n",
              "      <td>0.197628</td>\n",
              "    </tr>\n",
              "    <tr>\n",
              "      <th>261581</th>\n",
              "      <td>261581</td>\n",
              "      <td>10</td>\n",
              "      <td>5</td>\n",
              "      <td>0.000013</td>\n",
              "      <td>3.330485e-12</td>\n",
              "      <td>3.349291e-11</td>\n",
              "      <td>20</td>\n",
              "      <td>0.444444</td>\n",
              "    </tr>\n",
              "    <tr>\n",
              "      <th>261582</th>\n",
              "      <td>261582</td>\n",
              "      <td>17</td>\n",
              "      <td>5</td>\n",
              "      <td>0.000015</td>\n",
              "      <td>8.532305e-14</td>\n",
              "      <td>5.961414e-13</td>\n",
              "      <td>35</td>\n",
              "      <td>0.257353</td>\n",
              "    </tr>\n",
              "    <tr>\n",
              "      <th>261584</th>\n",
              "      <td>261584</td>\n",
              "      <td>17</td>\n",
              "      <td>5</td>\n",
              "      <td>0.000019</td>\n",
              "      <td>3.319212e-12</td>\n",
              "      <td>3.436276e-11</td>\n",
              "      <td>34</td>\n",
              "      <td>0.250000</td>\n",
              "    </tr>\n",
              "  </tbody>\n",
              "</table>\n",
              "<p>9224 rows × 8 columns</p>\n",
              "</div>"
            ],
            "text/plain": [
              "        Node_id  in_degree  out_degree  ...    auth_score  n_triads  Clustr_cf\n",
              "5             5         54           5  ...  9.762999e-04        79   0.051299\n",
              "6             6         98           5  ...  1.020202e-02        66   0.013069\n",
              "7             7         34           5  ...  1.878698e-03        38   0.057057\n",
              "8             8        293           5  ...  5.663351e-02       166   0.003802\n",
              "9             9         20           0  ...  9.653628e-04        14   0.073684\n",
              "...         ...        ...         ...  ...           ...       ...        ...\n",
              "261213   261213         17           5  ...  2.092580e-08        28   0.183007\n",
              "261572   261572         23           5  ...  1.332903e-12        50   0.197628\n",
              "261581   261581         10           5  ...  3.349291e-11        20   0.444444\n",
              "261582   261582         17           5  ...  5.961414e-13        35   0.257353\n",
              "261584   261584         17           5  ...  3.436276e-11        34   0.250000\n",
              "\n",
              "[9224 rows x 8 columns]"
            ]
          },
          "metadata": {
            "tags": []
          },
          "execution_count": 92
        }
      ]
    },
    {
      "cell_type": "code",
      "metadata": {
        "id": "qSDHw-YPvhxB"
      },
      "source": [
        ""
      ],
      "execution_count": null,
      "outputs": []
    },
    {
      "cell_type": "markdown",
      "metadata": {
        "id": "ZSqb5HIs6aBs"
      },
      "source": [
        "#### 2 . Products which might rose to popularity <a name='7.2'></a>"
      ]
    },
    {
      "cell_type": "code",
      "metadata": {
        "colab": {
          "base_uri": "https://localhost:8080/",
          "height": 52
        },
        "id": "M3hTkHz0esZQ",
        "outputId": "526f1b58-b225-448b-8f33-811cfd7dfaf8"
      },
      "source": [
        "''' Products with high hub score and low Clustr_cf must be increased in sale since they might trigger the sale of products with high authority score'''"
      ],
      "execution_count": null,
      "outputs": [
        {
          "output_type": "execute_result",
          "data": {
            "application/vnd.google.colaboratory.intrinsic+json": {
              "type": "string"
            },
            "text/plain": [
              "' Products with high hub score and low Clustr_cf must be increased in sale since they might trigger the sale of products with high authority score'"
            ]
          },
          "metadata": {
            "tags": []
          },
          "execution_count": 93
        }
      ]
    },
    {
      "cell_type": "code",
      "metadata": {
        "id": "x3i3gJGrl45i"
      },
      "source": [
        "ex_high_hub=node_attributes.hub_score.mean()+node_attributes.hub_score.std()\n",
        "ex_high_auth=node_attributes.auth_score.mean()+node_attributes.auth_score.std()\n",
        "ex_low_clcf=node_attributes.Clustr_cf.mean()-node_attributes.Clustr_cf.std()"
      ],
      "execution_count": null,
      "outputs": []
    },
    {
      "cell_type": "code",
      "metadata": {
        "colab": {
          "base_uri": "https://localhost:8080/",
          "height": 402
        },
        "id": "pUM1OXjl6-za",
        "outputId": "8fe98813-4b50-4540-b45f-a3727f87a062"
      },
      "source": [
        "products_for_target_sell = node_attributes[(node_attributes.page_rank>ex_high_pgrnk) & (node_attributes.Clustr_cf<ex_low_clcf) ]\n",
        "products_for_target_sell"
      ],
      "execution_count": null,
      "outputs": [
        {
          "output_type": "execute_result",
          "data": {
            "text/html": [
              "<div>\n",
              "<style scoped>\n",
              "    .dataframe tbody tr th:only-of-type {\n",
              "        vertical-align: middle;\n",
              "    }\n",
              "\n",
              "    .dataframe tbody tr th {\n",
              "        vertical-align: top;\n",
              "    }\n",
              "\n",
              "    .dataframe thead th {\n",
              "        text-align: right;\n",
              "    }\n",
              "</style>\n",
              "<table border=\"1\" class=\"dataframe\">\n",
              "  <thead>\n",
              "    <tr style=\"text-align: right;\">\n",
              "      <th></th>\n",
              "      <th>Node_id</th>\n",
              "      <th>in_degree</th>\n",
              "      <th>out_degree</th>\n",
              "      <th>page_rank</th>\n",
              "      <th>hub_score</th>\n",
              "      <th>auth_score</th>\n",
              "      <th>n_triads</th>\n",
              "      <th>Clustr_cf</th>\n",
              "    </tr>\n",
              "  </thead>\n",
              "  <tbody>\n",
              "    <tr>\n",
              "      <th>5</th>\n",
              "      <td>5</td>\n",
              "      <td>54</td>\n",
              "      <td>5</td>\n",
              "      <td>0.000131</td>\n",
              "      <td>3.311300e-03</td>\n",
              "      <td>9.762999e-04</td>\n",
              "      <td>79</td>\n",
              "      <td>0.051299</td>\n",
              "    </tr>\n",
              "    <tr>\n",
              "      <th>6</th>\n",
              "      <td>6</td>\n",
              "      <td>98</td>\n",
              "      <td>5</td>\n",
              "      <td>0.000185</td>\n",
              "      <td>2.937866e-03</td>\n",
              "      <td>1.020202e-02</td>\n",
              "      <td>66</td>\n",
              "      <td>0.013069</td>\n",
              "    </tr>\n",
              "    <tr>\n",
              "      <th>7</th>\n",
              "      <td>7</td>\n",
              "      <td>34</td>\n",
              "      <td>5</td>\n",
              "      <td>0.000201</td>\n",
              "      <td>2.864395e-03</td>\n",
              "      <td>1.878698e-03</td>\n",
              "      <td>38</td>\n",
              "      <td>0.057057</td>\n",
              "    </tr>\n",
              "    <tr>\n",
              "      <th>8</th>\n",
              "      <td>8</td>\n",
              "      <td>293</td>\n",
              "      <td>5</td>\n",
              "      <td>0.000906</td>\n",
              "      <td>2.508434e-04</td>\n",
              "      <td>5.663351e-02</td>\n",
              "      <td>166</td>\n",
              "      <td>0.003802</td>\n",
              "    </tr>\n",
              "    <tr>\n",
              "      <th>9</th>\n",
              "      <td>9</td>\n",
              "      <td>20</td>\n",
              "      <td>0</td>\n",
              "      <td>0.000168</td>\n",
              "      <td>0.000000e+00</td>\n",
              "      <td>9.653628e-04</td>\n",
              "      <td>14</td>\n",
              "      <td>0.073684</td>\n",
              "    </tr>\n",
              "    <tr>\n",
              "      <th>...</th>\n",
              "      <td>...</td>\n",
              "      <td>...</td>\n",
              "      <td>...</td>\n",
              "      <td>...</td>\n",
              "      <td>...</td>\n",
              "      <td>...</td>\n",
              "      <td>...</td>\n",
              "      <td>...</td>\n",
              "    </tr>\n",
              "    <tr>\n",
              "      <th>205477</th>\n",
              "      <td>205477</td>\n",
              "      <td>32</td>\n",
              "      <td>5</td>\n",
              "      <td>0.000035</td>\n",
              "      <td>3.131274e-10</td>\n",
              "      <td>1.095330e-08</td>\n",
              "      <td>53</td>\n",
              "      <td>0.106855</td>\n",
              "    </tr>\n",
              "    <tr>\n",
              "      <th>213261</th>\n",
              "      <td>213261</td>\n",
              "      <td>23</td>\n",
              "      <td>5</td>\n",
              "      <td>0.000017</td>\n",
              "      <td>1.987423e-08</td>\n",
              "      <td>6.344874e-08</td>\n",
              "      <td>34</td>\n",
              "      <td>0.134387</td>\n",
              "    </tr>\n",
              "    <tr>\n",
              "      <th>218156</th>\n",
              "      <td>218156</td>\n",
              "      <td>23</td>\n",
              "      <td>5</td>\n",
              "      <td>0.000018</td>\n",
              "      <td>2.513467e-09</td>\n",
              "      <td>2.596640e-08</td>\n",
              "      <td>34</td>\n",
              "      <td>0.134387</td>\n",
              "    </tr>\n",
              "    <tr>\n",
              "      <th>228899</th>\n",
              "      <td>228899</td>\n",
              "      <td>16</td>\n",
              "      <td>5</td>\n",
              "      <td>0.000015</td>\n",
              "      <td>1.235220e-05</td>\n",
              "      <td>1.310521e-04</td>\n",
              "      <td>17</td>\n",
              "      <td>0.141667</td>\n",
              "    </tr>\n",
              "    <tr>\n",
              "      <th>233453</th>\n",
              "      <td>233453</td>\n",
              "      <td>23</td>\n",
              "      <td>5</td>\n",
              "      <td>0.000015</td>\n",
              "      <td>6.617876e-08</td>\n",
              "      <td>1.956901e-06</td>\n",
              "      <td>36</td>\n",
              "      <td>0.142292</td>\n",
              "    </tr>\n",
              "  </tbody>\n",
              "</table>\n",
              "<p>3560 rows × 8 columns</p>\n",
              "</div>"
            ],
            "text/plain": [
              "        Node_id  in_degree  out_degree  ...    auth_score  n_triads  Clustr_cf\n",
              "5             5         54           5  ...  9.762999e-04        79   0.051299\n",
              "6             6         98           5  ...  1.020202e-02        66   0.013069\n",
              "7             7         34           5  ...  1.878698e-03        38   0.057057\n",
              "8             8        293           5  ...  5.663351e-02       166   0.003802\n",
              "9             9         20           0  ...  9.653628e-04        14   0.073684\n",
              "...         ...        ...         ...  ...           ...       ...        ...\n",
              "205477   205477         32           5  ...  1.095330e-08        53   0.106855\n",
              "213261   213261         23           5  ...  6.344874e-08        34   0.134387\n",
              "218156   218156         23           5  ...  2.596640e-08        34   0.134387\n",
              "228899   228899         16           5  ...  1.310521e-04        17   0.141667\n",
              "233453   233453         23           5  ...  1.956901e-06        36   0.142292\n",
              "\n",
              "[3560 rows x 8 columns]"
            ]
          },
          "metadata": {
            "tags": []
          },
          "execution_count": 95
        }
      ]
    },
    {
      "cell_type": "markdown",
      "metadata": {
        "id": "FuRNKb9R7jEh"
      },
      "source": [
        "#### 3 . Products which should be targeted inorder to trigger the sale of others <a name='7.3'></a>"
      ]
    },
    {
      "cell_type": "code",
      "metadata": {
        "colab": {
          "base_uri": "https://localhost:8080/",
          "height": 402
        },
        "id": "FaMvKdtKl4uB",
        "outputId": "074c3299-5921-4c5a-cc04-a4dac2248c69"
      },
      "source": [
        "hub_products_to_sell = node_attributes[(node_attributes.hub_score>ex_high_hub) & (node_attributes.Clustr_cf<ex_low_clcf) ]\n",
        "hub_products_to_sell"
      ],
      "execution_count": null,
      "outputs": [
        {
          "output_type": "execute_result",
          "data": {
            "text/html": [
              "<div>\n",
              "<style scoped>\n",
              "    .dataframe tbody tr th:only-of-type {\n",
              "        vertical-align: middle;\n",
              "    }\n",
              "\n",
              "    .dataframe tbody tr th {\n",
              "        vertical-align: top;\n",
              "    }\n",
              "\n",
              "    .dataframe thead th {\n",
              "        text-align: right;\n",
              "    }\n",
              "</style>\n",
              "<table border=\"1\" class=\"dataframe\">\n",
              "  <thead>\n",
              "    <tr style=\"text-align: right;\">\n",
              "      <th></th>\n",
              "      <th>Node_id</th>\n",
              "      <th>in_degree</th>\n",
              "      <th>out_degree</th>\n",
              "      <th>page_rank</th>\n",
              "      <th>hub_score</th>\n",
              "      <th>auth_score</th>\n",
              "      <th>n_triads</th>\n",
              "      <th>Clustr_cf</th>\n",
              "    </tr>\n",
              "  </thead>\n",
              "  <tbody>\n",
              "    <tr>\n",
              "      <th>5</th>\n",
              "      <td>5</td>\n",
              "      <td>54</td>\n",
              "      <td>5</td>\n",
              "      <td>1.314575e-04</td>\n",
              "      <td>0.003311</td>\n",
              "      <td>9.762999e-04</td>\n",
              "      <td>79</td>\n",
              "      <td>0.051299</td>\n",
              "    </tr>\n",
              "    <tr>\n",
              "      <th>6</th>\n",
              "      <td>6</td>\n",
              "      <td>98</td>\n",
              "      <td>5</td>\n",
              "      <td>1.851205e-04</td>\n",
              "      <td>0.002938</td>\n",
              "      <td>1.020202e-02</td>\n",
              "      <td>66</td>\n",
              "      <td>0.013069</td>\n",
              "    </tr>\n",
              "    <tr>\n",
              "      <th>7</th>\n",
              "      <td>7</td>\n",
              "      <td>34</td>\n",
              "      <td>5</td>\n",
              "      <td>2.010097e-04</td>\n",
              "      <td>0.002864</td>\n",
              "      <td>1.878698e-03</td>\n",
              "      <td>38</td>\n",
              "      <td>0.057057</td>\n",
              "    </tr>\n",
              "    <tr>\n",
              "      <th>17</th>\n",
              "      <td>17</td>\n",
              "      <td>21</td>\n",
              "      <td>5</td>\n",
              "      <td>1.508724e-05</td>\n",
              "      <td>0.003309</td>\n",
              "      <td>8.334128e-05</td>\n",
              "      <td>27</td>\n",
              "      <td>0.090000</td>\n",
              "    </tr>\n",
              "    <tr>\n",
              "      <th>18</th>\n",
              "      <td>18</td>\n",
              "      <td>172</td>\n",
              "      <td>5</td>\n",
              "      <td>3.026123e-04</td>\n",
              "      <td>0.006516</td>\n",
              "      <td>8.366780e-03</td>\n",
              "      <td>141</td>\n",
              "      <td>0.009477</td>\n",
              "    </tr>\n",
              "    <tr>\n",
              "      <th>...</th>\n",
              "      <td>...</td>\n",
              "      <td>...</td>\n",
              "      <td>...</td>\n",
              "      <td>...</td>\n",
              "      <td>...</td>\n",
              "      <td>...</td>\n",
              "      <td>...</td>\n",
              "      <td>...</td>\n",
              "    </tr>\n",
              "    <tr>\n",
              "      <th>261947</th>\n",
              "      <td>261947</td>\n",
              "      <td>3</td>\n",
              "      <td>5</td>\n",
              "      <td>1.376405e-06</td>\n",
              "      <td>0.005635</td>\n",
              "      <td>1.538398e-06</td>\n",
              "      <td>1</td>\n",
              "      <td>0.100000</td>\n",
              "    </tr>\n",
              "    <tr>\n",
              "      <th>261985</th>\n",
              "      <td>261985</td>\n",
              "      <td>2</td>\n",
              "      <td>5</td>\n",
              "      <td>2.177681e-06</td>\n",
              "      <td>0.002613</td>\n",
              "      <td>1.191276e-06</td>\n",
              "      <td>1</td>\n",
              "      <td>0.100000</td>\n",
              "    </tr>\n",
              "    <tr>\n",
              "      <th>261986</th>\n",
              "      <td>261986</td>\n",
              "      <td>1</td>\n",
              "      <td>3</td>\n",
              "      <td>1.536207e-06</td>\n",
              "      <td>0.003997</td>\n",
              "      <td>3.620334e-07</td>\n",
              "      <td>0</td>\n",
              "      <td>0.000000</td>\n",
              "    </tr>\n",
              "    <tr>\n",
              "      <th>261990</th>\n",
              "      <td>261990</td>\n",
              "      <td>1</td>\n",
              "      <td>2</td>\n",
              "      <td>9.034880e-07</td>\n",
              "      <td>0.006145</td>\n",
              "      <td>8.716964e-07</td>\n",
              "      <td>0</td>\n",
              "      <td>0.000000</td>\n",
              "    </tr>\n",
              "    <tr>\n",
              "      <th>262028</th>\n",
              "      <td>262028</td>\n",
              "      <td>1</td>\n",
              "      <td>4</td>\n",
              "      <td>1.025024e-06</td>\n",
              "      <td>0.002631</td>\n",
              "      <td>1.531988e-03</td>\n",
              "      <td>0</td>\n",
              "      <td>0.000000</td>\n",
              "    </tr>\n",
              "  </tbody>\n",
              "</table>\n",
              "<p>1409 rows × 8 columns</p>\n",
              "</div>"
            ],
            "text/plain": [
              "        Node_id  in_degree  out_degree  ...    auth_score  n_triads  Clustr_cf\n",
              "5             5         54           5  ...  9.762999e-04        79   0.051299\n",
              "6             6         98           5  ...  1.020202e-02        66   0.013069\n",
              "7             7         34           5  ...  1.878698e-03        38   0.057057\n",
              "17           17         21           5  ...  8.334128e-05        27   0.090000\n",
              "18           18        172           5  ...  8.366780e-03       141   0.009477\n",
              "...         ...        ...         ...  ...           ...       ...        ...\n",
              "261947   261947          3           5  ...  1.538398e-06         1   0.100000\n",
              "261985   261985          2           5  ...  1.191276e-06         1   0.100000\n",
              "261986   261986          1           3  ...  3.620334e-07         0   0.000000\n",
              "261990   261990          1           2  ...  8.716964e-07         0   0.000000\n",
              "262028   262028          1           4  ...  1.531988e-03         0   0.000000\n",
              "\n",
              "[1409 rows x 8 columns]"
            ]
          },
          "metadata": {
            "tags": []
          },
          "execution_count": 96
        }
      ]
    },
    {
      "cell_type": "markdown",
      "metadata": {
        "id": "QRSmomJS9q3O"
      },
      "source": [
        "#### 4 . Product sale within the same and diverse product group <a name='7.4'></a>"
      ]
    },
    {
      "cell_type": "code",
      "metadata": {
        "id": "JwTDfnvdBlHX"
      },
      "source": [
        "def get_avg_clstr_coef(x):\n",
        "    src_nodes=x['src_product_list']\n",
        "    dest_nodes=x['dest_product_list']\n",
        "    nodes=set([*src_nodes,*dest_nodes])\n",
        "    nodes=[int(i) for i in nodes]\n",
        "    clus_coefs=[]\n",
        "    for node in nodes:\n",
        "        clus_coefs.append(graph.GetNodeClustCf(node))\n",
        "    avg_clus_coef=np.mean(clus_coefs)\n",
        "    return avg_clus_coef"
      ],
      "execution_count": null,
      "outputs": []
    },
    {
      "cell_type": "code",
      "metadata": {
        "id": "lE9ZZmrAAasY"
      },
      "source": [
        "same_group_ID=node_meta_src_des.groupBy(['group','group2']).agg(F.collect_list('src').alias('src_product_list'),F.collect_list('dest').alias('dest_product_list')).toPandas()"
      ],
      "execution_count": null,
      "outputs": []
    },
    {
      "cell_type": "code",
      "metadata": {
        "id": "5JxEfTUOXVw6"
      },
      "source": [
        "same_group_ID['Clustr_coef']=same_group_ID.apply(lambda x: get_avg_clstr_coef(x),axis=1)"
      ],
      "execution_count": null,
      "outputs": []
    },
    {
      "cell_type": "code",
      "metadata": {
        "colab": {
          "base_uri": "https://localhost:8080/",
          "height": 1000
        },
        "id": "e_K2lr3h_xAe",
        "outputId": "2a405897-270c-4a77-854e-703066e3b51c"
      },
      "source": [
        "same_group_ID.sort_values('Clustr_coef')"
      ],
      "execution_count": null,
      "outputs": [
        {
          "output_type": "execute_result",
          "data": {
            "text/html": [
              "<div>\n",
              "<style scoped>\n",
              "    .dataframe tbody tr th:only-of-type {\n",
              "        vertical-align: middle;\n",
              "    }\n",
              "\n",
              "    .dataframe tbody tr th {\n",
              "        vertical-align: top;\n",
              "    }\n",
              "\n",
              "    .dataframe thead th {\n",
              "        text-align: right;\n",
              "    }\n",
              "</style>\n",
              "<table border=\"1\" class=\"dataframe\">\n",
              "  <thead>\n",
              "    <tr style=\"text-align: right;\">\n",
              "      <th></th>\n",
              "      <th>group</th>\n",
              "      <th>group2</th>\n",
              "      <th>src_product_list</th>\n",
              "      <th>dest_product_list</th>\n",
              "      <th>Clustr_coef</th>\n",
              "    </tr>\n",
              "  </thead>\n",
              "  <tbody>\n",
              "    <tr>\n",
              "      <th>27</th>\n",
              "      <td>Book</td>\n",
              "      <td>Software</td>\n",
              "      <td>[175183, 131901, 105223, 73545, 105221]</td>\n",
              "      <td>[96696, 96696, 96696, 96696, 96696]</td>\n",
              "      <td>0.128307</td>\n",
              "    </tr>\n",
              "    <tr>\n",
              "      <th>5</th>\n",
              "      <td>Baby Product</td>\n",
              "      <td>Book</td>\n",
              "      <td>[197564, 197564, 197564, 197564]</td>\n",
              "      <td>[197563, 90079, 61309, 209480]</td>\n",
              "      <td>0.168571</td>\n",
              "    </tr>\n",
              "    <tr>\n",
              "      <th>31</th>\n",
              "      <td>Video</td>\n",
              "      <td>Toy</td>\n",
              "      <td>[1014, 72791]</td>\n",
              "      <td>[922, 11660]</td>\n",
              "      <td>0.185577</td>\n",
              "    </tr>\n",
              "    <tr>\n",
              "      <th>17</th>\n",
              "      <td>Book</td>\n",
              "      <td>Baby Product</td>\n",
              "      <td>[197563, 209480]</td>\n",
              "      <td>[197564, 197564]</td>\n",
              "      <td>0.211111</td>\n",
              "    </tr>\n",
              "    <tr>\n",
              "      <th>8</th>\n",
              "      <td>Music</td>\n",
              "      <td>Toy</td>\n",
              "      <td>[773, 11661, 55157, 4830]</td>\n",
              "      <td>[922, 11660, 11660, 11660]</td>\n",
              "      <td>0.219163</td>\n",
              "    </tr>\n",
              "    <tr>\n",
              "      <th>1</th>\n",
              "      <td>Toy</td>\n",
              "      <td>Book</td>\n",
              "      <td>[11660, 922, 922, 257106, 922, 11660, 922, 116...</td>\n",
              "      <td>[11662, 621, 1012, 255366, 1013, 19731, 1011, ...</td>\n",
              "      <td>0.234828</td>\n",
              "    </tr>\n",
              "    <tr>\n",
              "      <th>32</th>\n",
              "      <td>Toy</td>\n",
              "      <td>Video</td>\n",
              "      <td>[922]</td>\n",
              "      <td>[1014]</td>\n",
              "      <td>0.239286</td>\n",
              "    </tr>\n",
              "    <tr>\n",
              "      <th>15</th>\n",
              "      <td>DVD</td>\n",
              "      <td>Baby Product</td>\n",
              "      <td>[151435]</td>\n",
              "      <td>[197564]</td>\n",
              "      <td>0.250000</td>\n",
              "    </tr>\n",
              "    <tr>\n",
              "      <th>7</th>\n",
              "      <td>Baby Product</td>\n",
              "      <td>DVD</td>\n",
              "      <td>[197564]</td>\n",
              "      <td>[151435]</td>\n",
              "      <td>0.250000</td>\n",
              "    </tr>\n",
              "    <tr>\n",
              "      <th>35</th>\n",
              "      <td>Book</td>\n",
              "      <td>Toy</td>\n",
              "      <td>[255366, 621, 9026, 1011, 7334, 11662, 172212,...</td>\n",
              "      <td>[257106, 922, 922, 922, 922, 11660, 11660, 116...</td>\n",
              "      <td>0.270901</td>\n",
              "    </tr>\n",
              "    <tr>\n",
              "      <th>36</th>\n",
              "      <td>Software</td>\n",
              "      <td>Music</td>\n",
              "      <td>[243257, 96696]</td>\n",
              "      <td>[129678, 105224]</td>\n",
              "      <td>0.311140</td>\n",
              "    </tr>\n",
              "    <tr>\n",
              "      <th>12</th>\n",
              "      <td>Book</td>\n",
              "      <td>CE</td>\n",
              "      <td>[253624, 213284, 206604]</td>\n",
              "      <td>[253628, 228901, 224434]</td>\n",
              "      <td>0.357407</td>\n",
              "    </tr>\n",
              "    <tr>\n",
              "      <th>21</th>\n",
              "      <td>CE</td>\n",
              "      <td>Book</td>\n",
              "      <td>[253628, 253628, 228901, 228901, 224434, 25362...</td>\n",
              "      <td>[253626, 253624, 145924, 213284, 36616, 253625...</td>\n",
              "      <td>0.375847</td>\n",
              "    </tr>\n",
              "    <tr>\n",
              "      <th>24</th>\n",
              "      <td>DVD</td>\n",
              "      <td>Book</td>\n",
              "      <td>[1682, 45715, 90514, 10752, 34853, 17448, 4822...</td>\n",
              "      <td>[26, 29, 29, 1806, 9968, 10156, 12044, 13248, ...</td>\n",
              "      <td>0.393218</td>\n",
              "    </tr>\n",
              "    <tr>\n",
              "      <th>11</th>\n",
              "      <td>DVD</td>\n",
              "      <td>Music</td>\n",
              "      <td>[3152, 7260, 14530, 19645, 104412, 41771, 1337...</td>\n",
              "      <td>[3764, 8440, 13452, 13460, 29841, 29841, 35323...</td>\n",
              "      <td>0.398919</td>\n",
              "    </tr>\n",
              "    <tr>\n",
              "      <th>19</th>\n",
              "      <td>Video</td>\n",
              "      <td>Software</td>\n",
              "      <td>[229221, 128854]</td>\n",
              "      <td>[243257, 96696]</td>\n",
              "      <td>0.399603</td>\n",
              "    </tr>\n",
              "    <tr>\n",
              "      <th>25</th>\n",
              "      <td>Video</td>\n",
              "      <td>Book</td>\n",
              "      <td>[88166, 868, 6757, 15509, 50789, 27836, 12569,...</td>\n",
              "      <td>[29, 1806, 3506, 9458, 9978, 10156, 12568, 125...</td>\n",
              "      <td>0.400843</td>\n",
              "    </tr>\n",
              "    <tr>\n",
              "      <th>3</th>\n",
              "      <td>Video</td>\n",
              "      <td>Music</td>\n",
              "      <td>[17730, 259275, 70906, 78247, 67376, 157362, 1...</td>\n",
              "      <td>[9233, 10959, 10959, 10959, 10959, 10959, 1095...</td>\n",
              "      <td>0.404422</td>\n",
              "    </tr>\n",
              "    <tr>\n",
              "      <th>16</th>\n",
              "      <td>Software</td>\n",
              "      <td>Book</td>\n",
              "      <td>[243257, 96696, 243257, 96696, 96696, 243257, ...</td>\n",
              "      <td>[168609, 105223, 200708, 105222, 91797, 163554...</td>\n",
              "      <td>0.404731</td>\n",
              "    </tr>\n",
              "    <tr>\n",
              "      <th>0</th>\n",
              "      <td>Music</td>\n",
              "      <td>Book</td>\n",
              "      <td>[37282, 1683, 79289, 41719, 763, 14, 764, 1098...</td>\n",
              "      <td>[26, 26, 29, 29, 29, 29, 29, 474, 474, 964, 96...</td>\n",
              "      <td>0.414200</td>\n",
              "    </tr>\n",
              "    <tr>\n",
              "      <th>34</th>\n",
              "      <td>Music</td>\n",
              "      <td>Music</td>\n",
              "      <td>[138055, 2160, 3757, 1745, 17195, 36697, 13314...</td>\n",
              "      <td>[2250, 2250, 3091, 3091, 3764, 5556, 9233, 994...</td>\n",
              "      <td>0.416239</td>\n",
              "    </tr>\n",
              "    <tr>\n",
              "      <th>18</th>\n",
              "      <td>Music</td>\n",
              "      <td>DVD</td>\n",
              "      <td>[167655, 241441, 11814, 16947, 35064, 97504, 6...</td>\n",
              "      <td>[15237, 15237, 15375, 22129, 34821, 76901, 769...</td>\n",
              "      <td>0.416987</td>\n",
              "    </tr>\n",
              "    <tr>\n",
              "      <th>10</th>\n",
              "      <td>Toy</td>\n",
              "      <td>Music</td>\n",
              "      <td>[11660]</td>\n",
              "      <td>[11661]</td>\n",
              "      <td>0.417582</td>\n",
              "    </tr>\n",
              "    <tr>\n",
              "      <th>29</th>\n",
              "      <td>Video</td>\n",
              "      <td>Video</td>\n",
              "      <td>[2415, 18459, 12080, 176080, 53295, 226543, 77...</td>\n",
              "      <td>[5409, 11945, 15057, 21342, 53294, 74138, 9584...</td>\n",
              "      <td>0.419992</td>\n",
              "    </tr>\n",
              "    <tr>\n",
              "      <th>4</th>\n",
              "      <td>Music</td>\n",
              "      <td>Video</td>\n",
              "      <td>[18465, 53244, 11946, 17829, 19905, 19906, 146...</td>\n",
              "      <td>[5409, 5409, 11945, 19907, 19907, 19907, 21342...</td>\n",
              "      <td>0.420590</td>\n",
              "    </tr>\n",
              "    <tr>\n",
              "      <th>33</th>\n",
              "      <td>Book</td>\n",
              "      <td>Book</td>\n",
              "      <td>[402, 266, 14027, 29093, 11, 265, 1699, 267, 2...</td>\n",
              "      <td>[26, 26, 26, 26, 26, 26, 26, 26, 26, 29, 29, 2...</td>\n",
              "      <td>0.421515</td>\n",
              "    </tr>\n",
              "    <tr>\n",
              "      <th>23</th>\n",
              "      <td>Video</td>\n",
              "      <td>DVD</td>\n",
              "      <td>[30467, 47799, 82746, 226023, 149952, 219367, ...</td>\n",
              "      <td>[15237, 86132, 106100, 106100, 136683, 176741,...</td>\n",
              "      <td>0.422165</td>\n",
              "    </tr>\n",
              "    <tr>\n",
              "      <th>13</th>\n",
              "      <td>Book</td>\n",
              "      <td>DVD</td>\n",
              "      <td>[7937, 9808, 13254, 6465, 493, 8945, 243544, 1...</td>\n",
              "      <td>[1677, 1677, 1677, 1677, 1677, 11434, 15237, 1...</td>\n",
              "      <td>0.422670</td>\n",
              "    </tr>\n",
              "    <tr>\n",
              "      <th>20</th>\n",
              "      <td>Book</td>\n",
              "      <td>Music</td>\n",
              "      <td>[138054, 10381, 7275, 10499, 5105, 180896, 165...</td>\n",
              "      <td>[2250, 2250, 3091, 3764, 3764, 3764, 3764, 376...</td>\n",
              "      <td>0.422709</td>\n",
              "    </tr>\n",
              "    <tr>\n",
              "      <th>14</th>\n",
              "      <td>DVD</td>\n",
              "      <td>Video</td>\n",
              "      <td>[5384, 9760, 133736, 63505, 108112, 224116, 22...</td>\n",
              "      <td>[5385, 5409, 53294, 86791, 95841, 224115, 2241...</td>\n",
              "      <td>0.424808</td>\n",
              "    </tr>\n",
              "    <tr>\n",
              "      <th>28</th>\n",
              "      <td>Book</td>\n",
              "      <td>Video</td>\n",
              "      <td>[7352, 2233, 2236, 77824, 5408, 17752, 36643, ...</td>\n",
              "      <td>[5385, 5385, 5385, 5409, 5409, 5409, 5409, 540...</td>\n",
              "      <td>0.429102</td>\n",
              "    </tr>\n",
              "    <tr>\n",
              "      <th>6</th>\n",
              "      <td>DVD</td>\n",
              "      <td>DVD</td>\n",
              "      <td>[1678, 1679, 4026, 11433, 33213, 33211, 219608...</td>\n",
              "      <td>[1677, 1677, 1677, 11434, 33209, 33209, 34821,...</td>\n",
              "      <td>0.439757</td>\n",
              "    </tr>\n",
              "    <tr>\n",
              "      <th>9</th>\n",
              "      <td>DVD</td>\n",
              "      <td>Toy</td>\n",
              "      <td>[178141]</td>\n",
              "      <td>[11660]</td>\n",
              "      <td>0.465201</td>\n",
              "    </tr>\n",
              "    <tr>\n",
              "      <th>26</th>\n",
              "      <td>CE</td>\n",
              "      <td>Music</td>\n",
              "      <td>[224434, 253628, 224434, 224434]</td>\n",
              "      <td>[36613, 248149, 36614, 55506]</td>\n",
              "      <td>0.520184</td>\n",
              "    </tr>\n",
              "    <tr>\n",
              "      <th>37</th>\n",
              "      <td>CE</td>\n",
              "      <td>DVD</td>\n",
              "      <td>[253628]</td>\n",
              "      <td>[253627]</td>\n",
              "      <td>0.547619</td>\n",
              "    </tr>\n",
              "    <tr>\n",
              "      <th>30</th>\n",
              "      <td>Music</td>\n",
              "      <td>CE</td>\n",
              "      <td>[255883, 248149]</td>\n",
              "      <td>[253628, 253628]</td>\n",
              "      <td>0.611111</td>\n",
              "    </tr>\n",
              "    <tr>\n",
              "      <th>22</th>\n",
              "      <td>Book</td>\n",
              "      <td>Video Games</td>\n",
              "      <td>[51900, 51901, 31027]</td>\n",
              "      <td>[51902, 51902, 51902]</td>\n",
              "      <td>0.683135</td>\n",
              "    </tr>\n",
              "    <tr>\n",
              "      <th>38</th>\n",
              "      <td>Video Games</td>\n",
              "      <td>Book</td>\n",
              "      <td>[51902, 51902, 51902, 51902, 51902]</td>\n",
              "      <td>[60883, 51900, 51901, 31027, 51899]</td>\n",
              "      <td>0.688757</td>\n",
              "    </tr>\n",
              "    <tr>\n",
              "      <th>2</th>\n",
              "      <td>Software</td>\n",
              "      <td>Video</td>\n",
              "      <td>[243257]</td>\n",
              "      <td>[229221]</td>\n",
              "      <td>0.700000</td>\n",
              "    </tr>\n",
              "  </tbody>\n",
              "</table>\n",
              "</div>"
            ],
            "text/plain": [
              "           group  ... Clustr_coef\n",
              "27          Book  ...    0.128307\n",
              "5   Baby Product  ...    0.168571\n",
              "31         Video  ...    0.185577\n",
              "17          Book  ...    0.211111\n",
              "8          Music  ...    0.219163\n",
              "1            Toy  ...    0.234828\n",
              "32           Toy  ...    0.239286\n",
              "15           DVD  ...    0.250000\n",
              "7   Baby Product  ...    0.250000\n",
              "35          Book  ...    0.270901\n",
              "36      Software  ...    0.311140\n",
              "12          Book  ...    0.357407\n",
              "21            CE  ...    0.375847\n",
              "24           DVD  ...    0.393218\n",
              "11           DVD  ...    0.398919\n",
              "19         Video  ...    0.399603\n",
              "25         Video  ...    0.400843\n",
              "3          Video  ...    0.404422\n",
              "16      Software  ...    0.404731\n",
              "0          Music  ...    0.414200\n",
              "34         Music  ...    0.416239\n",
              "18         Music  ...    0.416987\n",
              "10           Toy  ...    0.417582\n",
              "29         Video  ...    0.419992\n",
              "4          Music  ...    0.420590\n",
              "33          Book  ...    0.421515\n",
              "23         Video  ...    0.422165\n",
              "13          Book  ...    0.422670\n",
              "20          Book  ...    0.422709\n",
              "14           DVD  ...    0.424808\n",
              "28          Book  ...    0.429102\n",
              "6            DVD  ...    0.439757\n",
              "9            DVD  ...    0.465201\n",
              "26            CE  ...    0.520184\n",
              "37            CE  ...    0.547619\n",
              "30         Music  ...    0.611111\n",
              "22          Book  ...    0.683135\n",
              "38   Video Games  ...    0.688757\n",
              "2       Software  ...    0.700000\n",
              "\n",
              "[39 rows x 5 columns]"
            ]
          },
          "metadata": {
            "tags": []
          },
          "execution_count": 100
        }
      ]
    },
    {
      "cell_type": "markdown",
      "metadata": {
        "id": "Vd4JBJm28iA5"
      },
      "source": [
        "## **Step 8:** Improving product recommendation <a name='8'></a>\n"
      ]
    },
    {
      "cell_type": "markdown",
      "metadata": {
        "id": "QJZ5zMyShieh"
      },
      "source": [
        " #### 1.  Using Open traid <a name='8.1'></a>"
      ]
    },
    {
      "cell_type": "code",
      "metadata": {
        "colab": {
          "base_uri": "https://localhost:8080/"
        },
        "id": "1AjVPFE4ADtY",
        "outputId": "9dd6069f-463c-409e-c15b-ad27653f0548"
      },
      "source": [
        "graph.CntUniqBiDirEdges()"
      ],
      "execution_count": null,
      "outputs": [
        {
          "output_type": "execute_result",
          "data": {
            "text/plain": [
              "335085"
            ]
          },
          "metadata": {
            "tags": []
          },
          "execution_count": 101
        }
      ]
    },
    {
      "cell_type": "code",
      "metadata": {
        "colab": {
          "base_uri": "https://localhost:8080/"
        },
        "id": "K0L8y4RR5goI",
        "outputId": "c00e71db-d5cc-497c-dd1a-fbcfbe309650"
      },
      "source": [
        "nodes=list(node_dict.keys())\n",
        "len(nodes)"
      ],
      "execution_count": null,
      "outputs": [
        {
          "output_type": "execute_result",
          "data": {
            "text/plain": [
              "262111"
            ]
          },
          "metadata": {
            "tags": []
          },
          "execution_count": 128
        }
      ]
    },
    {
      "cell_type": "code",
      "metadata": {
        "colab": {
          "base_uri": "https://localhost:8080/"
        },
        "id": "7p9OTAmlFgLh",
        "outputId": "bb4ba411-d847-42ba-fb2f-7849a5595c55"
      },
      "source": [
        ""
      ],
      "execution_count": null,
      "outputs": [
        {
          "output_type": "execute_result",
          "data": {
            "text/plain": [
              "{1, 2, 5}"
            ]
          },
          "metadata": {
            "tags": []
          },
          "execution_count": 143
        }
      ]
    },
    {
      "cell_type": "code",
      "metadata": {
        "id": "r1K4zq10L9Xs"
      },
      "source": [
        "## A<-->B-->C\n",
        "## A-->B-->C\n",
        "## A-->B>-->C"
      ],
      "execution_count": null,
      "outputs": []
    },
    {
      "cell_type": "code",
      "metadata": {
        "colab": {
          "base_uri": "https://localhost:8080/",
          "height": 37
        },
        "id": "0oqujrDl5ggu",
        "outputId": "42fc65d5-fa81-4b83-b554-bedb51f507d9"
      },
      "source": [
        "node_neighbours={}\n",
        "for node in progress_bar(nodes):\n",
        "  node_neighbours[node]=list(edge_dataframe[edge_dataframe.src==node]['dest'])"
      ],
      "execution_count": null,
      "outputs": [
        {
          "output_type": "display_data",
          "data": {
            "text/html": [
              "\n",
              "    <div>\n",
              "        <style>\n",
              "            /* Turns off some styling */\n",
              "            progress {\n",
              "                /* gets rid of default border in Firefox and Opera. */\n",
              "                border: none;\n",
              "                /* Needs to be in here for Safari polyfill so background images work as expected. */\n",
              "                background-size: auto;\n",
              "            }\n",
              "            .progress-bar-interrupted, .progress-bar-interrupted::-webkit-progress-bar {\n",
              "                background: #F44336;\n",
              "            }\n",
              "        </style>\n",
              "      <progress value='262111' class='' max='262111' style='width:300px; height:20px; vertical-align: middle;'></progress>\n",
              "      100.00% [262111/262111 08:44<00:00]\n",
              "    </div>\n",
              "    "
            ],
            "text/plain": [
              "<IPython.core.display.HTML object>"
            ]
          },
          "metadata": {
            "tags": []
          }
        }
      ]
    },
    {
      "cell_type": "code",
      "metadata": {
        "id": "o8oOyKafACjI"
      },
      "source": [
        "def triadic_closure(x):\n",
        "  src=x['src']\n",
        "  dest=x['dest']\n",
        "  src_neighbours=set(node_neighbours[src])\n",
        "  dest_neighbours=set(node_neighbours[dest])\n",
        "  new_co_pairs=set.union(src_neighbours,dest_neighbours)-set.intersection(src_neighbours,dest_neighbours)\n",
        "  new_nbrs=len(new_co_pairs)\n",
        "  old_nbrs=len(src_neighbours)\n",
        "  dseries=pd.Series([src,dest,new_co_pairs,new_nbrs,old_nbrs])\n",
        "  return dseries"
      ],
      "execution_count": null,
      "outputs": []
    },
    {
      "cell_type": "code",
      "metadata": {
        "id": "FLZw1CClACUS"
      },
      "source": [
        "closed_triads=edge_dataframe.apply(lambda x :triadic_closure(x),axis=1)"
      ],
      "execution_count": null,
      "outputs": []
    },
    {
      "cell_type": "code",
      "metadata": {
        "id": "mjeYNdpJJC9m"
      },
      "source": [
        "colname={0:'src',1:'dest',2:'new_co_pairs',3:'new_nbrs',4:'old_nbrs'}"
      ],
      "execution_count": null,
      "outputs": []
    },
    {
      "cell_type": "code",
      "metadata": {
        "colab": {
          "base_uri": "https://localhost:8080/",
          "height": 343
        },
        "id": "0rNMebhyER9v",
        "outputId": "54423303-8595-4a5a-f52e-d373c0bd8fea"
      },
      "source": [
        "closed_triads=closed_triads.rename(columns=colname)\n",
        "closed_triads"
      ],
      "execution_count": null,
      "outputs": [
        {
          "output_type": "execute_result",
          "data": {
            "text/html": [
              "<div>\n",
              "<style scoped>\n",
              "    .dataframe tbody tr th:only-of-type {\n",
              "        vertical-align: middle;\n",
              "    }\n",
              "\n",
              "    .dataframe tbody tr th {\n",
              "        vertical-align: top;\n",
              "    }\n",
              "\n",
              "    .dataframe thead th {\n",
              "        text-align: right;\n",
              "    }\n",
              "</style>\n",
              "<table border=\"1\" class=\"dataframe\">\n",
              "  <thead>\n",
              "    <tr style=\"text-align: right;\">\n",
              "      <th></th>\n",
              "      <th>src</th>\n",
              "      <th>dest</th>\n",
              "      <th>new_co_pairs</th>\n",
              "      <th>new_nbrs</th>\n",
              "      <th>old_nbrs</th>\n",
              "    </tr>\n",
              "  </thead>\n",
              "  <tbody>\n",
              "    <tr>\n",
              "      <th>0</th>\n",
              "      <td>0</td>\n",
              "      <td>1</td>\n",
              "      <td>{0, 1, 3, 15}</td>\n",
              "      <td>4</td>\n",
              "      <td>5</td>\n",
              "    </tr>\n",
              "    <tr>\n",
              "      <th>1</th>\n",
              "      <td>0</td>\n",
              "      <td>2</td>\n",
              "      <td>{0, 1, 2, 3, 4, 5, 11, 12, 13, 14}</td>\n",
              "      <td>10</td>\n",
              "      <td>5</td>\n",
              "    </tr>\n",
              "    <tr>\n",
              "      <th>2</th>\n",
              "      <td>0</td>\n",
              "      <td>3</td>\n",
              "      <td>{64, 1, 2, 3, 4, 5, 65, 66, 67, 63}</td>\n",
              "      <td>10</td>\n",
              "      <td>5</td>\n",
              "    </tr>\n",
              "    <tr>\n",
              "      <th>3</th>\n",
              "      <td>0</td>\n",
              "      <td>4</td>\n",
              "      <td>{1, 2, 3, 4, 5, 7, 16, 17, 18, 19}</td>\n",
              "      <td>10</td>\n",
              "      <td>5</td>\n",
              "    </tr>\n",
              "    <tr>\n",
              "      <th>4</th>\n",
              "      <td>0</td>\n",
              "      <td>5</td>\n",
              "      <td>{1, 2, 3, 4, 5, 6, 7, 8, 9, 10}</td>\n",
              "      <td>10</td>\n",
              "      <td>5</td>\n",
              "    </tr>\n",
              "    <tr>\n",
              "      <th>5</th>\n",
              "      <td>1</td>\n",
              "      <td>0</td>\n",
              "      <td>{0, 1, 3, 15}</td>\n",
              "      <td>4</td>\n",
              "      <td>5</td>\n",
              "    </tr>\n",
              "    <tr>\n",
              "      <th>6</th>\n",
              "      <td>1</td>\n",
              "      <td>2</td>\n",
              "      <td>{2, 4, 5, 11, 12, 13, 14, 15}</td>\n",
              "      <td>8</td>\n",
              "      <td>5</td>\n",
              "    </tr>\n",
              "    <tr>\n",
              "      <th>7</th>\n",
              "      <td>1</td>\n",
              "      <td>4</td>\n",
              "      <td>{0, 2, 4, 5, 7, 15, 16, 17, 18, 19}</td>\n",
              "      <td>10</td>\n",
              "      <td>5</td>\n",
              "    </tr>\n",
              "    <tr>\n",
              "      <th>8</th>\n",
              "      <td>1</td>\n",
              "      <td>5</td>\n",
              "      <td>{0, 2, 4, 5, 6, 7, 8, 9, 10, 15}</td>\n",
              "      <td>10</td>\n",
              "      <td>5</td>\n",
              "    </tr>\n",
              "    <tr>\n",
              "      <th>9</th>\n",
              "      <td>1</td>\n",
              "      <td>15</td>\n",
              "      <td>{0, 2, 4, 5, 68, 69, 70, 71, 72, 15}</td>\n",
              "      <td>10</td>\n",
              "      <td>5</td>\n",
              "    </tr>\n",
              "  </tbody>\n",
              "</table>\n",
              "</div>"
            ],
            "text/plain": [
              "   src  dest                          new_co_pairs  new_nbrs  old_nbrs\n",
              "0    0     1                         {0, 1, 3, 15}         4         5\n",
              "1    0     2    {0, 1, 2, 3, 4, 5, 11, 12, 13, 14}        10         5\n",
              "2    0     3   {64, 1, 2, 3, 4, 5, 65, 66, 67, 63}        10         5\n",
              "3    0     4    {1, 2, 3, 4, 5, 7, 16, 17, 18, 19}        10         5\n",
              "4    0     5       {1, 2, 3, 4, 5, 6, 7, 8, 9, 10}        10         5\n",
              "5    1     0                         {0, 1, 3, 15}         4         5\n",
              "6    1     2         {2, 4, 5, 11, 12, 13, 14, 15}         8         5\n",
              "7    1     4   {0, 2, 4, 5, 7, 15, 16, 17, 18, 19}        10         5\n",
              "8    1     5      {0, 2, 4, 5, 6, 7, 8, 9, 10, 15}        10         5\n",
              "9    1    15  {0, 2, 4, 5, 68, 69, 70, 71, 72, 15}        10         5"
            ]
          },
          "metadata": {
            "tags": []
          },
          "execution_count": 183
        }
      ]
    },
    {
      "cell_type": "code",
      "metadata": {
        "colab": {
          "base_uri": "https://localhost:8080/",
          "height": 77
        },
        "id": "JZ3ynxUwESZs",
        "outputId": "cc108496-59aa-4f2d-f2cd-cc36ac651321"
      },
      "source": [
        "closed_triads_df.new_nbrs.sum()"
      ],
      "execution_count": null,
      "outputs": [
        {
          "output_type": "execute_result",
          "data": {
            "text/html": [
              "<div>\n",
              "<style scoped>\n",
              "    .dataframe tbody tr th:only-of-type {\n",
              "        vertical-align: middle;\n",
              "    }\n",
              "\n",
              "    .dataframe tbody tr th {\n",
              "        vertical-align: top;\n",
              "    }\n",
              "\n",
              "    .dataframe thead th {\n",
              "        text-align: right;\n",
              "    }\n",
              "</style>\n",
              "<table border=\"1\" class=\"dataframe\">\n",
              "  <thead>\n",
              "    <tr style=\"text-align: right;\">\n",
              "      <th></th>\n",
              "      <th>src</th>\n",
              "      <th>dest</th>\n",
              "      <th>new_co_pairs</th>\n",
              "      <th>new_nbrs</th>\n",
              "      <th>old_nbrs</th>\n",
              "    </tr>\n",
              "  </thead>\n",
              "  <tbody>\n",
              "    <tr>\n",
              "      <th>0</th>\n",
              "      <td>NaN</td>\n",
              "      <td>NaN</td>\n",
              "      <td>NaN</td>\n",
              "      <td>NaN</td>\n",
              "      <td>NaN</td>\n",
              "    </tr>\n",
              "  </tbody>\n",
              "</table>\n",
              "</div>"
            ],
            "text/plain": [
              "   src  dest  new_co_pairs  new_nbrs  old_nbrs\n",
              "0  NaN   NaN           NaN       NaN       NaN"
            ]
          },
          "metadata": {
            "tags": []
          },
          "execution_count": 162
        }
      ]
    },
    {
      "cell_type": "markdown",
      "metadata": {
        "id": "JTRdq_2Lh-zd"
      },
      "source": [
        "#### 2. Using Node2vec <a name='8.2'></a>"
      ]
    },
    {
      "cell_type": "markdown",
      "metadata": {
        "id": "1qqj3zZo8rq7"
      },
      "source": [
        "This is an attempt to represent the products in vector representation. We are using node2vec to create shallow embedding."
      ]
    },
    {
      "cell_type": "code",
      "metadata": {
        "id": "ssOSpChLXVpm"
      },
      "source": [
        "import networkx as nx\n",
        "from node2vec import Node2Vec"
      ],
      "execution_count": null,
      "outputs": []
    },
    {
      "cell_type": "code",
      "metadata": {
        "id": "CDYVdFebXVmE"
      },
      "source": [
        "G = nx.from_pandas_edgelist(edge_dataframe, \"src\", \"dest\", create_using=nx.Graph())"
      ],
      "execution_count": null,
      "outputs": []
    },
    {
      "cell_type": "code",
      "metadata": {
        "colab": {
          "base_uri": "https://localhost:8080/",
          "height": 82,
          "referenced_widgets": [
            "c8edb6701af748f6b2a61dc053aa8334",
            "7099b51792174be586e64955fffbf7d1",
            "149da3e248414d29938aeb851c9ae815",
            "768cb50046754fbf8fb3e0aa6a271450",
            "a8f0bf4f674543498b4fc350980cb3de",
            "4f7a18a880c745e39f38d98fae3da070",
            "1fb7f197b773456b98de5356dd9a40a9",
            "abc5f73348f64716a10b831d65015c4f"
          ]
        },
        "id": "BCPYm3ejx5rj",
        "outputId": "ba8fb7be-e861-429f-f11e-d3781e43c912"
      },
      "source": [
        "node2vec = Node2Vec(G, dimensions=100, walk_length=5, num_walks=5)\n"
      ],
      "execution_count": null,
      "outputs": [
        {
          "output_type": "display_data",
          "data": {
            "application/vnd.jupyter.widget-view+json": {
              "model_id": "c8edb6701af748f6b2a61dc053aa8334",
              "version_minor": 0,
              "version_major": 2
            },
            "text/plain": [
              "HBox(children=(FloatProgress(value=0.0, description='Computing transition probabilities', max=262111.0, style=…"
            ]
          },
          "metadata": {
            "tags": []
          }
        },
        {
          "output_type": "stream",
          "text": [
            "\rGenerating walks (CPU: 1):   0%|          | 0/5 [00:00<?, ?it/s]"
          ],
          "name": "stderr"
        },
        {
          "output_type": "stream",
          "text": [
            "\n"
          ],
          "name": "stdout"
        },
        {
          "output_type": "stream",
          "text": [
            "Generating walks (CPU: 1): 100%|██████████| 5/5 [03:55<00:00, 47.20s/it]\n"
          ],
          "name": "stderr"
        }
      ]
    },
    {
      "cell_type": "code",
      "metadata": {
        "id": "WfiFry_Ux5nN"
      },
      "source": [
        "n2w_model = node2vec.fit(window=5, min_count=1)\n"
      ],
      "execution_count": null,
      "outputs": []
    },
    {
      "cell_type": "code",
      "metadata": {
        "id": "OdjhTPFX3OMx"
      },
      "source": [
        "def get_similar_nodes(node):\n",
        "  similar_nodes=[int(x[0]) for x in n2w_model.most_similar(str(node))]\n",
        "  return similar_nodes"
      ],
      "execution_count": null,
      "outputs": []
    },
    {
      "cell_type": "code",
      "metadata": {
        "id": "ExBc8stc3OJW"
      },
      "source": [
        ""
      ],
      "execution_count": null,
      "outputs": []
    },
    {
      "cell_type": "code",
      "metadata": {
        "colab": {
          "base_uri": "https://localhost:8080/",
          "height": 35
        },
        "id": "Z8sVBdcp4x3E",
        "outputId": "bb36aa0f-6a7a-4943-80b6-84ab50b2296b"
      },
      "source": [
        "'''Sourcing 'dest' column above the table. We can recommend the products which are copurchased with the similar type of product'''\n"
      ],
      "execution_count": null,
      "outputs": [
        {
          "output_type": "execute_result",
          "data": {
            "application/vnd.google.colaboratory.intrinsic+json": {
              "type": "string"
            },
            "text/plain": [
              "\"Sourcing 'dest' column above the table. We can recommend the products which are copurchased with the similar type of product\""
            ]
          },
          "metadata": {
            "tags": []
          },
          "execution_count": 111
        }
      ]
    },
    {
      "cell_type": "code",
      "metadata": {
        "colab": {
          "base_uri": "https://localhost:8080/"
        },
        "id": "fuU0bP4z4xzu",
        "outputId": "1651724c-fdea-4828-b754-6a875a3109f6"
      },
      "source": [
        "recommended_product=node_meta_src_des[node_meta_src_des.src.isin(get_similar_nodes(1))].toPandas()"
      ],
      "execution_count": null,
      "outputs": [
        {
          "output_type": "stream",
          "text": [
            "/usr/local/lib/python3.7/dist-packages/ipykernel_launcher.py:2: DeprecationWarning: Call to deprecated `most_similar` (Method will be removed in 4.0.0, use self.wv.most_similar() instead).\n",
            "  \n"
          ],
          "name": "stderr"
        }
      ]
    },
    {
      "cell_type": "code",
      "metadata": {
        "colab": {
          "base_uri": "https://localhost:8080/",
          "height": 1000
        },
        "id": "FbOr8S0k4xw4",
        "outputId": "c198bda4-e93f-45f9-aebb-07af58fdb64f"
      },
      "source": [
        "recommended_product"
      ],
      "execution_count": null,
      "outputs": [
        {
          "output_type": "execute_result",
          "data": {
            "text/html": [
              "<div>\n",
              "<style scoped>\n",
              "    .dataframe tbody tr th:only-of-type {\n",
              "        vertical-align: middle;\n",
              "    }\n",
              "\n",
              "    .dataframe tbody tr th {\n",
              "        vertical-align: top;\n",
              "    }\n",
              "\n",
              "    .dataframe thead th {\n",
              "        text-align: right;\n",
              "    }\n",
              "</style>\n",
              "<table border=\"1\" class=\"dataframe\">\n",
              "  <thead>\n",
              "    <tr style=\"text-align: right;\">\n",
              "      <th></th>\n",
              "      <th>ID</th>\n",
              "      <th>ASIN</th>\n",
              "      <th>group</th>\n",
              "      <th>title</th>\n",
              "      <th>sales_rank</th>\n",
              "      <th>np_similar</th>\n",
              "      <th>total_rating</th>\n",
              "      <th>avg_rating</th>\n",
              "      <th>src</th>\n",
              "      <th>dest</th>\n",
              "      <th>ID2</th>\n",
              "      <th>ASIN2</th>\n",
              "      <th>group2</th>\n",
              "      <th>sales_rank2</th>\n",
              "      <th>avg_rating2</th>\n",
              "    </tr>\n",
              "  </thead>\n",
              "  <tbody>\n",
              "    <tr>\n",
              "      <th>0</th>\n",
              "      <td>119081</td>\n",
              "      <td>0451181468</td>\n",
              "      <td>Book</td>\n",
              "      <td>Praying for Sleep</td>\n",
              "      <td>397061</td>\n",
              "      <td>5</td>\n",
              "      <td>0</td>\n",
              "      <td>0</td>\n",
              "      <td>119081</td>\n",
              "      <td>119082</td>\n",
              "      <td>119082</td>\n",
              "      <td>0736905189</td>\n",
              "      <td>Book</td>\n",
              "      <td>306956</td>\n",
              "      <td>5</td>\n",
              "    </tr>\n",
              "    <tr>\n",
              "      <th>1</th>\n",
              "      <td>128758</td>\n",
              "      <td>B00008DDX0</td>\n",
              "      <td>DVD</td>\n",
              "      <td>Pete's a Pizza... and More William Steig Stori...</td>\n",
              "      <td>19428</td>\n",
              "      <td>5</td>\n",
              "      <td>0</td>\n",
              "      <td>0</td>\n",
              "      <td>128758</td>\n",
              "      <td>138381</td>\n",
              "      <td>138381</td>\n",
              "      <td>188301039X</td>\n",
              "      <td>Book</td>\n",
              "      <td>23239</td>\n",
              "      <td>4</td>\n",
              "    </tr>\n",
              "    <tr>\n",
              "      <th>2</th>\n",
              "      <td>243397</td>\n",
              "      <td>B00004TXTU</td>\n",
              "      <td>Music</td>\n",
              "      <td>Home</td>\n",
              "      <td>465394</td>\n",
              "      <td>0</td>\n",
              "      <td>0</td>\n",
              "      <td>0</td>\n",
              "      <td>243397</td>\n",
              "      <td>109292</td>\n",
              "      <td>109292</td>\n",
              "      <td>0873513193</td>\n",
              "      <td>Book</td>\n",
              "      <td>77751</td>\n",
              "      <td>4</td>\n",
              "    </tr>\n",
              "    <tr>\n",
              "      <th>3</th>\n",
              "      <td>16189</td>\n",
              "      <td>0275955230</td>\n",
              "      <td>Book</td>\n",
              "      <td>Staffing the Contemporary Organization</td>\n",
              "      <td>662020</td>\n",
              "      <td>5</td>\n",
              "      <td>2</td>\n",
              "      <td>4</td>\n",
              "      <td>16189</td>\n",
              "      <td>190</td>\n",
              "      <td>190</td>\n",
              "      <td>6303454488</td>\n",
              "      <td>Video</td>\n",
              "      <td>23333</td>\n",
              "      <td>4</td>\n",
              "    </tr>\n",
              "    <tr>\n",
              "      <th>4</th>\n",
              "      <td>243397</td>\n",
              "      <td>B00004TXTU</td>\n",
              "      <td>Music</td>\n",
              "      <td>Home</td>\n",
              "      <td>465394</td>\n",
              "      <td>0</td>\n",
              "      <td>0</td>\n",
              "      <td>0</td>\n",
              "      <td>243397</td>\n",
              "      <td>153522</td>\n",
              "      <td>153522</td>\n",
              "      <td>1566563607</td>\n",
              "      <td>Book</td>\n",
              "      <td>514509</td>\n",
              "      <td>3</td>\n",
              "    </tr>\n",
              "    <tr>\n",
              "      <th>5</th>\n",
              "      <td>13086</td>\n",
              "      <td>0312180845</td>\n",
              "      <td>Book</td>\n",
              "      <td>The Devil's Hunt</td>\n",
              "      <td>509335</td>\n",
              "      <td>5</td>\n",
              "      <td>3</td>\n",
              "      <td>5</td>\n",
              "      <td>13086</td>\n",
              "      <td>3405</td>\n",
              "      <td>3405</td>\n",
              "      <td>B0000057DN</td>\n",
              "      <td>Music</td>\n",
              "      <td>196579</td>\n",
              "      <td>4</td>\n",
              "    </tr>\n",
              "    <tr>\n",
              "      <th>6</th>\n",
              "      <td>119081</td>\n",
              "      <td>0451181468</td>\n",
              "      <td>Book</td>\n",
              "      <td>Praying for Sleep</td>\n",
              "      <td>397061</td>\n",
              "      <td>5</td>\n",
              "      <td>0</td>\n",
              "      <td>0</td>\n",
              "      <td>119081</td>\n",
              "      <td>84994</td>\n",
              "      <td>84994</td>\n",
              "      <td>1587200376</td>\n",
              "      <td>Book</td>\n",
              "      <td>435438</td>\n",
              "      <td>3</td>\n",
              "    </tr>\n",
              "    <tr>\n",
              "      <th>7</th>\n",
              "      <td>128758</td>\n",
              "      <td>B00008DDX0</td>\n",
              "      <td>DVD</td>\n",
              "      <td>Pete's a Pizza... and More William Steig Stori...</td>\n",
              "      <td>19428</td>\n",
              "      <td>5</td>\n",
              "      <td>0</td>\n",
              "      <td>0</td>\n",
              "      <td>128758</td>\n",
              "      <td>177943</td>\n",
              "      <td>177943</td>\n",
              "      <td>0375410538</td>\n",
              "      <td>Book</td>\n",
              "      <td>352627</td>\n",
              "      <td>3</td>\n",
              "    </tr>\n",
              "    <tr>\n",
              "      <th>8</th>\n",
              "      <td>74019</td>\n",
              "      <td>6305047480</td>\n",
              "      <td>DVD</td>\n",
              "      <td>New Jack City</td>\n",
              "      <td>5112</td>\n",
              "      <td>5</td>\n",
              "      <td>41</td>\n",
              "      <td>4</td>\n",
              "      <td>74019</td>\n",
              "      <td>57024</td>\n",
              "      <td>57024</td>\n",
              "      <td>0312867956</td>\n",
              "      <td>Book</td>\n",
              "      <td>652660</td>\n",
              "      <td>5</td>\n",
              "    </tr>\n",
              "    <tr>\n",
              "      <th>9</th>\n",
              "      <td>128758</td>\n",
              "      <td>B00008DDX0</td>\n",
              "      <td>DVD</td>\n",
              "      <td>Pete's a Pizza... and More William Steig Stori...</td>\n",
              "      <td>19428</td>\n",
              "      <td>5</td>\n",
              "      <td>0</td>\n",
              "      <td>0</td>\n",
              "      <td>128758</td>\n",
              "      <td>47579</td>\n",
              "      <td>47579</td>\n",
              "      <td>1931657017</td>\n",
              "      <td>Book</td>\n",
              "      <td>1281997</td>\n",
              "      <td>0</td>\n",
              "    </tr>\n",
              "    <tr>\n",
              "      <th>10</th>\n",
              "      <td>16189</td>\n",
              "      <td>0275955230</td>\n",
              "      <td>Book</td>\n",
              "      <td>Staffing the Contemporary Organization</td>\n",
              "      <td>662020</td>\n",
              "      <td>5</td>\n",
              "      <td>2</td>\n",
              "      <td>4</td>\n",
              "      <td>16189</td>\n",
              "      <td>773</td>\n",
              "      <td>773</td>\n",
              "      <td>B00005YTRF</td>\n",
              "      <td>Music</td>\n",
              "      <td>425340</td>\n",
              "      <td>0</td>\n",
              "    </tr>\n",
              "    <tr>\n",
              "      <th>11</th>\n",
              "      <td>119081</td>\n",
              "      <td>0451181468</td>\n",
              "      <td>Book</td>\n",
              "      <td>Praying for Sleep</td>\n",
              "      <td>397061</td>\n",
              "      <td>5</td>\n",
              "      <td>0</td>\n",
              "      <td>0</td>\n",
              "      <td>119081</td>\n",
              "      <td>67242</td>\n",
              "      <td>67242</td>\n",
              "      <td>0740717200</td>\n",
              "      <td>Book</td>\n",
              "      <td>1815111</td>\n",
              "      <td>0</td>\n",
              "    </tr>\n",
              "    <tr>\n",
              "      <th>12</th>\n",
              "      <td>25335</td>\n",
              "      <td>1561840033</td>\n",
              "      <td>Book</td>\n",
              "      <td>Cosmic Trigger I</td>\n",
              "      <td>46251</td>\n",
              "      <td>5</td>\n",
              "      <td>38</td>\n",
              "      <td>4</td>\n",
              "      <td>25335</td>\n",
              "      <td>2616</td>\n",
              "      <td>2616</td>\n",
              "      <td>3791324810</td>\n",
              "      <td>Book</td>\n",
              "      <td>1295406</td>\n",
              "      <td>0</td>\n",
              "    </tr>\n",
              "    <tr>\n",
              "      <th>13</th>\n",
              "      <td>128758</td>\n",
              "      <td>B00008DDX0</td>\n",
              "      <td>DVD</td>\n",
              "      <td>Pete's a Pizza... and More William Steig Stori...</td>\n",
              "      <td>19428</td>\n",
              "      <td>5</td>\n",
              "      <td>0</td>\n",
              "      <td>0</td>\n",
              "      <td>128758</td>\n",
              "      <td>36295</td>\n",
              "      <td>36295</td>\n",
              "      <td>B00000212U</td>\n",
              "      <td>Music</td>\n",
              "      <td>71081</td>\n",
              "      <td>4</td>\n",
              "    </tr>\n",
              "    <tr>\n",
              "      <th>14</th>\n",
              "      <td>243397</td>\n",
              "      <td>B00004TXTU</td>\n",
              "      <td>Music</td>\n",
              "      <td>Home</td>\n",
              "      <td>465394</td>\n",
              "      <td>0</td>\n",
              "      <td>0</td>\n",
              "      <td>0</td>\n",
              "      <td>243397</td>\n",
              "      <td>247811</td>\n",
              "      <td>247811</td>\n",
              "      <td>0911119809</td>\n",
              "      <td>Book</td>\n",
              "      <td>623988</td>\n",
              "      <td>0</td>\n",
              "    </tr>\n",
              "    <tr>\n",
              "      <th>15</th>\n",
              "      <td>2659</td>\n",
              "      <td>0683017233</td>\n",
              "      <td>Book</td>\n",
              "      <td>Anatomy</td>\n",
              "      <td>533053</td>\n",
              "      <td>5</td>\n",
              "      <td>7</td>\n",
              "      <td>5</td>\n",
              "      <td>2659</td>\n",
              "      <td>1060</td>\n",
              "      <td>1060</td>\n",
              "      <td>B0000014CH</td>\n",
              "      <td>Music</td>\n",
              "      <td>105125</td>\n",
              "      <td>5</td>\n",
              "    </tr>\n",
              "    <tr>\n",
              "      <th>16</th>\n",
              "      <td>25335</td>\n",
              "      <td>1561840033</td>\n",
              "      <td>Book</td>\n",
              "      <td>Cosmic Trigger I</td>\n",
              "      <td>46251</td>\n",
              "      <td>5</td>\n",
              "      <td>38</td>\n",
              "      <td>4</td>\n",
              "      <td>25335</td>\n",
              "      <td>6963</td>\n",
              "      <td>6963</td>\n",
              "      <td>0062732862</td>\n",
              "      <td>Book</td>\n",
              "      <td>65761</td>\n",
              "      <td>5</td>\n",
              "    </tr>\n",
              "    <tr>\n",
              "      <th>17</th>\n",
              "      <td>16189</td>\n",
              "      <td>0275955230</td>\n",
              "      <td>Book</td>\n",
              "      <td>Staffing the Contemporary Organization</td>\n",
              "      <td>662020</td>\n",
              "      <td>5</td>\n",
              "      <td>2</td>\n",
              "      <td>4</td>\n",
              "      <td>16189</td>\n",
              "      <td>20142</td>\n",
              "      <td>20142</td>\n",
              "      <td>0788810677</td>\n",
              "      <td>Video</td>\n",
              "      <td>7343</td>\n",
              "      <td>4</td>\n",
              "    </tr>\n",
              "    <tr>\n",
              "      <th>18</th>\n",
              "      <td>102124</td>\n",
              "      <td>0439060311</td>\n",
              "      <td>Book</td>\n",
              "      <td>Betrayal (2099)</td>\n",
              "      <td>572499</td>\n",
              "      <td>5</td>\n",
              "      <td>6</td>\n",
              "      <td>4</td>\n",
              "      <td>102124</td>\n",
              "      <td>60801</td>\n",
              "      <td>60801</td>\n",
              "      <td>1588260755</td>\n",
              "      <td>Book</td>\n",
              "      <td>1352328</td>\n",
              "      <td>0</td>\n",
              "    </tr>\n",
              "    <tr>\n",
              "      <th>19</th>\n",
              "      <td>74019</td>\n",
              "      <td>6305047480</td>\n",
              "      <td>DVD</td>\n",
              "      <td>New Jack City</td>\n",
              "      <td>5112</td>\n",
              "      <td>5</td>\n",
              "      <td>41</td>\n",
              "      <td>4</td>\n",
              "      <td>74019</td>\n",
              "      <td>1436</td>\n",
              "      <td>1436</td>\n",
              "      <td>B000001BXM</td>\n",
              "      <td>Music</td>\n",
              "      <td>264054</td>\n",
              "      <td>5</td>\n",
              "    </tr>\n",
              "    <tr>\n",
              "      <th>20</th>\n",
              "      <td>25335</td>\n",
              "      <td>1561840033</td>\n",
              "      <td>Book</td>\n",
              "      <td>Cosmic Trigger I</td>\n",
              "      <td>46251</td>\n",
              "      <td>5</td>\n",
              "      <td>38</td>\n",
              "      <td>4</td>\n",
              "      <td>25335</td>\n",
              "      <td>1764</td>\n",
              "      <td>1764</td>\n",
              "      <td>B00005QKB0</td>\n",
              "      <td>Music</td>\n",
              "      <td>48620</td>\n",
              "      <td>3</td>\n",
              "    </tr>\n",
              "    <tr>\n",
              "      <th>21</th>\n",
              "      <td>13086</td>\n",
              "      <td>0312180845</td>\n",
              "      <td>Book</td>\n",
              "      <td>The Devil's Hunt</td>\n",
              "      <td>509335</td>\n",
              "      <td>5</td>\n",
              "      <td>3</td>\n",
              "      <td>5</td>\n",
              "      <td>13086</td>\n",
              "      <td>1764</td>\n",
              "      <td>1764</td>\n",
              "      <td>B00005QKB0</td>\n",
              "      <td>Music</td>\n",
              "      <td>48620</td>\n",
              "      <td>3</td>\n",
              "    </tr>\n",
              "    <tr>\n",
              "      <th>22</th>\n",
              "      <td>102124</td>\n",
              "      <td>0439060311</td>\n",
              "      <td>Book</td>\n",
              "      <td>Betrayal (2099)</td>\n",
              "      <td>572499</td>\n",
              "      <td>5</td>\n",
              "      <td>6</td>\n",
              "      <td>4</td>\n",
              "      <td>102124</td>\n",
              "      <td>62262</td>\n",
              "      <td>62262</td>\n",
              "      <td>0802774296</td>\n",
              "      <td>Book</td>\n",
              "      <td>1274489</td>\n",
              "      <td>0</td>\n",
              "    </tr>\n",
              "    <tr>\n",
              "      <th>23</th>\n",
              "      <td>102124</td>\n",
              "      <td>0439060311</td>\n",
              "      <td>Book</td>\n",
              "      <td>Betrayal (2099)</td>\n",
              "      <td>572499</td>\n",
              "      <td>5</td>\n",
              "      <td>6</td>\n",
              "      <td>4</td>\n",
              "      <td>102124</td>\n",
              "      <td>45377</td>\n",
              "      <td>45377</td>\n",
              "      <td>0672315483</td>\n",
              "      <td>Book</td>\n",
              "      <td>880989</td>\n",
              "      <td>2</td>\n",
              "    </tr>\n",
              "    <tr>\n",
              "      <th>24</th>\n",
              "      <td>74019</td>\n",
              "      <td>6305047480</td>\n",
              "      <td>DVD</td>\n",
              "      <td>New Jack City</td>\n",
              "      <td>5112</td>\n",
              "      <td>5</td>\n",
              "      <td>41</td>\n",
              "      <td>4</td>\n",
              "      <td>74019</td>\n",
              "      <td>58206</td>\n",
              "      <td>58206</td>\n",
              "      <td>0072129360</td>\n",
              "      <td>Book</td>\n",
              "      <td>587228</td>\n",
              "      <td>4</td>\n",
              "    </tr>\n",
              "    <tr>\n",
              "      <th>25</th>\n",
              "      <td>25335</td>\n",
              "      <td>1561840033</td>\n",
              "      <td>Book</td>\n",
              "      <td>Cosmic Trigger I</td>\n",
              "      <td>46251</td>\n",
              "      <td>5</td>\n",
              "      <td>38</td>\n",
              "      <td>4</td>\n",
              "      <td>25335</td>\n",
              "      <td>132</td>\n",
              "      <td>132</td>\n",
              "      <td>0743504097</td>\n",
              "      <td>Book</td>\n",
              "      <td>868001</td>\n",
              "      <td>5</td>\n",
              "    </tr>\n",
              "    <tr>\n",
              "      <th>26</th>\n",
              "      <td>2659</td>\n",
              "      <td>0683017233</td>\n",
              "      <td>Book</td>\n",
              "      <td>Anatomy</td>\n",
              "      <td>533053</td>\n",
              "      <td>5</td>\n",
              "      <td>7</td>\n",
              "      <td>5</td>\n",
              "      <td>2659</td>\n",
              "      <td>3666</td>\n",
              "      <td>3666</td>\n",
              "      <td>0810980991</td>\n",
              "      <td>Book</td>\n",
              "      <td>52697</td>\n",
              "      <td>0</td>\n",
              "    </tr>\n",
              "    <tr>\n",
              "      <th>27</th>\n",
              "      <td>16189</td>\n",
              "      <td>0275955230</td>\n",
              "      <td>Book</td>\n",
              "      <td>Staffing the Contemporary Organization</td>\n",
              "      <td>662020</td>\n",
              "      <td>5</td>\n",
              "      <td>2</td>\n",
              "      <td>4</td>\n",
              "      <td>16189</td>\n",
              "      <td>1366</td>\n",
              "      <td>1366</td>\n",
              "      <td>B00000I69B</td>\n",
              "      <td>Video</td>\n",
              "      <td>57640</td>\n",
              "      <td>4</td>\n",
              "    </tr>\n",
              "    <tr>\n",
              "      <th>28</th>\n",
              "      <td>151975</td>\n",
              "      <td>B00006IMA0</td>\n",
              "      <td>Music</td>\n",
              "      <td>Everyday</td>\n",
              "      <td>129281</td>\n",
              "      <td>0</td>\n",
              "      <td>1</td>\n",
              "      <td>5</td>\n",
              "      <td>151975</td>\n",
              "      <td>21432</td>\n",
              "      <td>21432</td>\n",
              "      <td>0785799222</td>\n",
              "      <td>Book</td>\n",
              "      <td>2176300</td>\n",
              "      <td>4</td>\n",
              "    </tr>\n",
              "    <tr>\n",
              "      <th>29</th>\n",
              "      <td>16189</td>\n",
              "      <td>0275955230</td>\n",
              "      <td>Book</td>\n",
              "      <td>Staffing the Contemporary Organization</td>\n",
              "      <td>662020</td>\n",
              "      <td>5</td>\n",
              "      <td>2</td>\n",
              "      <td>4</td>\n",
              "      <td>16189</td>\n",
              "      <td>772</td>\n",
              "      <td>772</td>\n",
              "      <td>B00000DCXD</td>\n",
              "      <td>Music</td>\n",
              "      <td>104471</td>\n",
              "      <td>4</td>\n",
              "    </tr>\n",
              "    <tr>\n",
              "      <th>30</th>\n",
              "      <td>74019</td>\n",
              "      <td>6305047480</td>\n",
              "      <td>DVD</td>\n",
              "      <td>New Jack City</td>\n",
              "      <td>5112</td>\n",
              "      <td>5</td>\n",
              "      <td>41</td>\n",
              "      <td>4</td>\n",
              "      <td>74019</td>\n",
              "      <td>57127</td>\n",
              "      <td>57127</td>\n",
              "      <td>0971595720</td>\n",
              "      <td>Book</td>\n",
              "      <td>773746</td>\n",
              "      <td>4</td>\n",
              "    </tr>\n",
              "    <tr>\n",
              "      <th>31</th>\n",
              "      <td>2659</td>\n",
              "      <td>0683017233</td>\n",
              "      <td>Book</td>\n",
              "      <td>Anatomy</td>\n",
              "      <td>533053</td>\n",
              "      <td>5</td>\n",
              "      <td>7</td>\n",
              "      <td>5</td>\n",
              "      <td>2659</td>\n",
              "      <td>4203</td>\n",
              "      <td>4203</td>\n",
              "      <td>0786928867</td>\n",
              "      <td>Book</td>\n",
              "      <td>962</td>\n",
              "      <td>3</td>\n",
              "    </tr>\n",
              "    <tr>\n",
              "      <th>32</th>\n",
              "      <td>151975</td>\n",
              "      <td>B00006IMA0</td>\n",
              "      <td>Music</td>\n",
              "      <td>Everyday</td>\n",
              "      <td>129281</td>\n",
              "      <td>0</td>\n",
              "      <td>1</td>\n",
              "      <td>5</td>\n",
              "      <td>151975</td>\n",
              "      <td>100382</td>\n",
              "      <td>100382</td>\n",
              "      <td>0140491864</td>\n",
              "      <td>Book</td>\n",
              "      <td>186240</td>\n",
              "      <td>0</td>\n",
              "    </tr>\n",
              "    <tr>\n",
              "      <th>33</th>\n",
              "      <td>13086</td>\n",
              "      <td>0312180845</td>\n",
              "      <td>Book</td>\n",
              "      <td>The Devil's Hunt</td>\n",
              "      <td>509335</td>\n",
              "      <td>5</td>\n",
              "      <td>3</td>\n",
              "      <td>5</td>\n",
              "      <td>13086</td>\n",
              "      <td>4375</td>\n",
              "      <td>4375</td>\n",
              "      <td>157954729X</td>\n",
              "      <td>Book</td>\n",
              "      <td>516316</td>\n",
              "      <td>3</td>\n",
              "    </tr>\n",
              "    <tr>\n",
              "      <th>34</th>\n",
              "      <td>13086</td>\n",
              "      <td>0312180845</td>\n",
              "      <td>Book</td>\n",
              "      <td>The Devil's Hunt</td>\n",
              "      <td>509335</td>\n",
              "      <td>5</td>\n",
              "      <td>3</td>\n",
              "      <td>5</td>\n",
              "      <td>13086</td>\n",
              "      <td>3281</td>\n",
              "      <td>3281</td>\n",
              "      <td>0314102493</td>\n",
              "      <td>Book</td>\n",
              "      <td>1125804</td>\n",
              "      <td>0</td>\n",
              "    </tr>\n",
              "    <tr>\n",
              "      <th>35</th>\n",
              "      <td>151975</td>\n",
              "      <td>B00006IMA0</td>\n",
              "      <td>Music</td>\n",
              "      <td>Everyday</td>\n",
              "      <td>129281</td>\n",
              "      <td>0</td>\n",
              "      <td>1</td>\n",
              "      <td>5</td>\n",
              "      <td>151975</td>\n",
              "      <td>16047</td>\n",
              "      <td>16047</td>\n",
              "      <td>0664253830</td>\n",
              "      <td>Book</td>\n",
              "      <td>429890</td>\n",
              "      <td>0</td>\n",
              "    </tr>\n",
              "    <tr>\n",
              "      <th>36</th>\n",
              "      <td>102124</td>\n",
              "      <td>0439060311</td>\n",
              "      <td>Book</td>\n",
              "      <td>Betrayal (2099)</td>\n",
              "      <td>572499</td>\n",
              "      <td>5</td>\n",
              "      <td>6</td>\n",
              "      <td>4</td>\n",
              "      <td>102124</td>\n",
              "      <td>132262</td>\n",
              "      <td>132262</td>\n",
              "      <td>1577852877</td>\n",
              "      <td>Book</td>\n",
              "      <td>1777632</td>\n",
              "      <td>0</td>\n",
              "    </tr>\n",
              "    <tr>\n",
              "      <th>37</th>\n",
              "      <td>2659</td>\n",
              "      <td>0683017233</td>\n",
              "      <td>Book</td>\n",
              "      <td>Anatomy</td>\n",
              "      <td>533053</td>\n",
              "      <td>5</td>\n",
              "      <td>7</td>\n",
              "      <td>5</td>\n",
              "      <td>2659</td>\n",
              "      <td>4201</td>\n",
              "      <td>4201</td>\n",
              "      <td>0933821220</td>\n",
              "      <td>Book</td>\n",
              "      <td>1280758</td>\n",
              "      <td>1</td>\n",
              "    </tr>\n",
              "    <tr>\n",
              "      <th>38</th>\n",
              "      <td>243397</td>\n",
              "      <td>B00004TXTU</td>\n",
              "      <td>Music</td>\n",
              "      <td>Home</td>\n",
              "      <td>465394</td>\n",
              "      <td>0</td>\n",
              "      <td>0</td>\n",
              "      <td>0</td>\n",
              "      <td>243397</td>\n",
              "      <td>107857</td>\n",
              "      <td>107857</td>\n",
              "      <td>0425192903</td>\n",
              "      <td>Book</td>\n",
              "      <td>212915</td>\n",
              "      <td>4</td>\n",
              "    </tr>\n",
              "    <tr>\n",
              "      <th>39</th>\n",
              "      <td>25335</td>\n",
              "      <td>1561840033</td>\n",
              "      <td>Book</td>\n",
              "      <td>Cosmic Trigger I</td>\n",
              "      <td>46251</td>\n",
              "      <td>5</td>\n",
              "      <td>38</td>\n",
              "      <td>4</td>\n",
              "      <td>25335</td>\n",
              "      <td>28458</td>\n",
              "      <td>28458</td>\n",
              "      <td>1582791139</td>\n",
              "      <td>Book</td>\n",
              "      <td>1052192</td>\n",
              "      <td>0</td>\n",
              "    </tr>\n",
              "    <tr>\n",
              "      <th>40</th>\n",
              "      <td>102124</td>\n",
              "      <td>0439060311</td>\n",
              "      <td>Book</td>\n",
              "      <td>Betrayal (2099)</td>\n",
              "      <td>572499</td>\n",
              "      <td>5</td>\n",
              "      <td>6</td>\n",
              "      <td>4</td>\n",
              "      <td>102124</td>\n",
              "      <td>89856</td>\n",
              "      <td>89856</td>\n",
              "      <td>1563896753</td>\n",
              "      <td>Book</td>\n",
              "      <td>139690</td>\n",
              "      <td>4</td>\n",
              "    </tr>\n",
              "    <tr>\n",
              "      <th>41</th>\n",
              "      <td>119081</td>\n",
              "      <td>0451181468</td>\n",
              "      <td>Book</td>\n",
              "      <td>Praying for Sleep</td>\n",
              "      <td>397061</td>\n",
              "      <td>5</td>\n",
              "      <td>0</td>\n",
              "      <td>0</td>\n",
              "      <td>119081</td>\n",
              "      <td>84996</td>\n",
              "      <td>84996</td>\n",
              "      <td>B000059TPC</td>\n",
              "      <td>Video</td>\n",
              "      <td>105437</td>\n",
              "      <td>4</td>\n",
              "    </tr>\n",
              "    <tr>\n",
              "      <th>42</th>\n",
              "      <td>151975</td>\n",
              "      <td>B00006IMA0</td>\n",
              "      <td>Music</td>\n",
              "      <td>Everyday</td>\n",
              "      <td>129281</td>\n",
              "      <td>0</td>\n",
              "      <td>1</td>\n",
              "      <td>5</td>\n",
              "      <td>151975</td>\n",
              "      <td>18489</td>\n",
              "      <td>18489</td>\n",
              "      <td>068971744X</td>\n",
              "      <td>Book</td>\n",
              "      <td>145956</td>\n",
              "      <td>4</td>\n",
              "    </tr>\n",
              "    <tr>\n",
              "      <th>43</th>\n",
              "      <td>2659</td>\n",
              "      <td>0683017233</td>\n",
              "      <td>Book</td>\n",
              "      <td>Anatomy</td>\n",
              "      <td>533053</td>\n",
              "      <td>5</td>\n",
              "      <td>7</td>\n",
              "      <td>5</td>\n",
              "      <td>2659</td>\n",
              "      <td>4202</td>\n",
              "      <td>4202</td>\n",
              "      <td>157110089X</td>\n",
              "      <td>Book</td>\n",
              "      <td>1368</td>\n",
              "      <td>4</td>\n",
              "    </tr>\n",
              "    <tr>\n",
              "      <th>44</th>\n",
              "      <td>243397</td>\n",
              "      <td>B00004TXTU</td>\n",
              "      <td>Music</td>\n",
              "      <td>Home</td>\n",
              "      <td>465394</td>\n",
              "      <td>0</td>\n",
              "      <td>0</td>\n",
              "      <td>0</td>\n",
              "      <td>243397</td>\n",
              "      <td>231496</td>\n",
              "      <td>231496</td>\n",
              "      <td>B00000DAN6</td>\n",
              "      <td>Music</td>\n",
              "      <td>309263</td>\n",
              "      <td>0</td>\n",
              "    </tr>\n",
              "    <tr>\n",
              "      <th>45</th>\n",
              "      <td>74019</td>\n",
              "      <td>6305047480</td>\n",
              "      <td>DVD</td>\n",
              "      <td>New Jack City</td>\n",
              "      <td>5112</td>\n",
              "      <td>5</td>\n",
              "      <td>41</td>\n",
              "      <td>4</td>\n",
              "      <td>74019</td>\n",
              "      <td>26533</td>\n",
              "      <td>26533</td>\n",
              "      <td>076313709X</td>\n",
              "      <td>Book</td>\n",
              "      <td>1784069</td>\n",
              "      <td>0</td>\n",
              "    </tr>\n",
              "    <tr>\n",
              "      <th>46</th>\n",
              "      <td>128758</td>\n",
              "      <td>B00008DDX0</td>\n",
              "      <td>DVD</td>\n",
              "      <td>Pete's a Pizza... and More William Steig Stori...</td>\n",
              "      <td>19428</td>\n",
              "      <td>5</td>\n",
              "      <td>0</td>\n",
              "      <td>0</td>\n",
              "      <td>128758</td>\n",
              "      <td>177942</td>\n",
              "      <td>177942</td>\n",
              "      <td>0688141927</td>\n",
              "      <td>Book</td>\n",
              "      <td>554848</td>\n",
              "      <td>4</td>\n",
              "    </tr>\n",
              "    <tr>\n",
              "      <th>47</th>\n",
              "      <td>13086</td>\n",
              "      <td>0312180845</td>\n",
              "      <td>Book</td>\n",
              "      <td>The Devil's Hunt</td>\n",
              "      <td>509335</td>\n",
              "      <td>5</td>\n",
              "      <td>3</td>\n",
              "      <td>5</td>\n",
              "      <td>13086</td>\n",
              "      <td>30830</td>\n",
              "      <td>30830</td>\n",
              "      <td>B00004Z43T</td>\n",
              "      <td>Music</td>\n",
              "      <td>180182</td>\n",
              "      <td>4</td>\n",
              "    </tr>\n",
              "    <tr>\n",
              "      <th>48</th>\n",
              "      <td>119081</td>\n",
              "      <td>0451181468</td>\n",
              "      <td>Book</td>\n",
              "      <td>Praying for Sleep</td>\n",
              "      <td>397061</td>\n",
              "      <td>5</td>\n",
              "      <td>0</td>\n",
              "      <td>0</td>\n",
              "      <td>119081</td>\n",
              "      <td>12516</td>\n",
              "      <td>12516</td>\n",
              "      <td>2067004204</td>\n",
              "      <td>Book</td>\n",
              "      <td>470647</td>\n",
              "      <td>0</td>\n",
              "    </tr>\n",
              "    <tr>\n",
              "      <th>49</th>\n",
              "      <td>151975</td>\n",
              "      <td>B00006IMA0</td>\n",
              "      <td>Music</td>\n",
              "      <td>Everyday</td>\n",
              "      <td>129281</td>\n",
              "      <td>0</td>\n",
              "      <td>1</td>\n",
              "      <td>5</td>\n",
              "      <td>151975</td>\n",
              "      <td>159739</td>\n",
              "      <td>159739</td>\n",
              "      <td>0375400095</td>\n",
              "      <td>Book</td>\n",
              "      <td>497032</td>\n",
              "      <td>3</td>\n",
              "    </tr>\n",
              "  </tbody>\n",
              "</table>\n",
              "</div>"
            ],
            "text/plain": [
              "        ID        ASIN  group  ... group2  sales_rank2  avg_rating2\n",
              "0   119081  0451181468   Book  ...   Book       306956            5\n",
              "1   128758  B00008DDX0    DVD  ...   Book        23239            4\n",
              "2   243397  B00004TXTU  Music  ...   Book        77751            4\n",
              "3    16189  0275955230   Book  ...  Video        23333            4\n",
              "4   243397  B00004TXTU  Music  ...   Book       514509            3\n",
              "5    13086  0312180845   Book  ...  Music       196579            4\n",
              "6   119081  0451181468   Book  ...   Book       435438            3\n",
              "7   128758  B00008DDX0    DVD  ...   Book       352627            3\n",
              "8    74019  6305047480    DVD  ...   Book       652660            5\n",
              "9   128758  B00008DDX0    DVD  ...   Book      1281997            0\n",
              "10   16189  0275955230   Book  ...  Music       425340            0\n",
              "11  119081  0451181468   Book  ...   Book      1815111            0\n",
              "12   25335  1561840033   Book  ...   Book      1295406            0\n",
              "13  128758  B00008DDX0    DVD  ...  Music        71081            4\n",
              "14  243397  B00004TXTU  Music  ...   Book       623988            0\n",
              "15    2659  0683017233   Book  ...  Music       105125            5\n",
              "16   25335  1561840033   Book  ...   Book        65761            5\n",
              "17   16189  0275955230   Book  ...  Video         7343            4\n",
              "18  102124  0439060311   Book  ...   Book      1352328            0\n",
              "19   74019  6305047480    DVD  ...  Music       264054            5\n",
              "20   25335  1561840033   Book  ...  Music        48620            3\n",
              "21   13086  0312180845   Book  ...  Music        48620            3\n",
              "22  102124  0439060311   Book  ...   Book      1274489            0\n",
              "23  102124  0439060311   Book  ...   Book       880989            2\n",
              "24   74019  6305047480    DVD  ...   Book       587228            4\n",
              "25   25335  1561840033   Book  ...   Book       868001            5\n",
              "26    2659  0683017233   Book  ...   Book        52697            0\n",
              "27   16189  0275955230   Book  ...  Video        57640            4\n",
              "28  151975  B00006IMA0  Music  ...   Book      2176300            4\n",
              "29   16189  0275955230   Book  ...  Music       104471            4\n",
              "30   74019  6305047480    DVD  ...   Book       773746            4\n",
              "31    2659  0683017233   Book  ...   Book          962            3\n",
              "32  151975  B00006IMA0  Music  ...   Book       186240            0\n",
              "33   13086  0312180845   Book  ...   Book       516316            3\n",
              "34   13086  0312180845   Book  ...   Book      1125804            0\n",
              "35  151975  B00006IMA0  Music  ...   Book       429890            0\n",
              "36  102124  0439060311   Book  ...   Book      1777632            0\n",
              "37    2659  0683017233   Book  ...   Book      1280758            1\n",
              "38  243397  B00004TXTU  Music  ...   Book       212915            4\n",
              "39   25335  1561840033   Book  ...   Book      1052192            0\n",
              "40  102124  0439060311   Book  ...   Book       139690            4\n",
              "41  119081  0451181468   Book  ...  Video       105437            4\n",
              "42  151975  B00006IMA0  Music  ...   Book       145956            4\n",
              "43    2659  0683017233   Book  ...   Book         1368            4\n",
              "44  243397  B00004TXTU  Music  ...  Music       309263            0\n",
              "45   74019  6305047480    DVD  ...   Book      1784069            0\n",
              "46  128758  B00008DDX0    DVD  ...   Book       554848            4\n",
              "47   13086  0312180845   Book  ...  Music       180182            4\n",
              "48  119081  0451181468   Book  ...   Book       470647            0\n",
              "49  151975  B00006IMA0  Music  ...   Book       497032            3\n",
              "\n",
              "[50 rows x 15 columns]"
            ]
          },
          "metadata": {
            "tags": []
          },
          "execution_count": 115
        }
      ]
    },
    {
      "cell_type": "code",
      "metadata": {
        "id": "rq75F9uMx5j0"
      },
      "source": [
        ""
      ],
      "execution_count": null,
      "outputs": []
    },
    {
      "cell_type": "markdown",
      "metadata": {
        "id": "8himwx-ZJX3X"
      },
      "source": [
        "\n",
        "## Proposed extensions <a name='9'></a>\n",
        "#### 1.  Using Node attributes\n",
        "#### 2. Community detection \n",
        "#### 3. Location of category can be used as a ontology\n",
        "#### 4. Similarity score on title,category-name,Authors\n",
        "#### 5. Collaborative filtering using customer information"
      ]
    },
    {
      "cell_type": "code",
      "metadata": {
        "id": "z8Q8TXGvzTps"
      },
      "source": [
        ""
      ],
      "execution_count": null,
      "outputs": []
    }
  ]
}